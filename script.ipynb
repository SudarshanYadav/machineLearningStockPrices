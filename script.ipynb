{
 "cells": [
  {
   "cell_type": "markdown",
   "metadata": {},
   "source": [
    "## Import Necessary Libraries"
   ]
  },
  {
   "cell_type": "code",
   "execution_count": 1,
   "metadata": {},
   "outputs": [
    {
     "data": {
      "text/html": [
       "\n",
       "    <div class=\"bk-root\">\n",
       "        <a href=\"https://bokeh.pydata.org\" target=\"_blank\" class=\"bk-logo bk-logo-small bk-logo-notebook\"></a>\n",
       "        <span id=\"dcbc140a-5b70-4427-bca6-43fa414a7734\">Loading BokehJS ...</span>\n",
       "    </div>"
      ]
     },
     "metadata": {},
     "output_type": "display_data"
    },
    {
     "data": {
      "application/javascript": [
       "\n",
       "(function(root) {\n",
       "  function now() {\n",
       "    return new Date();\n",
       "  }\n",
       "\n",
       "  var force = true;\n",
       "\n",
       "  if (typeof (root._bokeh_onload_callbacks) === \"undefined\" || force === true) {\n",
       "    root._bokeh_onload_callbacks = [];\n",
       "    root._bokeh_is_loading = undefined;\n",
       "  }\n",
       "\n",
       "  var JS_MIME_TYPE = 'application/javascript';\n",
       "  var HTML_MIME_TYPE = 'text/html';\n",
       "  var EXEC_MIME_TYPE = 'application/vnd.bokehjs_exec.v0+json';\n",
       "  var CLASS_NAME = 'output_bokeh rendered_html';\n",
       "\n",
       "  /**\n",
       "   * Render data to the DOM node\n",
       "   */\n",
       "  function render(props, node) {\n",
       "    var script = document.createElement(\"script\");\n",
       "    node.appendChild(script);\n",
       "  }\n",
       "\n",
       "  /**\n",
       "   * Handle when an output is cleared or removed\n",
       "   */\n",
       "  function handleClearOutput(event, handle) {\n",
       "    var cell = handle.cell;\n",
       "\n",
       "    var id = cell.output_area._bokeh_element_id;\n",
       "    var server_id = cell.output_area._bokeh_server_id;\n",
       "    // Clean up Bokeh references\n",
       "    if (id != null && id in Bokeh.index) {\n",
       "      Bokeh.index[id].model.document.clear();\n",
       "      delete Bokeh.index[id];\n",
       "    }\n",
       "\n",
       "    if (server_id !== undefined) {\n",
       "      // Clean up Bokeh references\n",
       "      var cmd = \"from bokeh.io.state import curstate; print(curstate().uuid_to_server['\" + server_id + \"'].get_sessions()[0].document.roots[0]._id)\";\n",
       "      cell.notebook.kernel.execute(cmd, {\n",
       "        iopub: {\n",
       "          output: function(msg) {\n",
       "            var id = msg.content.text.trim();\n",
       "            if (id in Bokeh.index) {\n",
       "              Bokeh.index[id].model.document.clear();\n",
       "              delete Bokeh.index[id];\n",
       "            }\n",
       "          }\n",
       "        }\n",
       "      });\n",
       "      // Destroy server and session\n",
       "      var cmd = \"import bokeh.io.notebook as ion; ion.destroy_server('\" + server_id + \"')\";\n",
       "      cell.notebook.kernel.execute(cmd);\n",
       "    }\n",
       "  }\n",
       "\n",
       "  /**\n",
       "   * Handle when a new output is added\n",
       "   */\n",
       "  function handleAddOutput(event, handle) {\n",
       "    var output_area = handle.output_area;\n",
       "    var output = handle.output;\n",
       "\n",
       "    // limit handleAddOutput to display_data with EXEC_MIME_TYPE content only\n",
       "    if ((output.output_type != \"display_data\") || (!output.data.hasOwnProperty(EXEC_MIME_TYPE))) {\n",
       "      return\n",
       "    }\n",
       "\n",
       "    var toinsert = output_area.element.find(\".\" + CLASS_NAME.split(' ')[0]);\n",
       "\n",
       "    if (output.metadata[EXEC_MIME_TYPE][\"id\"] !== undefined) {\n",
       "      toinsert[toinsert.length - 1].firstChild.textContent = output.data[JS_MIME_TYPE];\n",
       "      // store reference to embed id on output_area\n",
       "      output_area._bokeh_element_id = output.metadata[EXEC_MIME_TYPE][\"id\"];\n",
       "    }\n",
       "    if (output.metadata[EXEC_MIME_TYPE][\"server_id\"] !== undefined) {\n",
       "      var bk_div = document.createElement(\"div\");\n",
       "      bk_div.innerHTML = output.data[HTML_MIME_TYPE];\n",
       "      var script_attrs = bk_div.children[0].attributes;\n",
       "      for (var i = 0; i < script_attrs.length; i++) {\n",
       "        toinsert[toinsert.length - 1].firstChild.setAttribute(script_attrs[i].name, script_attrs[i].value);\n",
       "      }\n",
       "      // store reference to server id on output_area\n",
       "      output_area._bokeh_server_id = output.metadata[EXEC_MIME_TYPE][\"server_id\"];\n",
       "    }\n",
       "  }\n",
       "\n",
       "  function register_renderer(events, OutputArea) {\n",
       "\n",
       "    function append_mime(data, metadata, element) {\n",
       "      // create a DOM node to render to\n",
       "      var toinsert = this.create_output_subarea(\n",
       "        metadata,\n",
       "        CLASS_NAME,\n",
       "        EXEC_MIME_TYPE\n",
       "      );\n",
       "      this.keyboard_manager.register_events(toinsert);\n",
       "      // Render to node\n",
       "      var props = {data: data, metadata: metadata[EXEC_MIME_TYPE]};\n",
       "      render(props, toinsert[toinsert.length - 1]);\n",
       "      element.append(toinsert);\n",
       "      return toinsert\n",
       "    }\n",
       "\n",
       "    /* Handle when an output is cleared or removed */\n",
       "    events.on('clear_output.CodeCell', handleClearOutput);\n",
       "    events.on('delete.Cell', handleClearOutput);\n",
       "\n",
       "    /* Handle when a new output is added */\n",
       "    events.on('output_added.OutputArea', handleAddOutput);\n",
       "\n",
       "    /**\n",
       "     * Register the mime type and append_mime function with output_area\n",
       "     */\n",
       "    OutputArea.prototype.register_mime_type(EXEC_MIME_TYPE, append_mime, {\n",
       "      /* Is output safe? */\n",
       "      safe: true,\n",
       "      /* Index of renderer in `output_area.display_order` */\n",
       "      index: 0\n",
       "    });\n",
       "  }\n",
       "\n",
       "  // register the mime type if in Jupyter Notebook environment and previously unregistered\n",
       "  if (root.Jupyter !== undefined) {\n",
       "    var events = require('base/js/events');\n",
       "    var OutputArea = require('notebook/js/outputarea').OutputArea;\n",
       "\n",
       "    if (OutputArea.prototype.mime_types().indexOf(EXEC_MIME_TYPE) == -1) {\n",
       "      register_renderer(events, OutputArea);\n",
       "    }\n",
       "  }\n",
       "\n",
       "  \n",
       "  if (typeof (root._bokeh_timeout) === \"undefined\" || force === true) {\n",
       "    root._bokeh_timeout = Date.now() + 5000;\n",
       "    root._bokeh_failed_load = false;\n",
       "  }\n",
       "\n",
       "  var NB_LOAD_WARNING = {'data': {'text/html':\n",
       "     \"<div style='background-color: #fdd'>\\n\"+\n",
       "     \"<p>\\n\"+\n",
       "     \"BokehJS does not appear to have successfully loaded. If loading BokehJS from CDN, this \\n\"+\n",
       "     \"may be due to a slow or bad network connection. Possible fixes:\\n\"+\n",
       "     \"</p>\\n\"+\n",
       "     \"<ul>\\n\"+\n",
       "     \"<li>re-rerun `output_notebook()` to attempt to load from CDN again, or</li>\\n\"+\n",
       "     \"<li>use INLINE resources instead, as so:</li>\\n\"+\n",
       "     \"</ul>\\n\"+\n",
       "     \"<code>\\n\"+\n",
       "     \"from bokeh.resources import INLINE\\n\"+\n",
       "     \"output_notebook(resources=INLINE)\\n\"+\n",
       "     \"</code>\\n\"+\n",
       "     \"</div>\"}};\n",
       "\n",
       "  function display_loaded() {\n",
       "    var el = document.getElementById(\"dcbc140a-5b70-4427-bca6-43fa414a7734\");\n",
       "    if (el != null) {\n",
       "      el.textContent = \"BokehJS is loading...\";\n",
       "    }\n",
       "    if (root.Bokeh !== undefined) {\n",
       "      if (el != null) {\n",
       "        el.textContent = \"BokehJS \" + root.Bokeh.version + \" successfully loaded.\";\n",
       "      }\n",
       "    } else if (Date.now() < root._bokeh_timeout) {\n",
       "      setTimeout(display_loaded, 100)\n",
       "    }\n",
       "  }\n",
       "\n",
       "\n",
       "  function run_callbacks() {\n",
       "    try {\n",
       "      root._bokeh_onload_callbacks.forEach(function(callback) { callback() });\n",
       "    }\n",
       "    finally {\n",
       "      delete root._bokeh_onload_callbacks\n",
       "    }\n",
       "    console.info(\"Bokeh: all callbacks have finished\");\n",
       "  }\n",
       "\n",
       "  function load_libs(js_urls, callback) {\n",
       "    root._bokeh_onload_callbacks.push(callback);\n",
       "    if (root._bokeh_is_loading > 0) {\n",
       "      console.log(\"Bokeh: BokehJS is being loaded, scheduling callback at\", now());\n",
       "      return null;\n",
       "    }\n",
       "    if (js_urls == null || js_urls.length === 0) {\n",
       "      run_callbacks();\n",
       "      return null;\n",
       "    }\n",
       "    console.log(\"Bokeh: BokehJS not loaded, scheduling load and callback at\", now());\n",
       "    root._bokeh_is_loading = js_urls.length;\n",
       "    for (var i = 0; i < js_urls.length; i++) {\n",
       "      var url = js_urls[i];\n",
       "      var s = document.createElement('script');\n",
       "      s.src = url;\n",
       "      s.async = false;\n",
       "      s.onreadystatechange = s.onload = function() {\n",
       "        root._bokeh_is_loading--;\n",
       "        if (root._bokeh_is_loading === 0) {\n",
       "          console.log(\"Bokeh: all BokehJS libraries loaded\");\n",
       "          run_callbacks()\n",
       "        }\n",
       "      };\n",
       "      s.onerror = function() {\n",
       "        console.warn(\"failed to load library \" + url);\n",
       "      };\n",
       "      console.log(\"Bokeh: injecting script tag for BokehJS library: \", url);\n",
       "      document.getElementsByTagName(\"head\")[0].appendChild(s);\n",
       "    }\n",
       "  };var element = document.getElementById(\"dcbc140a-5b70-4427-bca6-43fa414a7734\");\n",
       "  if (element == null) {\n",
       "    console.log(\"Bokeh: ERROR: autoload.js configured with elementid 'dcbc140a-5b70-4427-bca6-43fa414a7734' but no matching script tag was found. \")\n",
       "    return false;\n",
       "  }\n",
       "\n",
       "  var js_urls = [\"https://cdn.pydata.org/bokeh/release/bokeh-0.13.0.min.js\", \"https://cdn.pydata.org/bokeh/release/bokeh-widgets-0.13.0.min.js\", \"https://cdn.pydata.org/bokeh/release/bokeh-tables-0.13.0.min.js\", \"https://cdn.pydata.org/bokeh/release/bokeh-gl-0.13.0.min.js\"];\n",
       "\n",
       "  var inline_js = [\n",
       "    function(Bokeh) {\n",
       "      Bokeh.set_log_level(\"info\");\n",
       "    },\n",
       "    \n",
       "    function(Bokeh) {\n",
       "      \n",
       "    },\n",
       "    function(Bokeh) {\n",
       "      console.log(\"Bokeh: injecting CSS: https://cdn.pydata.org/bokeh/release/bokeh-0.13.0.min.css\");\n",
       "      Bokeh.embed.inject_css(\"https://cdn.pydata.org/bokeh/release/bokeh-0.13.0.min.css\");\n",
       "      console.log(\"Bokeh: injecting CSS: https://cdn.pydata.org/bokeh/release/bokeh-widgets-0.13.0.min.css\");\n",
       "      Bokeh.embed.inject_css(\"https://cdn.pydata.org/bokeh/release/bokeh-widgets-0.13.0.min.css\");\n",
       "      console.log(\"Bokeh: injecting CSS: https://cdn.pydata.org/bokeh/release/bokeh-tables-0.13.0.min.css\");\n",
       "      Bokeh.embed.inject_css(\"https://cdn.pydata.org/bokeh/release/bokeh-tables-0.13.0.min.css\");\n",
       "    }\n",
       "  ];\n",
       "\n",
       "  function run_inline_js() {\n",
       "    \n",
       "    if ((root.Bokeh !== undefined) || (force === true)) {\n",
       "      for (var i = 0; i < inline_js.length; i++) {\n",
       "        inline_js[i].call(root, root.Bokeh);\n",
       "      }if (force === true) {\n",
       "        display_loaded();\n",
       "      }} else if (Date.now() < root._bokeh_timeout) {\n",
       "      setTimeout(run_inline_js, 100);\n",
       "    } else if (!root._bokeh_failed_load) {\n",
       "      console.log(\"Bokeh: BokehJS failed to load within specified timeout.\");\n",
       "      root._bokeh_failed_load = true;\n",
       "    } else if (force !== true) {\n",
       "      var cell = $(document.getElementById(\"dcbc140a-5b70-4427-bca6-43fa414a7734\")).parents('.cell').data().cell;\n",
       "      cell.output_area.append_execute_result(NB_LOAD_WARNING)\n",
       "    }\n",
       "\n",
       "  }\n",
       "\n",
       "  if (root._bokeh_is_loading === 0) {\n",
       "    console.log(\"Bokeh: BokehJS loaded, going straight to plotting\");\n",
       "    run_inline_js();\n",
       "  } else {\n",
       "    load_libs(js_urls, function() {\n",
       "      console.log(\"Bokeh: BokehJS plotting callback run at\", now());\n",
       "      run_inline_js();\n",
       "    });\n",
       "  }\n",
       "}(window));"
      ],
      "application/vnd.bokehjs_load.v0+json": "\n(function(root) {\n  function now() {\n    return new Date();\n  }\n\n  var force = true;\n\n  if (typeof (root._bokeh_onload_callbacks) === \"undefined\" || force === true) {\n    root._bokeh_onload_callbacks = [];\n    root._bokeh_is_loading = undefined;\n  }\n\n  \n\n  \n  if (typeof (root._bokeh_timeout) === \"undefined\" || force === true) {\n    root._bokeh_timeout = Date.now() + 5000;\n    root._bokeh_failed_load = false;\n  }\n\n  var NB_LOAD_WARNING = {'data': {'text/html':\n     \"<div style='background-color: #fdd'>\\n\"+\n     \"<p>\\n\"+\n     \"BokehJS does not appear to have successfully loaded. If loading BokehJS from CDN, this \\n\"+\n     \"may be due to a slow or bad network connection. Possible fixes:\\n\"+\n     \"</p>\\n\"+\n     \"<ul>\\n\"+\n     \"<li>re-rerun `output_notebook()` to attempt to load from CDN again, or</li>\\n\"+\n     \"<li>use INLINE resources instead, as so:</li>\\n\"+\n     \"</ul>\\n\"+\n     \"<code>\\n\"+\n     \"from bokeh.resources import INLINE\\n\"+\n     \"output_notebook(resources=INLINE)\\n\"+\n     \"</code>\\n\"+\n     \"</div>\"}};\n\n  function display_loaded() {\n    var el = document.getElementById(\"dcbc140a-5b70-4427-bca6-43fa414a7734\");\n    if (el != null) {\n      el.textContent = \"BokehJS is loading...\";\n    }\n    if (root.Bokeh !== undefined) {\n      if (el != null) {\n        el.textContent = \"BokehJS \" + root.Bokeh.version + \" successfully loaded.\";\n      }\n    } else if (Date.now() < root._bokeh_timeout) {\n      setTimeout(display_loaded, 100)\n    }\n  }\n\n\n  function run_callbacks() {\n    try {\n      root._bokeh_onload_callbacks.forEach(function(callback) { callback() });\n    }\n    finally {\n      delete root._bokeh_onload_callbacks\n    }\n    console.info(\"Bokeh: all callbacks have finished\");\n  }\n\n  function load_libs(js_urls, callback) {\n    root._bokeh_onload_callbacks.push(callback);\n    if (root._bokeh_is_loading > 0) {\n      console.log(\"Bokeh: BokehJS is being loaded, scheduling callback at\", now());\n      return null;\n    }\n    if (js_urls == null || js_urls.length === 0) {\n      run_callbacks();\n      return null;\n    }\n    console.log(\"Bokeh: BokehJS not loaded, scheduling load and callback at\", now());\n    root._bokeh_is_loading = js_urls.length;\n    for (var i = 0; i < js_urls.length; i++) {\n      var url = js_urls[i];\n      var s = document.createElement('script');\n      s.src = url;\n      s.async = false;\n      s.onreadystatechange = s.onload = function() {\n        root._bokeh_is_loading--;\n        if (root._bokeh_is_loading === 0) {\n          console.log(\"Bokeh: all BokehJS libraries loaded\");\n          run_callbacks()\n        }\n      };\n      s.onerror = function() {\n        console.warn(\"failed to load library \" + url);\n      };\n      console.log(\"Bokeh: injecting script tag for BokehJS library: \", url);\n      document.getElementsByTagName(\"head\")[0].appendChild(s);\n    }\n  };var element = document.getElementById(\"dcbc140a-5b70-4427-bca6-43fa414a7734\");\n  if (element == null) {\n    console.log(\"Bokeh: ERROR: autoload.js configured with elementid 'dcbc140a-5b70-4427-bca6-43fa414a7734' but no matching script tag was found. \")\n    return false;\n  }\n\n  var js_urls = [\"https://cdn.pydata.org/bokeh/release/bokeh-0.13.0.min.js\", \"https://cdn.pydata.org/bokeh/release/bokeh-widgets-0.13.0.min.js\", \"https://cdn.pydata.org/bokeh/release/bokeh-tables-0.13.0.min.js\", \"https://cdn.pydata.org/bokeh/release/bokeh-gl-0.13.0.min.js\"];\n\n  var inline_js = [\n    function(Bokeh) {\n      Bokeh.set_log_level(\"info\");\n    },\n    \n    function(Bokeh) {\n      \n    },\n    function(Bokeh) {\n      console.log(\"Bokeh: injecting CSS: https://cdn.pydata.org/bokeh/release/bokeh-0.13.0.min.css\");\n      Bokeh.embed.inject_css(\"https://cdn.pydata.org/bokeh/release/bokeh-0.13.0.min.css\");\n      console.log(\"Bokeh: injecting CSS: https://cdn.pydata.org/bokeh/release/bokeh-widgets-0.13.0.min.css\");\n      Bokeh.embed.inject_css(\"https://cdn.pydata.org/bokeh/release/bokeh-widgets-0.13.0.min.css\");\n      console.log(\"Bokeh: injecting CSS: https://cdn.pydata.org/bokeh/release/bokeh-tables-0.13.0.min.css\");\n      Bokeh.embed.inject_css(\"https://cdn.pydata.org/bokeh/release/bokeh-tables-0.13.0.min.css\");\n    }\n  ];\n\n  function run_inline_js() {\n    \n    if ((root.Bokeh !== undefined) || (force === true)) {\n      for (var i = 0; i < inline_js.length; i++) {\n        inline_js[i].call(root, root.Bokeh);\n      }if (force === true) {\n        display_loaded();\n      }} else if (Date.now() < root._bokeh_timeout) {\n      setTimeout(run_inline_js, 100);\n    } else if (!root._bokeh_failed_load) {\n      console.log(\"Bokeh: BokehJS failed to load within specified timeout.\");\n      root._bokeh_failed_load = true;\n    } else if (force !== true) {\n      var cell = $(document.getElementById(\"dcbc140a-5b70-4427-bca6-43fa414a7734\")).parents('.cell').data().cell;\n      cell.output_area.append_execute_result(NB_LOAD_WARNING)\n    }\n\n  }\n\n  if (root._bokeh_is_loading === 0) {\n    console.log(\"Bokeh: BokehJS loaded, going straight to plotting\");\n    run_inline_js();\n  } else {\n    load_libs(js_urls, function() {\n      console.log(\"Bokeh: BokehJS plotting callback run at\", now());\n      run_inline_js();\n    });\n  }\n}(window));"
     },
     "metadata": {},
     "output_type": "display_data"
    }
   ],
   "source": [
    "import numpy as np\n",
    "import pandas as pd\n",
    "import matplotlib.pyplot as plt\n",
    "import nsepy\n",
    "from datetime import date\n",
    "import matplotlib\n",
    "from bokeh.plotting import figure, output_file, show\n",
    "from bokeh.io import output_notebook\n",
    "import seaborn as sns\n",
    "\n",
    "%matplotlib notebook\n",
    "output_notebook()"
   ]
  },
  {
   "cell_type": "markdown",
   "metadata": {},
   "source": [
    "# Get Data Using NSepy"
   ]
  },
  {
   "cell_type": "code",
   "execution_count": 2,
   "metadata": {
    "scrolled": true
   },
   "outputs": [],
   "source": [
    "## importing data and converting into timeseries \n",
    "\n",
    "tcs = nsepy.get_history(symbol='TCS', start=date(2015,4,1), end=date(2016,3,31))\n",
    "infy = nsepy.get_history(symbol='INFY',start=date(2015,4,1), end=date(2016,3,31))\n",
    "niftyit = nsepy.get_history(symbol=\"NIFTY IT\", start=date(2015,4,1), end=date(2016,3,31), index=True)\n",
    "\n",
    "\n",
    "tcs.index = pd.to_datetime(tcs.index)\n",
    "infy.index = pd.to_datetime(infy.index)\n",
    "niftyit.index = pd.to_datetime(niftyit.index)"
   ]
  },
  {
   "cell_type": "code",
   "execution_count": 3,
   "metadata": {},
   "outputs": [
    {
     "data": {
      "text/html": [
       "<div>\n",
       "<style scoped>\n",
       "    .dataframe tbody tr th:only-of-type {\n",
       "        vertical-align: middle;\n",
       "    }\n",
       "\n",
       "    .dataframe tbody tr th {\n",
       "        vertical-align: top;\n",
       "    }\n",
       "\n",
       "    .dataframe thead th {\n",
       "        text-align: right;\n",
       "    }\n",
       "</style>\n",
       "<table border=\"1\" class=\"dataframe\">\n",
       "  <thead>\n",
       "    <tr style=\"text-align: right;\">\n",
       "      <th></th>\n",
       "      <th>Symbol</th>\n",
       "      <th>Series</th>\n",
       "      <th>Prev Close</th>\n",
       "      <th>Open</th>\n",
       "      <th>High</th>\n",
       "      <th>Low</th>\n",
       "      <th>Last</th>\n",
       "      <th>Close</th>\n",
       "      <th>VWAP</th>\n",
       "      <th>Volume</th>\n",
       "      <th>Turnover</th>\n",
       "      <th>Trades</th>\n",
       "      <th>Deliverable Volume</th>\n",
       "      <th>%Deliverble</th>\n",
       "    </tr>\n",
       "    <tr>\n",
       "      <th>Date</th>\n",
       "      <th></th>\n",
       "      <th></th>\n",
       "      <th></th>\n",
       "      <th></th>\n",
       "      <th></th>\n",
       "      <th></th>\n",
       "      <th></th>\n",
       "      <th></th>\n",
       "      <th></th>\n",
       "      <th></th>\n",
       "      <th></th>\n",
       "      <th></th>\n",
       "      <th></th>\n",
       "      <th></th>\n",
       "    </tr>\n",
       "  </thead>\n",
       "  <tbody>\n",
       "    <tr>\n",
       "      <th>2015-04-01</th>\n",
       "      <td>TCS</td>\n",
       "      <td>EQ</td>\n",
       "      <td>2553.95</td>\n",
       "      <td>2558.00</td>\n",
       "      <td>2563.60</td>\n",
       "      <td>2522.25</td>\n",
       "      <td>2544.05</td>\n",
       "      <td>2542.65</td>\n",
       "      <td>2538.81</td>\n",
       "      <td>1037879</td>\n",
       "      <td>2.634981e+14</td>\n",
       "      <td>54078</td>\n",
       "      <td>784911</td>\n",
       "      <td>0.7563</td>\n",
       "    </tr>\n",
       "    <tr>\n",
       "      <th>2015-04-06</th>\n",
       "      <td>TCS</td>\n",
       "      <td>EQ</td>\n",
       "      <td>2542.65</td>\n",
       "      <td>2558.00</td>\n",
       "      <td>2562.90</td>\n",
       "      <td>2500.10</td>\n",
       "      <td>2548.30</td>\n",
       "      <td>2547.30</td>\n",
       "      <td>2531.53</td>\n",
       "      <td>784271</td>\n",
       "      <td>1.985405e+14</td>\n",
       "      <td>45408</td>\n",
       "      <td>485665</td>\n",
       "      <td>0.6193</td>\n",
       "    </tr>\n",
       "    <tr>\n",
       "      <th>2015-04-07</th>\n",
       "      <td>TCS</td>\n",
       "      <td>EQ</td>\n",
       "      <td>2547.30</td>\n",
       "      <td>2562.45</td>\n",
       "      <td>2599.00</td>\n",
       "      <td>2544.00</td>\n",
       "      <td>2588.95</td>\n",
       "      <td>2585.00</td>\n",
       "      <td>2571.50</td>\n",
       "      <td>943461</td>\n",
       "      <td>2.426111e+14</td>\n",
       "      <td>77106</td>\n",
       "      <td>562689</td>\n",
       "      <td>0.5964</td>\n",
       "    </tr>\n",
       "    <tr>\n",
       "      <th>2015-04-08</th>\n",
       "      <td>TCS</td>\n",
       "      <td>EQ</td>\n",
       "      <td>2585.00</td>\n",
       "      <td>2594.00</td>\n",
       "      <td>2656.50</td>\n",
       "      <td>2590.85</td>\n",
       "      <td>2646.00</td>\n",
       "      <td>2641.40</td>\n",
       "      <td>2632.00</td>\n",
       "      <td>826067</td>\n",
       "      <td>2.174208e+14</td>\n",
       "      <td>61358</td>\n",
       "      <td>496296</td>\n",
       "      <td>0.6008</td>\n",
       "    </tr>\n",
       "    <tr>\n",
       "      <th>2015-04-09</th>\n",
       "      <td>TCS</td>\n",
       "      <td>EQ</td>\n",
       "      <td>2641.40</td>\n",
       "      <td>2659.00</td>\n",
       "      <td>2687.45</td>\n",
       "      <td>2635.15</td>\n",
       "      <td>2662.60</td>\n",
       "      <td>2664.55</td>\n",
       "      <td>2658.35</td>\n",
       "      <td>1272225</td>\n",
       "      <td>3.382018e+14</td>\n",
       "      <td>62583</td>\n",
       "      <td>902143</td>\n",
       "      <td>0.7091</td>\n",
       "    </tr>\n",
       "  </tbody>\n",
       "</table>\n",
       "</div>"
      ],
      "text/plain": [
       "           Symbol Series  Prev Close     Open     High      Low     Last  \\\n",
       "Date                                                                       \n",
       "2015-04-01    TCS     EQ     2553.95  2558.00  2563.60  2522.25  2544.05   \n",
       "2015-04-06    TCS     EQ     2542.65  2558.00  2562.90  2500.10  2548.30   \n",
       "2015-04-07    TCS     EQ     2547.30  2562.45  2599.00  2544.00  2588.95   \n",
       "2015-04-08    TCS     EQ     2585.00  2594.00  2656.50  2590.85  2646.00   \n",
       "2015-04-09    TCS     EQ     2641.40  2659.00  2687.45  2635.15  2662.60   \n",
       "\n",
       "              Close     VWAP   Volume      Turnover  Trades  \\\n",
       "Date                                                          \n",
       "2015-04-01  2542.65  2538.81  1037879  2.634981e+14   54078   \n",
       "2015-04-06  2547.30  2531.53   784271  1.985405e+14   45408   \n",
       "2015-04-07  2585.00  2571.50   943461  2.426111e+14   77106   \n",
       "2015-04-08  2641.40  2632.00   826067  2.174208e+14   61358   \n",
       "2015-04-09  2664.55  2658.35  1272225  3.382018e+14   62583   \n",
       "\n",
       "            Deliverable Volume  %Deliverble  \n",
       "Date                                         \n",
       "2015-04-01              784911       0.7563  \n",
       "2015-04-06              485665       0.6193  \n",
       "2015-04-07              562689       0.5964  \n",
       "2015-04-08              496296       0.6008  \n",
       "2015-04-09              902143       0.7091  "
      ]
     },
     "execution_count": 3,
     "metadata": {},
     "output_type": "execute_result"
    }
   ],
   "source": [
    "tcs.head()"
   ]
  },
  {
   "cell_type": "code",
   "execution_count": 4,
   "metadata": {},
   "outputs": [
    {
     "data": {
      "text/html": [
       "<div>\n",
       "<style scoped>\n",
       "    .dataframe tbody tr th:only-of-type {\n",
       "        vertical-align: middle;\n",
       "    }\n",
       "\n",
       "    .dataframe tbody tr th {\n",
       "        vertical-align: top;\n",
       "    }\n",
       "\n",
       "    .dataframe thead th {\n",
       "        text-align: right;\n",
       "    }\n",
       "</style>\n",
       "<table border=\"1\" class=\"dataframe\">\n",
       "  <thead>\n",
       "    <tr style=\"text-align: right;\">\n",
       "      <th></th>\n",
       "      <th>Symbol</th>\n",
       "      <th>Series</th>\n",
       "      <th>Prev Close</th>\n",
       "      <th>Open</th>\n",
       "      <th>High</th>\n",
       "      <th>Low</th>\n",
       "      <th>Last</th>\n",
       "      <th>Close</th>\n",
       "      <th>VWAP</th>\n",
       "      <th>Volume</th>\n",
       "      <th>Turnover</th>\n",
       "      <th>Trades</th>\n",
       "      <th>Deliverable Volume</th>\n",
       "      <th>%Deliverble</th>\n",
       "    </tr>\n",
       "    <tr>\n",
       "      <th>Date</th>\n",
       "      <th></th>\n",
       "      <th></th>\n",
       "      <th></th>\n",
       "      <th></th>\n",
       "      <th></th>\n",
       "      <th></th>\n",
       "      <th></th>\n",
       "      <th></th>\n",
       "      <th></th>\n",
       "      <th></th>\n",
       "      <th></th>\n",
       "      <th></th>\n",
       "      <th></th>\n",
       "      <th></th>\n",
       "    </tr>\n",
       "  </thead>\n",
       "  <tbody>\n",
       "    <tr>\n",
       "      <th>2015-04-01</th>\n",
       "      <td>INFY</td>\n",
       "      <td>EQ</td>\n",
       "      <td>2218.35</td>\n",
       "      <td>2198.9</td>\n",
       "      <td>2199.5</td>\n",
       "      <td>2157.70</td>\n",
       "      <td>2171.00</td>\n",
       "      <td>2173.95</td>\n",
       "      <td>2171.15</td>\n",
       "      <td>1684622</td>\n",
       "      <td>3.657560e+14</td>\n",
       "      <td>90934</td>\n",
       "      <td>1187902</td>\n",
       "      <td>0.7051</td>\n",
       "    </tr>\n",
       "    <tr>\n",
       "      <th>2015-04-06</th>\n",
       "      <td>INFY</td>\n",
       "      <td>EQ</td>\n",
       "      <td>2173.95</td>\n",
       "      <td>2179.0</td>\n",
       "      <td>2184.7</td>\n",
       "      <td>2160.40</td>\n",
       "      <td>2179.95</td>\n",
       "      <td>2178.20</td>\n",
       "      <td>2171.24</td>\n",
       "      <td>1935438</td>\n",
       "      <td>4.202294e+14</td>\n",
       "      <td>54198</td>\n",
       "      <td>1529651</td>\n",
       "      <td>0.7903</td>\n",
       "    </tr>\n",
       "    <tr>\n",
       "      <th>2015-04-07</th>\n",
       "      <td>INFY</td>\n",
       "      <td>EQ</td>\n",
       "      <td>2178.20</td>\n",
       "      <td>2175.0</td>\n",
       "      <td>2182.8</td>\n",
       "      <td>2138.00</td>\n",
       "      <td>2161.00</td>\n",
       "      <td>2159.50</td>\n",
       "      <td>2160.92</td>\n",
       "      <td>2135567</td>\n",
       "      <td>4.614786e+14</td>\n",
       "      <td>71104</td>\n",
       "      <td>1610234</td>\n",
       "      <td>0.7540</td>\n",
       "    </tr>\n",
       "    <tr>\n",
       "      <th>2015-04-08</th>\n",
       "      <td>INFY</td>\n",
       "      <td>EQ</td>\n",
       "      <td>2159.50</td>\n",
       "      <td>2182.5</td>\n",
       "      <td>2204.9</td>\n",
       "      <td>2173.05</td>\n",
       "      <td>2200.00</td>\n",
       "      <td>2200.55</td>\n",
       "      <td>2191.40</td>\n",
       "      <td>2546394</td>\n",
       "      <td>5.580179e+14</td>\n",
       "      <td>84366</td>\n",
       "      <td>2009389</td>\n",
       "      <td>0.7891</td>\n",
       "    </tr>\n",
       "    <tr>\n",
       "      <th>2015-04-09</th>\n",
       "      <td>INFY</td>\n",
       "      <td>EQ</td>\n",
       "      <td>2200.55</td>\n",
       "      <td>2211.4</td>\n",
       "      <td>2218.9</td>\n",
       "      <td>2184.40</td>\n",
       "      <td>2212.00</td>\n",
       "      <td>2215.00</td>\n",
       "      <td>2202.96</td>\n",
       "      <td>2645387</td>\n",
       "      <td>5.827672e+14</td>\n",
       "      <td>65171</td>\n",
       "      <td>2202202</td>\n",
       "      <td>0.8325</td>\n",
       "    </tr>\n",
       "  </tbody>\n",
       "</table>\n",
       "</div>"
      ],
      "text/plain": [
       "           Symbol Series  Prev Close    Open    High      Low     Last  \\\n",
       "Date                                                                     \n",
       "2015-04-01   INFY     EQ     2218.35  2198.9  2199.5  2157.70  2171.00   \n",
       "2015-04-06   INFY     EQ     2173.95  2179.0  2184.7  2160.40  2179.95   \n",
       "2015-04-07   INFY     EQ     2178.20  2175.0  2182.8  2138.00  2161.00   \n",
       "2015-04-08   INFY     EQ     2159.50  2182.5  2204.9  2173.05  2200.00   \n",
       "2015-04-09   INFY     EQ     2200.55  2211.4  2218.9  2184.40  2212.00   \n",
       "\n",
       "              Close     VWAP   Volume      Turnover  Trades  \\\n",
       "Date                                                          \n",
       "2015-04-01  2173.95  2171.15  1684622  3.657560e+14   90934   \n",
       "2015-04-06  2178.20  2171.24  1935438  4.202294e+14   54198   \n",
       "2015-04-07  2159.50  2160.92  2135567  4.614786e+14   71104   \n",
       "2015-04-08  2200.55  2191.40  2546394  5.580179e+14   84366   \n",
       "2015-04-09  2215.00  2202.96  2645387  5.827672e+14   65171   \n",
       "\n",
       "            Deliverable Volume  %Deliverble  \n",
       "Date                                         \n",
       "2015-04-01             1187902       0.7051  \n",
       "2015-04-06             1529651       0.7903  \n",
       "2015-04-07             1610234       0.7540  \n",
       "2015-04-08             2009389       0.7891  \n",
       "2015-04-09             2202202       0.8325  "
      ]
     },
     "execution_count": 4,
     "metadata": {},
     "output_type": "execute_result"
    }
   ],
   "source": [
    "infy.head()"
   ]
  },
  {
   "cell_type": "code",
   "execution_count": 5,
   "metadata": {
    "scrolled": true
   },
   "outputs": [
    {
     "data": {
      "text/html": [
       "<div>\n",
       "<style scoped>\n",
       "    .dataframe tbody tr th:only-of-type {\n",
       "        vertical-align: middle;\n",
       "    }\n",
       "\n",
       "    .dataframe tbody tr th {\n",
       "        vertical-align: top;\n",
       "    }\n",
       "\n",
       "    .dataframe thead th {\n",
       "        text-align: right;\n",
       "    }\n",
       "</style>\n",
       "<table border=\"1\" class=\"dataframe\">\n",
       "  <thead>\n",
       "    <tr style=\"text-align: right;\">\n",
       "      <th></th>\n",
       "      <th>Open</th>\n",
       "      <th>High</th>\n",
       "      <th>Low</th>\n",
       "      <th>Close</th>\n",
       "      <th>Volume</th>\n",
       "      <th>Turnover</th>\n",
       "    </tr>\n",
       "    <tr>\n",
       "      <th>Date</th>\n",
       "      <th></th>\n",
       "      <th></th>\n",
       "      <th></th>\n",
       "      <th></th>\n",
       "      <th></th>\n",
       "      <th></th>\n",
       "    </tr>\n",
       "  </thead>\n",
       "  <tbody>\n",
       "    <tr>\n",
       "      <th>2015-04-01</th>\n",
       "      <td>11997.45</td>\n",
       "      <td>12008.55</td>\n",
       "      <td>11880.15</td>\n",
       "      <td>11952.20</td>\n",
       "      <td>22785639</td>\n",
       "      <td>1.808490e+10</td>\n",
       "    </tr>\n",
       "    <tr>\n",
       "      <th>2015-04-06</th>\n",
       "      <td>11970.20</td>\n",
       "      <td>11997.30</td>\n",
       "      <td>11872.65</td>\n",
       "      <td>11969.25</td>\n",
       "      <td>22313207</td>\n",
       "      <td>1.791390e+10</td>\n",
       "    </tr>\n",
       "    <tr>\n",
       "      <th>2015-04-07</th>\n",
       "      <td>11999.25</td>\n",
       "      <td>12062.25</td>\n",
       "      <td>11881.50</td>\n",
       "      <td>11989.35</td>\n",
       "      <td>18185399</td>\n",
       "      <td>1.551450e+10</td>\n",
       "    </tr>\n",
       "    <tr>\n",
       "      <th>2015-04-08</th>\n",
       "      <td>12072.20</td>\n",
       "      <td>12249.10</td>\n",
       "      <td>12060.25</td>\n",
       "      <td>12214.30</td>\n",
       "      <td>22589842</td>\n",
       "      <td>1.827590e+10</td>\n",
       "    </tr>\n",
       "    <tr>\n",
       "      <th>2015-04-09</th>\n",
       "      <td>12296.75</td>\n",
       "      <td>12323.70</td>\n",
       "      <td>12171.15</td>\n",
       "      <td>12279.40</td>\n",
       "      <td>16386979</td>\n",
       "      <td>1.614520e+10</td>\n",
       "    </tr>\n",
       "  </tbody>\n",
       "</table>\n",
       "</div>"
      ],
      "text/plain": [
       "                Open      High       Low     Close    Volume      Turnover\n",
       "Date                                                                      \n",
       "2015-04-01  11997.45  12008.55  11880.15  11952.20  22785639  1.808490e+10\n",
       "2015-04-06  11970.20  11997.30  11872.65  11969.25  22313207  1.791390e+10\n",
       "2015-04-07  11999.25  12062.25  11881.50  11989.35  18185399  1.551450e+10\n",
       "2015-04-08  12072.20  12249.10  12060.25  12214.30  22589842  1.827590e+10\n",
       "2015-04-09  12296.75  12323.70  12171.15  12279.40  16386979  1.614520e+10"
      ]
     },
     "execution_count": 5,
     "metadata": {},
     "output_type": "execute_result"
    }
   ],
   "source": [
    "niftyit.head()"
   ]
  },
  {
   "cell_type": "markdown",
   "metadata": {},
   "source": [
    "# Part 1 #"
   ]
  },
  {
   "cell_type": "markdown",
   "metadata": {},
   "source": [
    "### Create 4,16,....,52 week moving average(closing price) for each stock and index ###"
   ]
  },
  {
   "cell_type": "code",
   "execution_count": 153,
   "metadata": {},
   "outputs": [],
   "source": [
    "## Get Moving Average For All DataFrames\n",
    "\n",
    "def weeks_movingAverage(data,col='Close'):\n",
    "    newcol = pd.DataFrame()\n",
    "    x = data[col].resample('W').mean()\n",
    "    newcol['Close'] = x\n",
    "    for win in [4,16,32,52]:\n",
    "        ma = x.rolling(window=win).mean()\n",
    "        newcol[str(win)+\" week MA\"] = ma\n",
    "    return newcol\n",
    "\n",
    "tcs_weeklyMA = weeks_movingAverage(tcs)\n",
    "infy_weeklyMA = weeks_movingAverage(infy)\n",
    "niftyit_weeklyMA = weeks_movingAverage(niftyit)\n"
   ]
  },
  {
   "cell_type": "markdown",
   "metadata": {},
   "source": [
    "### Visualization of moving averages ###"
   ]
  },
  {
   "cell_type": "code",
   "execution_count": 7,
   "metadata": {},
   "outputs": [
    {
     "data": {
      "image/png": "[encoded data removed]",
      "text/plain": [
       "<Figure size 432x288 with 1 Axes>"
      ]
     },
     "metadata": {
      "needs_background": "light"
     },
     "output_type": "display_data"
    }
   ],
   "source": [
    "ax =  tcs_weeklyMA.plot(title=\"Moving Averages for TCS\")\n",
    "ax.spines['top'].set_visible(False)\n",
    "ax.spines['right'].set_visible(False)"
   ]
  },
  {
   "cell_type": "code",
   "execution_count": 8,
   "metadata": {},
   "outputs": [
    {
     "data": {
      "image/png": "[encoded data removed]",
      "text/plain": [
       "<Figure size 432x288 with 1 Axes>"
      ]
     },
     "metadata": {
      "needs_background": "light"
     },
     "output_type": "display_data"
    }
   ],
   "source": [
    "\n",
    "ax = infy_weeklyMA.plot(title=\"Moving Averages for INFY\")\n",
    "ax.spines['top'].set_visible(False)\n",
    "ax.spines['right'].set_visible(False)\n",
    "plt.show()"
   ]
  },
  {
   "cell_type": "code",
   "execution_count": 9,
   "metadata": {},
   "outputs": [
    {
     "data": {
      "image/png": "[encoded data removed]",
      "text/plain": [
       "<Figure size 432x288 with 1 Axes>"
      ]
     },
     "metadata": {
      "needs_background": "light"
     },
     "output_type": "display_data"
    }
   ],
   "source": [
    "ax = niftyit_weeklyMA.plot( title=\"Moving Averages for NIFTY IT\")\n",
    "ax.spines['top'].set_visible(False)\n",
    "ax.spines['right'].set_visible(False)"
   ]
  },
  {
   "cell_type": "markdown",
   "metadata": {},
   "source": [
    "### Handle unequal time series due to stock market holidays ###"
   ]
  },
  {
   "cell_type": "code",
   "execution_count": 10,
   "metadata": {},
   "outputs": [],
   "source": [
    "## Handle Unqeual timeseries\n",
    "\n",
    "tcs_2 = tcs.asfreq('D', method ='pad')\n",
    "infy_2 = infy.asfreq('D', method ='pad')\n",
    "niftyit_2 = niftyit.asfreq('D', method ='pad')\n"
   ]
  },
  {
   "cell_type": "markdown",
   "metadata": {},
   "source": [
    "### Rolling window of size 10 and 75 on each stock/index ###"
   ]
  },
  {
   "cell_type": "code",
   "execution_count": 11,
   "metadata": {},
   "outputs": [],
   "source": [
    "cols_to_fit = tcs.select_dtypes(include=[np.number]).columns\n",
    "\n",
    "tcs10 = tcs_2[cols_to_fit].rolling(window=10).mean()\n",
    "tcs75 = tcs_2[cols_to_fit].rolling(window=75).mean()\n",
    "\n",
    "infy10 = infy_2[cols_to_fit].rolling(window=10).mean()\n",
    "infy75 = infy_2[cols_to_fit].rolling(window=75).mean()\n",
    "\n",
    "niftyit10 = niftyit_2.rolling(window=10).mean()\n",
    "niftyit75 = niftyit_2.rolling(window=75).mean()\n",
    "\n"
   ]
  },
  {
   "cell_type": "markdown",
   "metadata": {},
   "source": [
    "### Data Visualization ###"
   ]
  },
  {
   "cell_type": "code",
   "execution_count": 211,
   "metadata": {},
   "outputs": [
    {
     "data": {
      "text/html": [
       "\n",
       "\n",
       "\n",
       "\n",
       "\n",
       "\n",
       "  <div class=\"bk-root\" id=\"56c35142-091f-40af-9486-3e0e4577948c\"></div>\n"
      ]
     },
     "metadata": {},
     "output_type": "display_data"
    },
    {
     "data": {
      "application/javascript": [
       "(function(root) {\n",
       "  function embed_document(root) {\n",
       "    \n",
       "  var docs_json = {\"8d5975dd-4dd8-40df-b60f-cb8180067233\":{\"roots\":{\"references\":[{\"attributes\":{\"base\":24,\"mantissas\":[1,2,4,6,8,12],\"max_interval\":43200000.0,\"min_interval\":3600000.0,\"num_minor_ticks\":0},\"id\":\"56cae131-295d-40f5-9ff9-b2e0f43c4294\",\"type\":\"AdaptiveTicker\"},{\"attributes\":{\"line_alpha\":0.1,\"line_color\":\"#1f77b4\",\"line_width\":3,\"x\":{\"field\":\"x\"},\"y\":{\"field\":\"y\"}},\"id\":\"8cb3107f-7442-4085-8e71-31bb534729ce\",\"type\":\"Line\"},{\"attributes\":{\"line_color\":\"yellow\",\"line_width\":3,\"x\":{\"field\":\"x\"},\"y\":{\"field\":\"y\"}},\"id\":\"8f92f60b-fe8d-43c4-bc4e-5a17e57cae32\",\"type\":\"Line\"},{\"attributes\":{},\"id\":\"d7996d45-716f-4b13-8258-c45f1ad6a583\",\"type\":\"YearsTicker\"},{\"attributes\":{},\"id\":\"b37c3b69-5732-481d-a732-f8d06332afb1\",\"type\":\"HelpTool\"},{\"attributes\":{\"label\":{\"value\":\"Avg Moving Price Window 75\"},\"renderers\":[{\"id\":\"351146d1-935e-49a3-82fd-001d82abe9ac\",\"type\":\"GlyphRenderer\"}]},\"id\":\"3796a175-1a30-4576-b458-85a3684287c1\",\"type\":\"LegendItem\"},{\"attributes\":{\"callback\":null},\"id\":\"1aa76108-a455-4009-8efe-6a21a41be052\",\"type\":\"DataRange1d\"},{\"attributes\":{\"mantissas\":[1,2,5],\"max_interval\":500.0,\"num_minor_ticks\":0},\"id\":\"4f074c62-a811-4209-b992-b541170627d4\",\"type\":\"AdaptiveTicker\"},{\"attributes\":{\"items\":[{\"id\":\"9466cc46-5a01-421b-8fae-2c4571a267b9\",\"type\":\"LegendItem\"},{\"id\":\"6acd56b6-871a-463f-839a-ac6287988d9a\",\"type\":\"LegendItem\"},{\"id\":\"3796a175-1a30-4576-b458-85a3684287c1\",\"type\":\"LegendItem\"}],\"plot\":{\"id\":\"dc23c28c-3ff9-459f-9fcd-4102147ea6bb\",\"subtype\":\"Figure\",\"type\":\"Plot\"}},\"id\":\"2afad355-4ca1-4d2f-81f4-42b7cbb613dd\",\"type\":\"Legend\"},{\"attributes\":{},\"id\":\"79760304-5c60-4ca2-8ec8-57225a57d552\",\"type\":\"PanTool\"},{\"attributes\":{},\"id\":\"8bea6b33-b4a0-4094-91da-d1db9d677164\",\"type\":\"UnionRenderers\"},{\"attributes\":{\"days\":[1,15]},\"id\":\"9cbd9066-bfb6-4332-8af5-33465cd5c18a\",\"type\":\"DaysTicker\"},{\"attributes\":{},\"id\":\"e643e46d-b189-4ff4-8ff2-e491d07309b0\",\"type\":\"SaveTool\"},{\"attributes\":{\"source\":{\"id\":\"dd7cfdc5-e8b3-4a4b-a411-1fe8ad72137c\",\"type\":\"ColumnDataSource\"}},\"id\":\"97ab5bff-e62b-4eba-9a41-cb04f1c09bb3\",\"type\":\"CDSView\"},{\"attributes\":{\"plot\":{\"id\":\"dc23c28c-3ff9-459f-9fcd-4102147ea6bb\",\"subtype\":\"Figure\",\"type\":\"Plot\"},\"ticker\":{\"id\":\"9603b62c-3edf-40fa-acfc-b419c9c4510c\",\"type\":\"DatetimeTicker\"}},\"id\":\"fb764300-b042-445a-87bb-147c1accdb66\",\"type\":\"Grid\"},{\"attributes\":{\"source\":{\"id\":\"38ced62d-8184-4fc2-95be-12c706da65d6\",\"type\":\"ColumnDataSource\"}},\"id\":\"4b142285-2063-485b-a041-9bd6d5d6627b\",\"type\":\"CDSView\"},{\"attributes\":{\"line_color\":\"red\",\"line_width\":3,\"x\":{\"field\":\"x\"},\"y\":{\"field\":\"y\"}},\"id\":\"be7138ff-2c98-4534-901a-46af37956182\",\"type\":\"Line\"},{\"attributes\":{\"months\":[0,4,8]},\"id\":\"cfe9b920-f89d-4c01-a3d8-d368f5db5796\",\"type\":\"MonthsTicker\"},{\"attributes\":{},\"id\":\"4bc85719-27ee-4870-b104-792f705cbb0b\",\"type\":\"ResetTool\"},{\"attributes\":{},\"id\":\"2fe1cdec-45c3-47c2-8505-4acb4c0c4868\",\"type\":\"UnionRenderers\"},{\"attributes\":{},\"id\":\"39a41c97-3eec-464b-9a7e-caddf118f06f\",\"type\":\"Selection\"},{\"attributes\":{\"data_source\":{\"id\":\"dd7cfdc5-e8b3-4a4b-a411-1fe8ad72137c\",\"type\":\"ColumnDataSource\"},\"glyph\":{\"id\":\"be7138ff-2c98-4534-901a-46af37956182\",\"type\":\"Line\"},\"hover_glyph\":null,\"muted_glyph\":null,\"nonselection_glyph\":{\"id\":\"bbc9cecb-f0fc-4f3f-83d2-9e7c72652f22\",\"type\":\"Line\"},\"selection_glyph\":null,\"view\":{\"id\":\"97ab5bff-e62b-4eba-9a41-cb04f1c09bb3\",\"type\":\"CDSView\"}},\"id\":\"079e57e8-4bbb-4ddb-b6ff-c649a6df7b71\",\"type\":\"GlyphRenderer\"},{\"attributes\":{\"source\":{\"id\":\"636a435a-55fc-4f94-a9d4-287d710c1e34\",\"type\":\"ColumnDataSource\"}},\"id\":\"c2b67911-0d0a-4653-8c7c-a3619df4a3a7\",\"type\":\"CDSView\"},{\"attributes\":{\"days\":[1,2,3,4,5,6,7,8,9,10,11,12,13,14,15,16,17,18,19,20,21,22,23,24,25,26,27,28,29,30,31]},\"id\":\"8812f461-69b3-4bd7-aebe-a569e4d25edc\",\"type\":\"DaysTicker\"},{\"attributes\":{\"label\":{\"value\":\"Closing Price\"},\"renderers\":[{\"id\":\"ec0789ce-a794-4441-810c-7dd3670000c0\",\"type\":\"GlyphRenderer\"}]},\"id\":\"9466cc46-5a01-421b-8fae-2c4571a267b9\",\"type\":\"LegendItem\"},{\"attributes\":{\"data_source\":{\"id\":\"636a435a-55fc-4f94-a9d4-287d710c1e34\",\"type\":\"ColumnDataSource\"},\"glyph\":{\"id\":\"a7e4e8a4-8e3f-476f-8d8e-b56ddf60a61f\",\"type\":\"Line\"},\"hover_glyph\":null,\"muted_glyph\":null,\"nonselection_glyph\":{\"id\":\"52d18800-ac14-4014-8a52-49d6674a6f3d\",\"type\":\"Line\"},\"selection_glyph\":null,\"view\":{\"id\":\"c2b67911-0d0a-4653-8c7c-a3619df4a3a7\",\"type\":\"CDSView\"}},\"id\":\"ec0789ce-a794-4441-810c-7dd3670000c0\",\"type\":\"GlyphRenderer\"},{\"attributes\":{\"callback\":null,\"data\":{\"x\":{\"__ndarray__\":\"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\",\"dtype\":\"float64\",\"shape\":[366]},\"y\":{\"__ndarray__\":\"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\",\"dtype\":\"float64\",\"shape\":[366]}},\"selected\":{\"id\":\"b73ddbdd-b617-45b1-a914-3085ffc9dafe\",\"type\":\"Selection\"},\"selection_policy\":{\"id\":\"2fe1cdec-45c3-47c2-8505-4acb4c0c4868\",\"type\":\"UnionRenderers\"}},\"id\":\"636a435a-55fc-4f94-a9d4-287d710c1e34\",\"type\":\"ColumnDataSource\"},{\"attributes\":{\"line_alpha\":0.1,\"line_color\":\"#1f77b4\",\"line_width\":3,\"x\":{\"field\":\"x\"},\"y\":{\"field\":\"y\"}},\"id\":\"bbc9cecb-f0fc-4f3f-83d2-9e7c72652f22\",\"type\":\"Line\"},{\"attributes\":{\"months\":[0,1,2,3,4,5,6,7,8,9,10,11]},\"id\":\"67940a98-95ab-4055-bebe-90371bfb96fd\",\"type\":\"MonthsTicker\"},{\"attributes\":{\"line_color\":\"#1f77b4\",\"line_width\":3,\"x\":{\"field\":\"x\"},\"y\":{\"field\":\"y\"}},\"id\":\"a7e4e8a4-8e3f-476f-8d8e-b56ddf60a61f\",\"type\":\"Line\"},{\"attributes\":{},\"id\":\"1d622060-9610-4cd7-b1c1-b7be2ddeae50\",\"type\":\"UnionRenderers\"},{\"attributes\":{},\"id\":\"b73ddbdd-b617-45b1-a914-3085ffc9dafe\",\"type\":\"Selection\"},{\"attributes\":{\"line_alpha\":0.1,\"line_color\":\"#1f77b4\",\"line_width\":3,\"x\":{\"field\":\"x\"},\"y\":{\"field\":\"y\"}},\"id\":\"52d18800-ac14-4014-8a52-49d6674a6f3d\",\"type\":\"Line\"},{\"attributes\":{\"base\":60,\"mantissas\":[1,2,5,10,15,20,30],\"max_interval\":1800000.0,\"min_interval\":1000.0,\"num_minor_ticks\":0},\"id\":\"970e5611-a59c-4a79-8ba9-c3ebdaa8651e\",\"type\":\"AdaptiveTicker\"},{\"attributes\":{},\"id\":\"b91e719d-f65d-40a0-8779-c4f50543051d\",\"type\":\"DatetimeTickFormatter\"},{\"attributes\":{\"label\":{\"value\":\"Avg Moving Price Window 10\"},\"renderers\":[{\"id\":\"079e57e8-4bbb-4ddb-b6ff-c649a6df7b71\",\"type\":\"GlyphRenderer\"}]},\"id\":\"6acd56b6-871a-463f-839a-ac6287988d9a\",\"type\":\"LegendItem\"},{\"attributes\":{},\"id\":\"a6c81f0d-cad3-434c-9c71-976c0f8c4f42\",\"type\":\"BasicTickFormatter\"},{\"attributes\":{\"days\":[1,4,7,10,13,16,19,22,25,28]},\"id\":\"4ccbf0ec-432e-440b-9042-6b438c3bfc5c\",\"type\":\"DaysTicker\"},{\"attributes\":{\"callback\":null},\"id\":\"39e44ec4-b041-431f-84ab-4ac3706c02b3\",\"type\":\"DataRange1d\"},{\"attributes\":{\"data_source\":{\"id\":\"38ced62d-8184-4fc2-95be-12c706da65d6\",\"type\":\"ColumnDataSource\"},\"glyph\":{\"id\":\"8f92f60b-fe8d-43c4-bc4e-5a17e57cae32\",\"type\":\"Line\"},\"hover_glyph\":null,\"muted_glyph\":null,\"nonselection_glyph\":{\"id\":\"8cb3107f-7442-4085-8e71-31bb534729ce\",\"type\":\"Line\"},\"selection_glyph\":null,\"view\":{\"id\":\"4b142285-2063-485b-a041-9bd6d5d6627b\",\"type\":\"CDSView\"}},\"id\":\"351146d1-935e-49a3-82fd-001d82abe9ac\",\"type\":\"GlyphRenderer\"},{\"attributes\":{\"bottom_units\":\"screen\",\"fill_alpha\":{\"value\":0.5},\"fill_color\":{\"value\":\"lightgrey\"},\"left_units\":\"screen\",\"level\":\"overlay\",\"line_alpha\":{\"value\":1.0},\"line_color\":{\"value\":\"black\"},\"line_dash\":[4,4],\"line_width\":{\"value\":2},\"plot\":null,\"render_mode\":\"css\",\"right_units\":\"screen\",\"top_units\":\"screen\"},\"id\":\"f25eaf1a-f20d-4f7a-b74b-814d77e0a9ac\",\"type\":\"BoxAnnotation\"},{\"attributes\":{\"callback\":null,\"data\":{\"x\":{\"__ndarray__\":\"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\",\"dtype\":\"float64\",\"shape\":[366]},\"y\":{\"__ndarray__\":\"AAAAAAAA+H8AAAAAAAD4fwAAAAAAAPh/AAAAAAAA+H8AAAAAAAD4fwAAAAAAAPh/AAAAAAAA+H8AAAAAAAD4fwAAAAAAAPh/zczMzAwppEDrUbgeRT+kQArXo3B9VaRAwvUoXA9spEB6FK5HoYKkQGVmZmamk6RA/v///7+apEAdhetRuISkQFqPwvVoY6RAHIXrUXg9pEASrkfhehCkQG49Ctcj46NAWY/C9Wi5o0DyKFyPwpGjQOhRuB5FcaNAqkfhelRWo0B3FK5HYUSjQDAzMzNzSaNAEq5H4XpNo0AchetR+E+jQDEzMzPzVqNA33oUrkdeo0D+/////2GjQNajcD1KY6NACdejcP1go0AyMzMz82WjQDIzMzPzX6NAJ1yPwvVoo0Baj8L1aG+jQGVmZmZmd6NAjsL1KByEo0C2HoXrkZajQFqPwvVooqNA/v///7+so0DWo3A9SrCjQDIzMzPzrqNAuB6F65G4o0AAAAAAwLGjQHsUrkdhsKNAH4XrUXito0BI4XoUbrOjQK5H4XpUs6NArkfhelTGo0CuR+F61NqjQMP1KFyP8qNA4noUrocEpEC4HoXrERikQHA9CtfjLKRAKFyPwrU+pEATrkfhOlKkQHoUrkfhXKRAonA9CtdnpEDB9Shcz2ekQCdcj8I1ZKRAwfUoXM9ipEAJ16NwvWOkQG89CtcjXaRA9Chcj0JVpEDfehSuh06kQCdcj8L1R6RAE65H4To+pEC3HoXrUTykQOB6FK4HM6RAJ1yPwjUgpEA7CtejMAukQByF61E496NA8yhcjwLpo0AI16NwPdyjQKxH4XrUz6NAl5mZmVnGo0BF4XoU7sOjQDoK16OwuaNAoXA9Cle1o0ASrkfhesajQAfXo3A91KNAbj0K1yPho0BF4XoULuqjQKFwPQpX+qNAbj0K1yMKpEA6CtejsBakQI3C9ShcH6RAbj0K16MfpECXmZmZWSikQJeZmZmZJaRAJ1yPwnUrpEBG4XoULjKkQChcj8L1PKRAwvUoXA9FpED/////v0mkQChcj8I1SqRAehSuRyE8pEDB9ShczyykQMH1KFwPFaRAeRSuR2EApEDzKFyPgu2jQHgUrkeh2KNA/f/////Mo0B4FK5HYbqjQPMoXI8CsKNAg+tRuN6po0D+////P7KjQChcj8I1x6NAhetRuJ7Yo0CPwvUoXOOjQFK4HoUr36NAzczMzEzgo0BI4XoULtijQFK4HoUr0aNAMzMzM7PDo0AUrkfhOrejQDIzMzOzq6NA//////+Xo0CE61G43o2jQFuPwvVoiqNAo3A9CteOo0ATrkfhuo+jQBOuR+F6kKNAehSuR+GYo0B6FK5HIaijQHoUrkchsqNAPArXozC7o0AdhetReMmjQAjXo3C91aNARuF6FG7oo0CD61G4ngikQLYehevRIaRARuF6FK5IpEBuPQrX42ekQIPrUbjegaRAWo/C9WicpEBG4XoULsKkQAnXo3B95qRAPArXo3D9pECtR+F61AulQB6F61G4DKVArkfhetQUpUBSuB6F6/ukQClcj8K14KRAUrgehWvHpEBmZmZmZrGkQHA9Ctdjj6RAo3A9CtdupEBwPQrXo1ekQB6F61E4QaRAHoXrUXglpECYmZmZmRSkQAjXo3D9GaRAyszMzAwWpEA7CtejMBCkQP7///+/CqRA33oUrocEpEBQuB6Fa/6jQDIzMzMz+qNAHoXrUXj2o0BvPQrXY/mjQEbhehRu8aNAKFyPwrXmo0DMzMzMjOejQK1H4XqU56NAWo/C9Sjoo0DfehSuR+qjQB2F61F47KNA6lG4HsXso0A7Ctej8O2jQP7///+/7aNAJlyPwrXoo0CicD0K1+SjQKJwPQqX6qNAZWZmZibxo0Bbj8L1KPejQFK4HoUr/aNAXI/C9agFpEDC9ShcDw2kQFK4HoVrFKRAehSuRyEnpEA9CtejsD6kQK1H4XoUVaRAULgehethpEBQuB6FK3ykQKJwPQoXlKRAyszMzMyipEC2HoXr0aqkQJeZmZkZs6RAULgehWu7pEBG4XoUbrikQOB6FK4HrqRAtx6F69GkpEBwPQrXo4SkQI7C9SjcU6RAjsL1KJwmpEC3HoXrkQKkQML1KFyP4qNAehSuR2HGo0DLzMzMzLGjQIPrUbjenaNAmJmZmVmRo0C3HoXrEYWjQPUoXI/Cj6NAcD0K16Odo0AyMzMzM6qjQFG4HoWrtaNACdejcL3Ao0DB9ShcD8KjQP7///+/u6NA1qNwPcq0o0CtR+F61K2jQIPrUbjeqaNAeRSuRyGro0AmXI/CdaqjQEbhehSun6NAjsL1KJyao0A8Ctej8JWjQOpRuB4FmKNA/v///z+To0CicD0K14ujQMH1KFyPhqNAmJmZmdl8o0BvPQrXo1+jQI7C9ShcRKNAwvUoXE8zo0CtR+F6FBmjQNajcD0KAqNARuF6FC7jokBRuB6Fa82iQCdcj8J1waJAg+tRuF6zokDfehSuR6WiQPMoXI8CpKJAgutRuB6eokASrkfhOpiiQE+4HoVrkqJAEq5H4fqKokCMwvUoXIuiQOhRuB6FiaJA1KNwPcqCokD+////f3uiQIPrUbjedKJAwfUoXM9sokBlZmZm5mSiQAnXo3D9XKJAwvUoXI9ZokCZmZmZ2VKiQBSuR+H6TaJApHA9CtdQokDC9Shcz1SiQHoUrkehWaJA1qNwPcpdokCjcD0K12SiQJmZmZnZbqJAonA9Cld4okCicD0KV4iiQK1H4XpUoKJAbz0K1+OxokAdhetRuLuiQFC4HoUrwqJA/v///z/OokDB9ShcD9KiQOpRuB4F2qJARuF6FC7lokCOwvUo3PCiQN96FK4H9qJARuF6FO70okCOwvUoHP6iQFqPwvXoBaNAJ1yPwjUGo0DKzMzMTASjQLYeheuRBqNAPArXo7AEo0CE61G4HgGjQDwK16Mw9KJAehSuRyHjokCYmZmZmdiiQMH1KFxPxqJAULgehau6okDfehSuh7aiQEbhehSurqJAgutRuN6jokD9/////5GiQL/1KFyPdqJAY2ZmZmZkokCqR+F61FKiQBGuR+G6OqJALzMzM7MkokAmXI/CtQyiQMrMzMwM9aFAyszMzIzdoUASrkfh+sehQByF61G4waFA3noUrgfFoUBPuB6Fa8ihQHkUrkch0aFAonA9CtfZoUC3HoXrkeWhQOB6FK5H8KFARuF6FK4GokBRuB6F6xyiQOB6FK5HOKJAUbgehatNokBvPQrXI2KiQP7///8/eqJArEfhelSRokDVo3A9yqiiQBKuR+E6vaJAeRSuR2HPokAnXI/CtcmiQBOuR+G6s6JAE65H4TqbokDgehSuR3KiQBOuR+H6T6JA1qNwPQoqokCYmZmZWQOiQNajcD3K5KFA9Chcj4LFoUASrkfhOqihQMD1KFzPnqFAJlyPwnWmoUB5FK5HobChQB2F61H4yKFArUfhetTaoUDC9ShcT+KhQEfhehQu36FAUbgehevToUBbj8L16MihQGZmZmbmu6FArkfhetSmoUD1KFyPQoqhQFuPwvWogaFA/v///3+BoUAyMzMz84yhQFqPwvWon6FAEq5H4fq8oUBQuB6F69mhQKxH4XpU96FAonA9ChcUokA7CtejcDGiQAjXo3C9U6JAJlyPwnVlokAI16NwvW6iQFqPwvUobaJAZGZmZqZsokCD61G4HmeiQOpRuB4FYaJAULgehetfokASrkfhOm6iQDEzMzPze6JAJlyPwnWLokBaj8L1qJuiQBKuR+E6saJAOgrXo/DGokAwMzMzs96iQBGuR+F6+6JAqkfhetQYo0BE4XoULjGjQDoK16OwOqNAZGZmZmZDo0B5FK5HIVCjQDsK16PwXqNA\",\"dtype\":\"float64\",\"shape\":[366]}},\"selected\":{\"id\":\"e156156a-b815-4434-aec0-7a3ee0134707\",\"type\":\"Selection\"},\"selection_policy\":{\"id\":\"8bea6b33-b4a0-4094-91da-d1db9d677164\",\"type\":\"UnionRenderers\"}},\"id\":\"dd7cfdc5-e8b3-4a4b-a411-1fe8ad72137c\",\"type\":\"ColumnDataSource\"},{\"attributes\":{\"days\":[1,8,15,22]},\"id\":\"a42f144a-3513-4cd9-a0bd-ad17b013fc25\",\"type\":\"DaysTicker\"},{\"attributes\":{\"formatter\":{\"id\":\"a6c81f0d-cad3-434c-9c71-976c0f8c4f42\",\"type\":\"BasicTickFormatter\"},\"plot\":{\"id\":\"dc23c28c-3ff9-459f-9fcd-4102147ea6bb\",\"subtype\":\"Figure\",\"type\":\"Plot\"},\"ticker\":{\"id\":\"e7d91958-32be-40db-aa20-bf8b5c48b1f2\",\"type\":\"BasicTicker\"}},\"id\":\"67a1aa58-bab9-4084-8ea0-a334ae4b4267\",\"type\":\"LinearAxis\"},{\"attributes\":{\"plot\":null,\"text\":\"TCS\"},\"id\":\"bdcee84c-78d7-40f7-9d05-aaebbfe07603\",\"type\":\"Title\"},{\"attributes\":{\"callback\":null,\"data\":{\"x\":{\"__ndarray__\":\"AACAcCTHdEIAAEDWdsd0QgAAADzJx3RCAADAoRvIdEIAAIAHbsh0QgAAQG3AyHRCAAAA0xLJdEIAAMA4Zcl0QgAAgJ63yXRCAABABArKdEIAAABqXMp0QgAAwM+uynRCAACANQHLdEIAAECbU8t0QgAAAAGmy3RCAADAZvjLdEIAAIDMSsx0QgAAQDKdzHRCAAAAmO/MdEIAAMD9Qc10QgAAgGOUzXRCAABAyebNdEIAAAAvOc50QgAAwJSLznRCAACA+t3OdEIAAEBgMM90QgAAAMaCz3RCAADAK9XPdEIAAICRJ9B0QgAAQPd50HRCAAAAXczQdEIAAMDCHtF0QgAAgChx0XRCAABAjsPRdEIAAAD0FdJ0QgAAwFlo0nRCAACAv7rSdEIAAEAlDdN0QgAAAItf03RCAADA8LHTdEIAAIBWBNR0QgAAQLxW1HRCAAAAIqnUdEIAAMCH+9R0QgAAgO1N1XRCAABAU6DVdEIAAAC58tV0QgAAwB5F1nRCAACAhJfWdEIAAEDq6dZ0QgAAAFA813RCAADAtY7XdEIAAIAb4dd0QgAAQIEz2HRCAAAA54XYdEIAAMBM2Nh0QgAAgLIq2XRCAABAGH3ZdEIAAAB+z9l0QgAAwOMh2nRCAACASXTadEIAAECvxtp0QgAAABUZ23RCAADAemvbdEIAAIDgvdt0QgAAQEYQ3HRCAAAArGLcdEIAAMARtdx0QgAAgHcH3XRCAABA3VnddEIAAABDrN10QgAAwKj+3XRCAACADlHedEIAAEB0o950QgAAANr13nRCAADAP0jfdEIAAIClmt90QgAAQAvt33RCAAAAcT/gdEIAAMDWkeB0QgAAgDzk4HRCAABAojbhdEIAAAAIieF0QgAAwG3b4XRCAACA0y3idEIAAEA5gOJ0QgAAAJ/S4nRCAADABCXjdEIAAIBqd+N0QgAAQNDJ43RCAAAANhzkdEIAAMCbbuR0QgAAgAHB5HRCAABAZxPldEIAAADNZeV0QgAAwDK45XRCAACAmArmdEIAAED+XOZ0QgAAAGSv5nRCAADAyQHndEIAAIAvVOd0QgAAQJWm53RCAAAA+/jndEIAAMBgS+h0QgAAgMad6HRCAABALPDodEIAAACSQul0QgAAwPeU6XRCAACAXefpdEIAAEDDOep0QgAAACmM6nRCAADAjt7qdEIAAID0MOt0QgAAQFqD63RCAAAAwNXrdEIAAMAlKOx0QgAAgIt67HRCAABA8czsdEIAAABXH+10QgAAwLxx7XRCAACAIsTtdEIAAECIFu50QgAAAO5o7nRCAADAU7vudEIAAIC5De90QgAAQB9g73RCAAAAhbLvdEIAAMDqBPB0QgAAgFBX8HRCAABAtqnwdEIAAAAc/PB0QgAAwIFO8XRCAACA56DxdEIAAEBN8/F0QgAAALNF8nRCAADAGJjydEIAAIB+6vJ0QgAAQOQ883RCAAAASo/zdEIAAMCv4fN0QgAAgBU09HRCAABAe4b0dEIAAADh2PR0QgAAwEYr9XRCAACArH31dEIAAEAS0PV0QgAAAHgi9nRCAADA3XT2dEIAAIBDx/Z0QgAAQKkZ93RCAAAAD2z3dEIAAMB0vvd0QgAAgNoQ+HRCAABAQGP4dEIAAACmtfh0QgAAwAsI+XRCAACAcVr5dEIAAEDXrPl0QgAAAD3/+XRCAADAolH6dEIAAIAIpPp0QgAAQG72+nRCAAAA1Ej7dEIAAMA5m/t0QgAAgJ/t+3RCAABABUD8dEIAAABrkvx0QgAAwNDk/HRCAACANjf9dEIAAECcif10QgAAAALc/XRCAADAZy7+dEIAAIDNgP50QgAAQDPT/nRCAAAAmSX/dEIAAMD+d/90QgAAgGTK/3RCAABAyhwAdUIAAAAwbwB1QgAAwJXBAHVCAACA+xMBdUIAAEBhZgF1QgAAAMe4AXVCAADALAsCdUIAAICSXQJ1QgAAQPivAnVCAAAAXgIDdUIAAMDDVAN1QgAAgCmnA3VCAABAj/kDdUIAAAD1SwR1QgAAwFqeBHVCAACAwPAEdUIAAEAmQwV1QgAAAIyVBXVCAADA8ecFdUIAAIBXOgZ1QgAAQL2MBnVCAAAAI98GdUIAAMCIMQd1QgAAgO6DB3VCAABAVNYHdUIAAAC6KAh1QgAAwB97CHVCAACAhc0IdUIAAEDrHwl1QgAAAFFyCXVCAADAtsQJdUIAAIAcFwp1QgAAQIJpCnVCAAAA6LsKdUIAAMBNDgt1QgAAgLNgC3VCAABAGbMLdUIAAAB/BQx1QgAAwORXDHVCAACASqoMdUIAAECw/Ax1QgAAABZPDXVCAADAe6ENdUIAAIDh8w11QgAAQEdGDnVCAAAArZgOdUIAAMAS6w51QgAAgHg9D3VCAABA3o8PdUIAAABE4g91QgAAwKk0EHVCAACAD4cQdUIAAEB12RB1QgAAANsrEXVCAADAQH4RdUIAAICm0BF1QgAAQAwjEnVCAAAAcnUSdUIAAMDXxxJ1QgAAgD0aE3VCAABAo2wTdUIAAAAJvxN1QgAAwG4RFHVCAACA1GMUdUIAAEA6thR1QgAAAKAIFXVCAADABVsVdUIAAIBrrRV1QgAAQNH/FXVCAAAAN1IWdUIAAMCcpBZ1QgAAgAL3FnVCAABAaEkXdUIAAADOmxd1QgAAwDPuF3VCAACAmUAYdUIAAED/khh1QgAAAGXlGHVCAADAyjcZdUIAAIAwihl1QgAAQJbcGXVCAAAA/C4adUIAAMBhgRp1QgAAgMfTGnVCAABALSYbdUIAAACTeBt1QgAAwPjKG3VCAACAXh0cdUIAAEDEbxx1QgAAACrCHHVCAADAjxQddUIAAID1Zh11QgAAQFu5HXVCAAAAwQsedUIAAMAmXh51QgAAgIywHnVCAABA8gIfdUIAAABYVR91QgAAwL2nH3VCAACAI/ofdUIAAECJTCB1QgAAAO+eIHVCAADAVPEgdUIAAIC6QyF1QgAAQCCWIXVCAAAAhughdUIAAMDrOiJ1QgAAgFGNInVCAABAt98idUIAAAAdMiN1QgAAwIKEI3VCAACA6NYjdUIAAEBOKSR1QgAAALR7JHVCAADAGc4kdUIAAIB/ICV1QgAAQOVyJXVCAAAAS8UldUIAAMCwFyZ1QgAAgBZqJnVCAABAfLwmdUIAAADiDid1QgAAwEdhJ3VCAACArbMndUIAAEATBih1QgAAAHlYKHVCAADA3qoodUIAAIBE/Sh1QgAAQKpPKXVCAAAAEKIpdUIAAMB19Cl1QgAAgNtGKnVCAABAQZkqdUIAAACn6yp1QgAAwAw+K3VCAACAcpArdUIAAEDY4it1QgAAAD41LHVCAADAo4csdUIAAIAJ2ix1QgAAQG8sLXVCAAAA1X4tdUIAAMA60S11QgAAgKAjLnVCAABABnYudUIAAABsyC51QgAAwNEaL3VCAACAN20vdUIAAECdvy91QgAAAAMSMHVCAADAaGQwdUIAAIDOtjB1QgAAQDQJMXVCAAAAmlsxdUIAAMD/rTF1QgAAgGUAMnVCAABAy1IydUIAAAAxpTJ1QgAAwJb3MnVCAACA/EkzdUIAAEBinDN1QgAAAMjuM3VCAADALUE0dUIAAICTkzR1QgAAQPnlNHVCAAAAXzg1dUIAAMDEijV1QgAAgCrdNXVCAABAkC82dUIAAAD2gTZ1QgAAwFvUNnVCAACAwSY3dUIAAEAneTd1QgAAAI3LN3VCAADA8h04dUIAAIBYcDh1QgAAQL7COHVCAAAAJBU5dUIAAMCJZzl1QgAAgO+5OXVCAABAVQw6dUIAAAC7Xjp1QgAAwCCxOnVCAACAhgM7dUIAAEDsVTt1QgAAAFKoO3VCAADAt/o7dUIAAIAdTTx1QgAAQIOfPHVC\",\"dtype\":\"float64\",\"shape\":[366]},\"y\":{\"__ndarray__\":\"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\",\"dtype\":\"float64\",\"shape\":[366]}},\"selected\":{\"id\":\"39a41c97-3eec-464b-9a7e-caddf118f06f\",\"type\":\"Selection\"},\"selection_policy\":{\"id\":\"1d622060-9610-4cd7-b1c1-b7be2ddeae50\",\"type\":\"UnionRenderers\"}},\"id\":\"38ced62d-8184-4fc2-95be-12c706da65d6\",\"type\":\"ColumnDataSource\"},{\"attributes\":{\"months\":[0,2,4,6,8,10]},\"id\":\"c55b696b-15f3-4fdd-a99e-38fc791434c0\",\"type\":\"MonthsTicker\"},{\"attributes\":{},\"id\":\"c29759b8-2317-41b7-b04a-2b263bce28fd\",\"type\":\"LinearScale\"},{\"attributes\":{},\"id\":\"3a44a7d3-a999-421b-b139-9e1dff83e569\",\"type\":\"LinearScale\"},{\"attributes\":{\"months\":[0,6]},\"id\":\"b799f72e-abfe-4fda-a8d0-19ceb1be9aa4\",\"type\":\"MonthsTicker\"},{\"attributes\":{\"num_minor_ticks\":5,\"tickers\":[{\"id\":\"4f074c62-a811-4209-b992-b541170627d4\",\"type\":\"AdaptiveTicker\"},{\"id\":\"970e5611-a59c-4a79-8ba9-c3ebdaa8651e\",\"type\":\"AdaptiveTicker\"},{\"id\":\"56cae131-295d-40f5-9ff9-b2e0f43c4294\",\"type\":\"AdaptiveTicker\"},{\"id\":\"8812f461-69b3-4bd7-aebe-a569e4d25edc\",\"type\":\"DaysTicker\"},{\"id\":\"4ccbf0ec-432e-440b-9042-6b438c3bfc5c\",\"type\":\"DaysTicker\"},{\"id\":\"a42f144a-3513-4cd9-a0bd-ad17b013fc25\",\"type\":\"DaysTicker\"},{\"id\":\"9cbd9066-bfb6-4332-8af5-33465cd5c18a\",\"type\":\"DaysTicker\"},{\"id\":\"67940a98-95ab-4055-bebe-90371bfb96fd\",\"type\":\"MonthsTicker\"},{\"id\":\"c55b696b-15f3-4fdd-a99e-38fc791434c0\",\"type\":\"MonthsTicker\"},{\"id\":\"cfe9b920-f89d-4c01-a3d8-d368f5db5796\",\"type\":\"MonthsTicker\"},{\"id\":\"b799f72e-abfe-4fda-a8d0-19ceb1be9aa4\",\"type\":\"MonthsTicker\"},{\"id\":\"d7996d45-716f-4b13-8258-c45f1ad6a583\",\"type\":\"YearsTicker\"}]},\"id\":\"9603b62c-3edf-40fa-acfc-b419c9c4510c\",\"type\":\"DatetimeTicker\"},{\"attributes\":{\"axis_label\":\"Date\",\"formatter\":{\"id\":\"b91e719d-f65d-40a0-8779-c4f50543051d\",\"type\":\"DatetimeTickFormatter\"},\"plot\":{\"id\":\"dc23c28c-3ff9-459f-9fcd-4102147ea6bb\",\"subtype\":\"Figure\",\"type\":\"Plot\"},\"ticker\":{\"id\":\"9603b62c-3edf-40fa-acfc-b419c9c4510c\",\"type\":\"DatetimeTicker\"}},\"id\":\"f4829337-1af7-436d-857f-6bcd42292740\",\"type\":\"DatetimeAxis\"},{\"attributes\":{\"active_drag\":\"auto\",\"active_inspect\":\"auto\",\"active_multi\":null,\"active_scroll\":\"auto\",\"active_tap\":\"auto\",\"tools\":[{\"id\":\"79760304-5c60-4ca2-8ec8-57225a57d552\",\"type\":\"PanTool\"},{\"id\":\"032ab19d-ed3c-46f7-8121-b74e7fe9a83c\",\"type\":\"WheelZoomTool\"},{\"id\":\"bdf70bc5-5b61-45eb-8002-6c5607f4ca16\",\"type\":\"BoxZoomTool\"},{\"id\":\"e643e46d-b189-4ff4-8ff2-e491d07309b0\",\"type\":\"SaveTool\"},{\"id\":\"4bc85719-27ee-4870-b104-792f705cbb0b\",\"type\":\"ResetTool\"},{\"id\":\"b37c3b69-5732-481d-a732-f8d06332afb1\",\"type\":\"HelpTool\"}]},\"id\":\"cb075748-c9e9-4c81-b1ec-7bc65090b4b8\",\"type\":\"Toolbar\"},{\"attributes\":{},\"id\":\"032ab19d-ed3c-46f7-8121-b74e7fe9a83c\",\"type\":\"WheelZoomTool\"},{\"attributes\":{\"dimension\":1,\"plot\":{\"id\":\"dc23c28c-3ff9-459f-9fcd-4102147ea6bb\",\"subtype\":\"Figure\",\"type\":\"Plot\"},\"ticker\":{\"id\":\"e7d91958-32be-40db-aa20-bf8b5c48b1f2\",\"type\":\"BasicTicker\"}},\"id\":\"a6a87a12-0d10-4e10-8864-8922dfae9f07\",\"type\":\"Grid\"},{\"attributes\":{\"below\":[{\"id\":\"f4829337-1af7-436d-857f-6bcd42292740\",\"type\":\"DatetimeAxis\"}],\"left\":[{\"id\":\"67a1aa58-bab9-4084-8ea0-a334ae4b4267\",\"type\":\"LinearAxis\"}],\"renderers\":[{\"id\":\"f4829337-1af7-436d-857f-6bcd42292740\",\"type\":\"DatetimeAxis\"},{\"id\":\"fb764300-b042-445a-87bb-147c1accdb66\",\"type\":\"Grid\"},{\"id\":\"67a1aa58-bab9-4084-8ea0-a334ae4b4267\",\"type\":\"LinearAxis\"},{\"id\":\"a6a87a12-0d10-4e10-8864-8922dfae9f07\",\"type\":\"Grid\"},{\"id\":\"f25eaf1a-f20d-4f7a-b74b-814d77e0a9ac\",\"type\":\"BoxAnnotation\"},{\"id\":\"2afad355-4ca1-4d2f-81f4-42b7cbb613dd\",\"type\":\"Legend\"},{\"id\":\"ec0789ce-a794-4441-810c-7dd3670000c0\",\"type\":\"GlyphRenderer\"},{\"id\":\"079e57e8-4bbb-4ddb-b6ff-c649a6df7b71\",\"type\":\"GlyphRenderer\"},{\"id\":\"351146d1-935e-49a3-82fd-001d82abe9ac\",\"type\":\"GlyphRenderer\"}],\"title\":{\"id\":\"bdcee84c-78d7-40f7-9d05-aaebbfe07603\",\"type\":\"Title\"},\"toolbar\":{\"id\":\"cb075748-c9e9-4c81-b1ec-7bc65090b4b8\",\"type\":\"Toolbar\"},\"x_range\":{\"id\":\"1aa76108-a455-4009-8efe-6a21a41be052\",\"type\":\"DataRange1d\"},\"x_scale\":{\"id\":\"c29759b8-2317-41b7-b04a-2b263bce28fd\",\"type\":\"LinearScale\"},\"y_range\":{\"id\":\"39e44ec4-b041-431f-84ab-4ac3706c02b3\",\"type\":\"DataRange1d\"},\"y_scale\":{\"id\":\"3a44a7d3-a999-421b-b139-9e1dff83e569\",\"type\":\"LinearScale\"}},\"id\":\"dc23c28c-3ff9-459f-9fcd-4102147ea6bb\",\"subtype\":\"Figure\",\"type\":\"Plot\"},{\"attributes\":{},\"id\":\"e7d91958-32be-40db-aa20-bf8b5c48b1f2\",\"type\":\"BasicTicker\"},{\"attributes\":{},\"id\":\"e156156a-b815-4434-aec0-7a3ee0134707\",\"type\":\"Selection\"},{\"attributes\":{\"overlay\":{\"id\":\"f25eaf1a-f20d-4f7a-b74b-814d77e0a9ac\",\"type\":\"BoxAnnotation\"}},\"id\":\"bdf70bc5-5b61-45eb-8002-6c5607f4ca16\",\"type\":\"BoxZoomTool\"}],\"root_ids\":[\"dc23c28c-3ff9-459f-9fcd-4102147ea6bb\"]},\"title\":\"Bokeh Application\",\"version\":\"0.13.0\"}};\n",
       "  var render_items = [{\"docid\":\"8d5975dd-4dd8-40df-b60f-cb8180067233\",\"roots\":{\"dc23c28c-3ff9-459f-9fcd-4102147ea6bb\":\"56c35142-091f-40af-9486-3e0e4577948c\"}}];\n",
       "  root.Bokeh.embed.embed_items_notebook(docs_json, render_items);\n",
       "\n",
       "  }\n",
       "  if (root.Bokeh !== undefined) {\n",
       "    embed_document(root);\n",
       "  } else {\n",
       "    var attempts = 0;\n",
       "    var timer = setInterval(function(root) {\n",
       "      if (root.Bokeh !== undefined) {\n",
       "        embed_document(root);\n",
       "        clearInterval(timer);\n",
       "      }\n",
       "      attempts++;\n",
       "      if (attempts > 100) {\n",
       "        console.log(\"Bokeh: ERROR: Unable to run BokehJS code because BokehJS library is missing\")\n",
       "        clearInterval(timer);\n",
       "      }\n",
       "    }, 10, root)\n",
       "  }\n",
       "})(window);"
      ],
      "application/vnd.bokehjs_exec.v0+json": ""
     },
     "metadata": {
      "application/vnd.bokehjs_exec.v0+json": {
       "id": "dc23c28c-3ff9-459f-9fcd-4102147ea6bb"
      }
     },
     "output_type": "display_data"
    }
   ],
   "source": [
    "date = tcs_2.index\n",
    "plot = figure(x_axis_type=\"datetime\", x_axis_label='Date', title=\"TCS\")\n",
    "\n",
    "plot.line(date, tcs_2.Close, line_width=3, legend='Closing Price')\n",
    "plot.line(date, tcs10.Close, line_width=3, legend='Avg Moving Price Window 10', line_color='red')\n",
    "plot.line(date, tcs75.Close, line_width=3, legend='Avg Moving Price Window 75', line_color='yellow')\n",
    "\n",
    "show(plot)\n"
   ]
  },
  {
   "cell_type": "code",
   "execution_count": 212,
   "metadata": {},
   "outputs": [
    {
     "data": {
      "text/html": [
       "\n",
       "\n",
       "\n",
       "\n",
       "\n",
       "\n",
       "  <div class=\"bk-root\" id=\"5a05f778-72a9-4a60-abb0-bf5eac14aa08\"></div>\n"
      ]
     },
     "metadata": {},
     "output_type": "display_data"
    },
    {
     "data": {
      "application/javascript": [
       "(function(root) {\n",
       "  function embed_document(root) {\n",
       "    \n",
       "  var docs_json = {\"05e039ca-baee-47a7-aa2a-265c1dd03c53\":{\"roots\":{\"references\":[{\"attributes\":{},\"id\":\"662ffe68-c0d7-48bd-b2ce-31697926523e\",\"type\":\"LinearScale\"},{\"attributes\":{\"active_drag\":\"auto\",\"active_inspect\":\"auto\",\"active_multi\":null,\"active_scroll\":\"auto\",\"active_tap\":\"auto\",\"tools\":[{\"id\":\"acecb9fe-3a7c-46df-b8e9-c38ab37bbeb1\",\"type\":\"PanTool\"},{\"id\":\"f589000b-6e79-4dfe-b48d-4ba2389b55b9\",\"type\":\"WheelZoomTool\"},{\"id\":\"09b49600-8616-4644-8ad1-097efb901016\",\"type\":\"BoxZoomTool\"},{\"id\":\"fefe22dd-bde9-4516-99b7-b72a32032014\",\"type\":\"SaveTool\"},{\"id\":\"9cb09a24-5da3-45b4-a08c-e5cb42d0ef62\",\"type\":\"ResetTool\"},{\"id\":\"4826215e-1879-4e7a-b9f4-bc1d42465d34\",\"type\":\"HelpTool\"}]},\"id\":\"caa1091c-f948-45d5-a09e-02b11a12eceb\",\"type\":\"Toolbar\"},{\"attributes\":{\"plot\":{\"id\":\"c3cc41de-3559-411c-8e60-d82e89f7172f\",\"subtype\":\"Figure\",\"type\":\"Plot\"},\"ticker\":{\"id\":\"fab85da8-f903-4b98-9423-59903feec88b\",\"type\":\"DatetimeTicker\"}},\"id\":\"4af1d1ee-ea9b-48f7-80e0-07ea4eeaf337\",\"type\":\"Grid\"},{\"attributes\":{\"line_color\":\"#1f77b4\",\"line_width\":3,\"x\":{\"field\":\"x\"},\"y\":{\"field\":\"y\"}},\"id\":\"9d531060-b67d-4af8-b9f7-dcea42b2f333\",\"type\":\"Line\"},{\"attributes\":{\"num_minor_ticks\":5,\"tickers\":[{\"id\":\"cf66e5ca-3a9b-40aa-a40b-4030bc2fb28f\",\"type\":\"AdaptiveTicker\"},{\"id\":\"a3f72df6-06ea-441f-9958-c4d15466821c\",\"type\":\"AdaptiveTicker\"},{\"id\":\"f27aa619-13f6-4675-b16e-1855541e20ee\",\"type\":\"AdaptiveTicker\"},{\"id\":\"3b588e51-b751-4193-8f4b-29e8fde0abce\",\"type\":\"DaysTicker\"},{\"id\":\"0874ac81-7f67-4178-8fff-c06f8acb937b\",\"type\":\"DaysTicker\"},{\"id\":\"843f3d4e-0a83-416b-9b17-849f94804b73\",\"type\":\"DaysTicker\"},{\"id\":\"870d33fd-2ff4-4c48-af82-eccdfc2d5606\",\"type\":\"DaysTicker\"},{\"id\":\"862549db-5736-439d-9608-8fddc8c1230b\",\"type\":\"MonthsTicker\"},{\"id\":\"4a2e9044-a9c3-471b-9531-c67ae9ba7526\",\"type\":\"MonthsTicker\"},{\"id\":\"b5e6b71d-1fec-4256-a222-b7588adde202\",\"type\":\"MonthsTicker\"},{\"id\":\"b9f08fbb-383e-43c7-b2f6-8bdadac7f386\",\"type\":\"MonthsTicker\"},{\"id\":\"28ab325a-9c31-460b-a44e-cab8fb2c4715\",\"type\":\"YearsTicker\"}]},\"id\":\"fab85da8-f903-4b98-9423-59903feec88b\",\"type\":\"DatetimeTicker\"},{\"attributes\":{\"source\":{\"id\":\"56d9b306-d75c-40e3-9ea9-9d5934fedf2c\",\"type\":\"ColumnDataSource\"}},\"id\":\"9b489232-93f2-4879-9bc6-5956541fdf03\",\"type\":\"CDSView\"},{\"attributes\":{\"callback\":null,\"data\":{\"x\":{\"__ndarray__\":\"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\",\"dtype\":\"float64\",\"shape\":[366]},\"y\":{\"__ndarray__\":\"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\",\"dtype\":\"float64\",\"shape\":[366]}},\"selected\":{\"id\":\"5ad63a3f-6ca5-461b-b634-d1a1107c6b97\",\"type\":\"Selection\"},\"selection_policy\":{\"id\":\"605528fa-a747-4314-8e16-461f395d0475\",\"type\":\"UnionRenderers\"}},\"id\":\"625e8584-b12d-4db0-8ca4-e424e4afef64\",\"type\":\"ColumnDataSource\"},{\"attributes\":{\"callback\":null,\"data\":{\"x\":{\"__ndarray__\":\"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\",\"dtype\":\"float64\",\"shape\":[366]},\"y\":{\"__ndarray__\":\"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\",\"dtype\":\"float64\",\"shape\":[366]}},\"selected\":{\"id\":\"ecd6f72b-2e86-42d3-91c1-3d1bddb2a81b\",\"type\":\"Selection\"},\"selection_policy\":{\"id\":\"7342d255-55ba-417d-8df5-eccf6288992e\",\"type\":\"UnionRenderers\"}},\"id\":\"5e351b49-a516-4a32-bc6d-5e9fd5317e8c\",\"type\":\"ColumnDataSource\"},{\"attributes\":{\"formatter\":{\"id\":\"c1d0b5c3-d571-4aa7-b603-5905451e91b5\",\"type\":\"BasicTickFormatter\"},\"plot\":{\"id\":\"c3cc41de-3559-411c-8e60-d82e89f7172f\",\"subtype\":\"Figure\",\"type\":\"Plot\"},\"ticker\":{\"id\":\"1c88bbff-9226-4b0a-970b-c79b2cc15407\",\"type\":\"BasicTicker\"}},\"id\":\"299fc362-fd34-4fbb-8124-aa177a1ca480\",\"type\":\"LinearAxis\"},{\"attributes\":{},\"id\":\"430580cf-7be7-4d01-b588-4072a9aef770\",\"type\":\"LinearScale\"},{\"attributes\":{\"data_source\":{\"id\":\"56d9b306-d75c-40e3-9ea9-9d5934fedf2c\",\"type\":\"ColumnDataSource\"},\"glyph\":{\"id\":\"3154792a-d4c7-4b3e-9a9c-4f1933b3b6bf\",\"type\":\"Line\"},\"hover_glyph\":null,\"muted_glyph\":null,\"nonselection_glyph\":{\"id\":\"1dd8c305-c356-4691-bf8b-31d1453f11f7\",\"type\":\"Line\"},\"selection_glyph\":null,\"view\":{\"id\":\"9b489232-93f2-4879-9bc6-5956541fdf03\",\"type\":\"CDSView\"}},\"id\":\"4191e777-91a9-471f-beaf-fd2394757b99\",\"type\":\"GlyphRenderer\"},{\"attributes\":{\"months\":[0,6]},\"id\":\"b9f08fbb-383e-43c7-b2f6-8bdadac7f386\",\"type\":\"MonthsTicker\"},{\"attributes\":{},\"id\":\"7342d255-55ba-417d-8df5-eccf6288992e\",\"type\":\"UnionRenderers\"},{\"attributes\":{\"source\":{\"id\":\"5e351b49-a516-4a32-bc6d-5e9fd5317e8c\",\"type\":\"ColumnDataSource\"}},\"id\":\"8a64c226-0bd1-4875-b51e-0f8761ea2d30\",\"type\":\"CDSView\"},{\"attributes\":{},\"id\":\"ecd6f72b-2e86-42d3-91c1-3d1bddb2a81b\",\"type\":\"Selection\"},{\"attributes\":{\"dimension\":1,\"plot\":{\"id\":\"c3cc41de-3559-411c-8e60-d82e89f7172f\",\"subtype\":\"Figure\",\"type\":\"Plot\"},\"ticker\":{\"id\":\"1c88bbff-9226-4b0a-970b-c79b2cc15407\",\"type\":\"BasicTicker\"}},\"id\":\"fca33f1e-c3ac-4c79-acae-bda2844f622a\",\"type\":\"Grid\"},{\"attributes\":{},\"id\":\"c1d0b5c3-d571-4aa7-b603-5905451e91b5\",\"type\":\"BasicTickFormatter\"},{\"attributes\":{\"label\":{\"value\":\"MA - Window 10\"},\"renderers\":[{\"id\":\"4191e777-91a9-471f-beaf-fd2394757b99\",\"type\":\"GlyphRenderer\"}]},\"id\":\"b9bc0369-f6c9-4ca4-bc4b-740517e4b98e\",\"type\":\"LegendItem\"},{\"attributes\":{},\"id\":\"5ad63a3f-6ca5-461b-b634-d1a1107c6b97\",\"type\":\"Selection\"},{\"attributes\":{\"label\":{\"value\":\"MA - Window 75\"},\"renderers\":[{\"id\":\"837a7d77-5fc4-4a7c-9d49-3f8c4fefc594\",\"type\":\"GlyphRenderer\"}]},\"id\":\"1408be70-ceef-4fab-aada-91ee75f27787\",\"type\":\"LegendItem\"},{\"attributes\":{\"data_source\":{\"id\":\"5e351b49-a516-4a32-bc6d-5e9fd5317e8c\",\"type\":\"ColumnDataSource\"},\"glyph\":{\"id\":\"81bd265a-3216-4bbf-b00e-8bc82868f23a\",\"type\":\"Line\"},\"hover_glyph\":null,\"muted_glyph\":null,\"nonselection_glyph\":{\"id\":\"3a6be9cd-d9e7-4b87-beac-16d532cb8fba\",\"type\":\"Line\"},\"selection_glyph\":null,\"view\":{\"id\":\"8a64c226-0bd1-4875-b51e-0f8761ea2d30\",\"type\":\"CDSView\"}},\"id\":\"837a7d77-5fc4-4a7c-9d49-3f8c4fefc594\",\"type\":\"GlyphRenderer\"},{\"attributes\":{\"line_alpha\":0.1,\"line_color\":\"#1f77b4\",\"line_width\":3,\"x\":{\"field\":\"x\"},\"y\":{\"field\":\"y\"}},\"id\":\"1dd8c305-c356-4691-bf8b-31d1453f11f7\",\"type\":\"Line\"},{\"attributes\":{},\"id\":\"1c88bbff-9226-4b0a-970b-c79b2cc15407\",\"type\":\"BasicTicker\"},{\"attributes\":{\"data_source\":{\"id\":\"625e8584-b12d-4db0-8ca4-e424e4afef64\",\"type\":\"ColumnDataSource\"},\"glyph\":{\"id\":\"9d531060-b67d-4af8-b9f7-dcea42b2f333\",\"type\":\"Line\"},\"hover_glyph\":null,\"muted_glyph\":null,\"nonselection_glyph\":{\"id\":\"c9a3f959-1769-4c38-a2ac-30b9f2688e32\",\"type\":\"Line\"},\"selection_glyph\":null,\"view\":{\"id\":\"b4f99a2d-7043-4bca-b75a-0db31d016108\",\"type\":\"CDSView\"}},\"id\":\"6a431403-7465-41c9-80b4-f9f6bddc539d\",\"type\":\"GlyphRenderer\"},{\"attributes\":{},\"id\":\"28ab325a-9c31-460b-a44e-cab8fb2c4715\",\"type\":\"YearsTicker\"},{\"attributes\":{},\"id\":\"f589000b-6e79-4dfe-b48d-4ba2389b55b9\",\"type\":\"WheelZoomTool\"},{\"attributes\":{},\"id\":\"605528fa-a747-4314-8e16-461f395d0475\",\"type\":\"UnionRenderers\"},{\"attributes\":{\"line_alpha\":0.1,\"line_color\":\"#1f77b4\",\"line_width\":3,\"x\":{\"field\":\"x\"},\"y\":{\"field\":\"y\"}},\"id\":\"3a6be9cd-d9e7-4b87-beac-16d532cb8fba\",\"type\":\"Line\"},{\"attributes\":{},\"id\":\"ddb7de78-aae1-4852-b960-d47ff7cf0fc6\",\"type\":\"DatetimeTickFormatter\"},{\"attributes\":{},\"id\":\"7244cf84-4b44-4c5d-9583-7f9065906a40\",\"type\":\"Selection\"},{\"attributes\":{},\"id\":\"acecb9fe-3a7c-46df-b8e9-c38ab37bbeb1\",\"type\":\"PanTool\"},{\"attributes\":{},\"id\":\"7a52bbee-a556-45d8-b048-bc8cf74942e9\",\"type\":\"UnionRenderers\"},{\"attributes\":{\"line_color\":\"red\",\"line_width\":3,\"x\":{\"field\":\"x\"},\"y\":{\"field\":\"y\"}},\"id\":\"3154792a-d4c7-4b3e-9a9c-4f1933b3b6bf\",\"type\":\"Line\"},{\"attributes\":{\"mantissas\":[1,2,5],\"max_interval\":500.0,\"num_minor_ticks\":0},\"id\":\"cf66e5ca-3a9b-40aa-a40b-4030bc2fb28f\",\"type\":\"AdaptiveTicker\"},{\"attributes\":{\"items\":[{\"id\":\"599afe26-3320-4e62-8ec2-6223295dcf48\",\"type\":\"LegendItem\"},{\"id\":\"b9bc0369-f6c9-4ca4-bc4b-740517e4b98e\",\"type\":\"LegendItem\"},{\"id\":\"1408be70-ceef-4fab-aada-91ee75f27787\",\"type\":\"LegendItem\"}],\"plot\":{\"id\":\"c3cc41de-3559-411c-8e60-d82e89f7172f\",\"subtype\":\"Figure\",\"type\":\"Plot\"}},\"id\":\"63f7da3f-2aef-49f2-b95e-0ff8266783f6\",\"type\":\"Legend\"},{\"attributes\":{\"callback\":null,\"data\":{\"x\":{\"__ndarray__\":\"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\",\"dtype\":\"float64\",\"shape\":[366]},\"y\":{\"__ndarray__\":\"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\",\"dtype\":\"float64\",\"shape\":[366]}},\"selected\":{\"id\":\"7244cf84-4b44-4c5d-9583-7f9065906a40\",\"type\":\"Selection\"},\"selection_policy\":{\"id\":\"7a52bbee-a556-45d8-b048-bc8cf74942e9\",\"type\":\"UnionRenderers\"}},\"id\":\"56d9b306-d75c-40e3-9ea9-9d5934fedf2c\",\"type\":\"ColumnDataSource\"},{\"attributes\":{\"callback\":null},\"id\":\"7d3e0dc6-cd02-4d62-9ea9-5c387320dda4\",\"type\":\"DataRange1d\"},{\"attributes\":{\"overlay\":{\"id\":\"f61b3dcb-9355-4dd7-b5ee-5c1b674f54c5\",\"type\":\"BoxAnnotation\"}},\"id\":\"09b49600-8616-4644-8ad1-097efb901016\",\"type\":\"BoxZoomTool\"},{\"attributes\":{\"days\":[1,15]},\"id\":\"870d33fd-2ff4-4c48-af82-eccdfc2d5606\",\"type\":\"DaysTicker\"},{\"attributes\":{\"bottom_units\":\"screen\",\"fill_alpha\":{\"value\":0.5},\"fill_color\":{\"value\":\"lightgrey\"},\"left_units\":\"screen\",\"level\":\"overlay\",\"line_alpha\":{\"value\":1.0},\"line_color\":{\"value\":\"black\"},\"line_dash\":[4,4],\"line_width\":{\"value\":2},\"plot\":null,\"render_mode\":\"css\",\"right_units\":\"screen\",\"top_units\":\"screen\"},\"id\":\"f61b3dcb-9355-4dd7-b5ee-5c1b674f54c5\",\"type\":\"BoxAnnotation\"},{\"attributes\":{\"below\":[{\"id\":\"1d67ac71-5625-4353-88b8-e197dfa072be\",\"type\":\"DatetimeAxis\"}],\"left\":[{\"id\":\"299fc362-fd34-4fbb-8124-aa177a1ca480\",\"type\":\"LinearAxis\"}],\"renderers\":[{\"id\":\"1d67ac71-5625-4353-88b8-e197dfa072be\",\"type\":\"DatetimeAxis\"},{\"id\":\"4af1d1ee-ea9b-48f7-80e0-07ea4eeaf337\",\"type\":\"Grid\"},{\"id\":\"299fc362-fd34-4fbb-8124-aa177a1ca480\",\"type\":\"LinearAxis\"},{\"id\":\"fca33f1e-c3ac-4c79-acae-bda2844f622a\",\"type\":\"Grid\"},{\"id\":\"f61b3dcb-9355-4dd7-b5ee-5c1b674f54c5\",\"type\":\"BoxAnnotation\"},{\"id\":\"63f7da3f-2aef-49f2-b95e-0ff8266783f6\",\"type\":\"Legend\"},{\"id\":\"6a431403-7465-41c9-80b4-f9f6bddc539d\",\"type\":\"GlyphRenderer\"},{\"id\":\"4191e777-91a9-471f-beaf-fd2394757b99\",\"type\":\"GlyphRenderer\"},{\"id\":\"837a7d77-5fc4-4a7c-9d49-3f8c4fefc594\",\"type\":\"GlyphRenderer\"}],\"title\":{\"id\":\"775a0789-7c47-4a5b-a3d2-acbc0ee9f9f5\",\"type\":\"Title\"},\"toolbar\":{\"id\":\"caa1091c-f948-45d5-a09e-02b11a12eceb\",\"type\":\"Toolbar\"},\"x_range\":{\"id\":\"7d3e0dc6-cd02-4d62-9ea9-5c387320dda4\",\"type\":\"DataRange1d\"},\"x_scale\":{\"id\":\"430580cf-7be7-4d01-b588-4072a9aef770\",\"type\":\"LinearScale\"},\"y_range\":{\"id\":\"39cd9d62-e5d2-40ef-ae99-c631492c719b\",\"type\":\"DataRange1d\"},\"y_scale\":{\"id\":\"662ffe68-c0d7-48bd-b2ce-31697926523e\",\"type\":\"LinearScale\"}},\"id\":\"c3cc41de-3559-411c-8e60-d82e89f7172f\",\"subtype\":\"Figure\",\"type\":\"Plot\"},{\"attributes\":{\"base\":60,\"mantissas\":[1,2,5,10,15,20,30],\"max_interval\":1800000.0,\"min_interval\":1000.0,\"num_minor_ticks\":0},\"id\":\"a3f72df6-06ea-441f-9958-c4d15466821c\",\"type\":\"AdaptiveTicker\"},{\"attributes\":{\"axis_label\":\"Date\",\"formatter\":{\"id\":\"ddb7de78-aae1-4852-b960-d47ff7cf0fc6\",\"type\":\"DatetimeTickFormatter\"},\"plot\":{\"id\":\"c3cc41de-3559-411c-8e60-d82e89f7172f\",\"subtype\":\"Figure\",\"type\":\"Plot\"},\"ticker\":{\"id\":\"fab85da8-f903-4b98-9423-59903feec88b\",\"type\":\"DatetimeTicker\"}},\"id\":\"1d67ac71-5625-4353-88b8-e197dfa072be\",\"type\":\"DatetimeAxis\"},{\"attributes\":{\"line_alpha\":0.1,\"line_color\":\"#1f77b4\",\"line_width\":3,\"x\":{\"field\":\"x\"},\"y\":{\"field\":\"y\"}},\"id\":\"c9a3f959-1769-4c38-a2ac-30b9f2688e32\",\"type\":\"Line\"},{\"attributes\":{},\"id\":\"4826215e-1879-4e7a-b9f4-bc1d42465d34\",\"type\":\"HelpTool\"},{\"attributes\":{\"callback\":null},\"id\":\"39cd9d62-e5d2-40ef-ae99-c631492c719b\",\"type\":\"DataRange1d\"},{\"attributes\":{},\"id\":\"9cb09a24-5da3-45b4-a08c-e5cb42d0ef62\",\"type\":\"ResetTool\"},{\"attributes\":{},\"id\":\"fefe22dd-bde9-4516-99b7-b72a32032014\",\"type\":\"SaveTool\"},{\"attributes\":{\"line_color\":\"yellow\",\"line_width\":3,\"x\":{\"field\":\"x\"},\"y\":{\"field\":\"y\"}},\"id\":\"81bd265a-3216-4bbf-b00e-8bc82868f23a\",\"type\":\"Line\"},{\"attributes\":{\"base\":24,\"mantissas\":[1,2,4,6,8,12],\"max_interval\":43200000.0,\"min_interval\":3600000.0,\"num_minor_ticks\":0},\"id\":\"f27aa619-13f6-4675-b16e-1855541e20ee\",\"type\":\"AdaptiveTicker\"},{\"attributes\":{\"months\":[0,1,2,3,4,5,6,7,8,9,10,11]},\"id\":\"862549db-5736-439d-9608-8fddc8c1230b\",\"type\":\"MonthsTicker\"},{\"attributes\":{\"months\":[0,4,8]},\"id\":\"b5e6b71d-1fec-4256-a222-b7588adde202\",\"type\":\"MonthsTicker\"},{\"attributes\":{\"months\":[0,2,4,6,8,10]},\"id\":\"4a2e9044-a9c3-471b-9531-c67ae9ba7526\",\"type\":\"MonthsTicker\"},{\"attributes\":{\"label\":{\"value\":\"Closing Price\"},\"renderers\":[{\"id\":\"6a431403-7465-41c9-80b4-f9f6bddc539d\",\"type\":\"GlyphRenderer\"}]},\"id\":\"599afe26-3320-4e62-8ec2-6223295dcf48\",\"type\":\"LegendItem\"},{\"attributes\":{\"days\":[1,2,3,4,5,6,7,8,9,10,11,12,13,14,15,16,17,18,19,20,21,22,23,24,25,26,27,28,29,30,31]},\"id\":\"3b588e51-b751-4193-8f4b-29e8fde0abce\",\"type\":\"DaysTicker\"},{\"attributes\":{\"days\":[1,8,15,22]},\"id\":\"843f3d4e-0a83-416b-9b17-849f94804b73\",\"type\":\"DaysTicker\"},{\"attributes\":{\"plot\":null,\"text\":\"INFY\"},\"id\":\"775a0789-7c47-4a5b-a3d2-acbc0ee9f9f5\",\"type\":\"Title\"},{\"attributes\":{\"days\":[1,4,7,10,13,16,19,22,25,28]},\"id\":\"0874ac81-7f67-4178-8fff-c06f8acb937b\",\"type\":\"DaysTicker\"},{\"attributes\":{\"source\":{\"id\":\"625e8584-b12d-4db0-8ca4-e424e4afef64\",\"type\":\"ColumnDataSource\"}},\"id\":\"b4f99a2d-7043-4bca-b75a-0db31d016108\",\"type\":\"CDSView\"}],\"root_ids\":[\"c3cc41de-3559-411c-8e60-d82e89f7172f\"]},\"title\":\"Bokeh Application\",\"version\":\"0.13.0\"}};\n",
       "  var render_items = [{\"docid\":\"05e039ca-baee-47a7-aa2a-265c1dd03c53\",\"roots\":{\"c3cc41de-3559-411c-8e60-d82e89f7172f\":\"5a05f778-72a9-4a60-abb0-bf5eac14aa08\"}}];\n",
       "  root.Bokeh.embed.embed_items_notebook(docs_json, render_items);\n",
       "\n",
       "  }\n",
       "  if (root.Bokeh !== undefined) {\n",
       "    embed_document(root);\n",
       "  } else {\n",
       "    var attempts = 0;\n",
       "    var timer = setInterval(function(root) {\n",
       "      if (root.Bokeh !== undefined) {\n",
       "        embed_document(root);\n",
       "        clearInterval(timer);\n",
       "      }\n",
       "      attempts++;\n",
       "      if (attempts > 100) {\n",
       "        console.log(\"Bokeh: ERROR: Unable to run BokehJS code because BokehJS library is missing\")\n",
       "        clearInterval(timer);\n",
       "      }\n",
       "    }, 10, root)\n",
       "  }\n",
       "})(window);"
      ],
      "application/vnd.bokehjs_exec.v0+json": ""
     },
     "metadata": {
      "application/vnd.bokehjs_exec.v0+json": {
       "id": "c3cc41de-3559-411c-8e60-d82e89f7172f"
      }
     },
     "output_type": "display_data"
    }
   ],
   "source": [
    "plot = figure(x_axis_type=\"datetime\", x_axis_label='Date', title=\"INFY\")\n",
    "\n",
    "plot.line(infy_2.index, infy_2.Close, line_width=3, legend='Closing Price')\n",
    "plot.line(infy_2.index, infy10.Close, line_width=3, legend='MA - Window 10', line_color='red')\n",
    "plot.line(infy_2.index, infy75.Close, line_width=3, legend='MA - Window 75', line_color='yellow')\n",
    "\n",
    "show(plot)"
   ]
  },
  {
   "cell_type": "code",
   "execution_count": 213,
   "metadata": {},
   "outputs": [
    {
     "data": {
      "text/html": [
       "\n",
       "\n",
       "\n",
       "\n",
       "\n",
       "\n",
       "  <div class=\"bk-root\" id=\"fbc02092-f0d7-43ca-abd6-5fae885519da\"></div>\n"
      ]
     },
     "metadata": {},
     "output_type": "display_data"
    },
    {
     "data": {
      "application/javascript": [
       "(function(root) {\n",
       "  function embed_document(root) {\n",
       "    \n",
       "  var docs_json = {\"ff68023d-c199-4b55-b0c5-f525ace6aca1\":{\"roots\":{\"references\":[{\"attributes\":{\"days\":[1,15]},\"id\":\"b923b77d-585e-4e22-970b-3a7bc17cd3a7\",\"type\":\"DaysTicker\"},{\"attributes\":{\"callback\":null,\"data\":{\"x\":{\"__ndarray__\":\"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\",\"dtype\":\"float64\",\"shape\":[366]},\"y\":{\"__ndarray__\":\"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\",\"dtype\":\"float64\",\"shape\":[366]}},\"selected\":{\"id\":\"151bbbf1-0acb-48ca-8e78-dab424c2de53\",\"type\":\"Selection\"},\"selection_policy\":{\"id\":\"34e944e4-f368-4db2-ae73-5da82bceaa43\",\"type\":\"UnionRenderers\"}},\"id\":\"44ebf86d-b8e6-43d8-b907-42992b990caf\",\"type\":\"ColumnDataSource\"},{\"attributes\":{},\"id\":\"34307946-1480-45e2-8666-a319deda0f77\",\"type\":\"UnionRenderers\"},{\"attributes\":{},\"id\":\"34e944e4-f368-4db2-ae73-5da82bceaa43\",\"type\":\"UnionRenderers\"},{\"attributes\":{\"days\":[1,2,3,4,5,6,7,8,9,10,11,12,13,14,15,16,17,18,19,20,21,22,23,24,25,26,27,28,29,30,31]},\"id\":\"b297839d-6ca3-4a90-9533-56736605d3d5\",\"type\":\"DaysTicker\"},{\"attributes\":{\"data_source\":{\"id\":\"b27643c1-23a4-43e0-90ba-05ca46f6b2de\",\"type\":\"ColumnDataSource\"},\"glyph\":{\"id\":\"78414522-4b70-49c3-b526-0b6b4fc9fcb1\",\"type\":\"Line\"},\"hover_glyph\":null,\"muted_glyph\":null,\"nonselection_glyph\":{\"id\":\"adad2528-d0a0-4060-8b0c-cde7f9f8f167\",\"type\":\"Line\"},\"selection_glyph\":null,\"view\":{\"id\":\"57c79b60-1fae-4431-8304-a99615ece139\",\"type\":\"CDSView\"}},\"id\":\"65ba6c3a-30a3-4c1b-9adc-92e444dde07e\",\"type\":\"GlyphRenderer\"},{\"attributes\":{\"bottom_units\":\"screen\",\"fill_alpha\":{\"value\":0.5},\"fill_color\":{\"value\":\"lightgrey\"},\"left_units\":\"screen\",\"level\":\"overlay\",\"line_alpha\":{\"value\":1.0},\"line_color\":{\"value\":\"black\"},\"line_dash\":[4,4],\"line_width\":{\"value\":2},\"plot\":null,\"render_mode\":\"css\",\"right_units\":\"screen\",\"top_units\":\"screen\"},\"id\":\"7f27d638-711b-4c5e-bf28-331e7bd9b58f\",\"type\":\"BoxAnnotation\"},{\"attributes\":{\"overlay\":{\"id\":\"7f27d638-711b-4c5e-bf28-331e7bd9b58f\",\"type\":\"BoxAnnotation\"}},\"id\":\"bdefda6e-5283-4be4-92b9-9bcff0baaf04\",\"type\":\"BoxZoomTool\"},{\"attributes\":{\"source\":{\"id\":\"b27643c1-23a4-43e0-90ba-05ca46f6b2de\",\"type\":\"ColumnDataSource\"}},\"id\":\"57c79b60-1fae-4431-8304-a99615ece139\",\"type\":\"CDSView\"},{\"attributes\":{\"months\":[0,6]},\"id\":\"1656df51-1e8b-428d-a696-c0ffa08b5f47\",\"type\":\"MonthsTicker\"},{\"attributes\":{},\"id\":\"39481024-85ec-4efe-96ae-23a7908d2ff7\",\"type\":\"HelpTool\"},{\"attributes\":{\"source\":{\"id\":\"44ebf86d-b8e6-43d8-b907-42992b990caf\",\"type\":\"ColumnDataSource\"}},\"id\":\"6dfa4a14-92f9-47b0-992c-945daa8a94b6\",\"type\":\"CDSView\"},{\"attributes\":{\"below\":[{\"id\":\"ac850e52-ba15-479f-a778-aa06367dfcc1\",\"type\":\"DatetimeAxis\"}],\"left\":[{\"id\":\"7c99aea1-0737-4c85-b759-1cce15bb5686\",\"type\":\"LinearAxis\"}],\"renderers\":[{\"id\":\"ac850e52-ba15-479f-a778-aa06367dfcc1\",\"type\":\"DatetimeAxis\"},{\"id\":\"522e477a-0583-4dc5-80a2-f52aa49dbc86\",\"type\":\"Grid\"},{\"id\":\"7c99aea1-0737-4c85-b759-1cce15bb5686\",\"type\":\"LinearAxis\"},{\"id\":\"a9f45107-2306-4842-97f3-4f757f1b4389\",\"type\":\"Grid\"},{\"id\":\"7f27d638-711b-4c5e-bf28-331e7bd9b58f\",\"type\":\"BoxAnnotation\"},{\"id\":\"e50c7bc8-2180-482e-add3-bfbe95391c17\",\"type\":\"Legend\"},{\"id\":\"fe55ab3e-adee-4916-88a5-7f7cf72db67d\",\"type\":\"GlyphRenderer\"},{\"id\":\"65ba6c3a-30a3-4c1b-9adc-92e444dde07e\",\"type\":\"GlyphRenderer\"},{\"id\":\"100477cd-0ca6-439a-b7cd-ba795ba8b613\",\"type\":\"GlyphRenderer\"}],\"title\":{\"id\":\"c01ec9cd-74f6-4245-a278-dcc589996865\",\"type\":\"Title\"},\"toolbar\":{\"id\":\"5bd2b280-4295-4cd1-99d3-4789bcecad80\",\"type\":\"Toolbar\"},\"x_range\":{\"id\":\"7da281d5-7f69-4e15-9a68-ccf32d27d7c3\",\"type\":\"DataRange1d\"},\"x_scale\":{\"id\":\"7039f484-736a-4159-8e69-dff6b4c1bb4a\",\"type\":\"LinearScale\"},\"y_range\":{\"id\":\"bdcddd0a-f6a3-4561-bbea-10f4c59d17f2\",\"type\":\"DataRange1d\"},\"y_scale\":{\"id\":\"28cead19-3bff-4fd8-88b3-a322644cf338\",\"type\":\"LinearScale\"}},\"id\":\"8ea39bdc-d81a-4f90-87ea-e36955de50fe\",\"subtype\":\"Figure\",\"type\":\"Plot\"},{\"attributes\":{\"data_source\":{\"id\":\"44ebf86d-b8e6-43d8-b907-42992b990caf\",\"type\":\"ColumnDataSource\"},\"glyph\":{\"id\":\"ca4f5eaa-9031-4705-9a27-df2c5e3dc034\",\"type\":\"Line\"},\"hover_glyph\":null,\"muted_glyph\":null,\"nonselection_glyph\":{\"id\":\"1ee1f53a-207d-44f9-8e4c-731846d5874e\",\"type\":\"Line\"},\"selection_glyph\":null,\"view\":{\"id\":\"6dfa4a14-92f9-47b0-992c-945daa8a94b6\",\"type\":\"CDSView\"}},\"id\":\"fe55ab3e-adee-4916-88a5-7f7cf72db67d\",\"type\":\"GlyphRenderer\"},{\"attributes\":{\"label\":{\"value\":\"MA - Window 10\"},\"renderers\":[{\"id\":\"65ba6c3a-30a3-4c1b-9adc-92e444dde07e\",\"type\":\"GlyphRenderer\"}]},\"id\":\"221ffb5f-7640-4fac-85ce-fd276daf4301\",\"type\":\"LegendItem\"},{\"attributes\":{},\"id\":\"17b0ad13-38a3-4701-b62c-04936fb314ac\",\"type\":\"BasicTicker\"},{\"attributes\":{\"line_color\":\"yellow\",\"line_width\":3,\"x\":{\"field\":\"x\"},\"y\":{\"field\":\"y\"}},\"id\":\"b2c46aeb-4bdd-4e5a-86fb-fd5eaf4808d0\",\"type\":\"Line\"},{\"attributes\":{\"line_color\":\"#1f77b4\",\"line_width\":3,\"x\":{\"field\":\"x\"},\"y\":{\"field\":\"y\"}},\"id\":\"ca4f5eaa-9031-4705-9a27-df2c5e3dc034\",\"type\":\"Line\"},{\"attributes\":{\"line_alpha\":0.1,\"line_color\":\"#1f77b4\",\"line_width\":3,\"x\":{\"field\":\"x\"},\"y\":{\"field\":\"y\"}},\"id\":\"a680f4a0-bb32-4ae9-be06-d39375149188\",\"type\":\"Line\"},{\"attributes\":{},\"id\":\"b6758f3b-82ae-4aad-b863-144561bf7e71\",\"type\":\"DatetimeTickFormatter\"},{\"attributes\":{\"data_source\":{\"id\":\"0b9b71c7-b2e6-4584-a189-1f57c583b262\",\"type\":\"ColumnDataSource\"},\"glyph\":{\"id\":\"b2c46aeb-4bdd-4e5a-86fb-fd5eaf4808d0\",\"type\":\"Line\"},\"hover_glyph\":null,\"muted_glyph\":null,\"nonselection_glyph\":{\"id\":\"a680f4a0-bb32-4ae9-be06-d39375149188\",\"type\":\"Line\"},\"selection_glyph\":null,\"view\":{\"id\":\"8f756dcf-764a-439b-8230-0e1fade7cba2\",\"type\":\"CDSView\"}},\"id\":\"100477cd-0ca6-439a-b7cd-ba795ba8b613\",\"type\":\"GlyphRenderer\"},{\"attributes\":{\"label\":{\"value\":\"Closing Price\"},\"renderers\":[{\"id\":\"fe55ab3e-adee-4916-88a5-7f7cf72db67d\",\"type\":\"GlyphRenderer\"}]},\"id\":\"0cb101c5-80e8-4df2-abd0-0d6fa78ee250\",\"type\":\"LegendItem\"},{\"attributes\":{\"line_alpha\":0.1,\"line_color\":\"#1f77b4\",\"line_width\":3,\"x\":{\"field\":\"x\"},\"y\":{\"field\":\"y\"}},\"id\":\"1ee1f53a-207d-44f9-8e4c-731846d5874e\",\"type\":\"Line\"},{\"attributes\":{\"source\":{\"id\":\"0b9b71c7-b2e6-4584-a189-1f57c583b262\",\"type\":\"ColumnDataSource\"}},\"id\":\"8f756dcf-764a-439b-8230-0e1fade7cba2\",\"type\":\"CDSView\"},{\"attributes\":{\"months\":[0,4,8]},\"id\":\"aa4a59ff-acc4-49a7-9b62-4907da9a971b\",\"type\":\"MonthsTicker\"},{\"attributes\":{},\"id\":\"3bef0f0b-5bfe-4b45-b431-01c799a25b0e\",\"type\":\"UnionRenderers\"},{\"attributes\":{\"items\":[{\"id\":\"0cb101c5-80e8-4df2-abd0-0d6fa78ee250\",\"type\":\"LegendItem\"},{\"id\":\"221ffb5f-7640-4fac-85ce-fd276daf4301\",\"type\":\"LegendItem\"},{\"id\":\"3cdf68db-18df-4b4f-98ed-39fe5dc47b9c\",\"type\":\"LegendItem\"}],\"plot\":{\"id\":\"8ea39bdc-d81a-4f90-87ea-e36955de50fe\",\"subtype\":\"Figure\",\"type\":\"Plot\"}},\"id\":\"e50c7bc8-2180-482e-add3-bfbe95391c17\",\"type\":\"Legend\"},{\"attributes\":{\"plot\":null,\"text\":\"NIFTY IT\"},\"id\":\"c01ec9cd-74f6-4245-a278-dcc589996865\",\"type\":\"Title\"},{\"attributes\":{},\"id\":\"ceaf2ca2-5392-467e-9968-eff149e03ad8\",\"type\":\"BasicTickFormatter\"},{\"attributes\":{\"callback\":null,\"data\":{\"x\":{\"__ndarray__\":\"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\",\"dtype\":\"float64\",\"shape\":[366]},\"y\":{\"__ndarray__\":\"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\",\"dtype\":\"float64\",\"shape\":[366]}},\"selected\":{\"id\":\"eadc1c78-b68f-4df6-b06e-fc6eb64fcd23\",\"type\":\"Selection\"},\"selection_policy\":{\"id\":\"34307946-1480-45e2-8666-a319deda0f77\",\"type\":\"UnionRenderers\"}},\"id\":\"b27643c1-23a4-43e0-90ba-05ca46f6b2de\",\"type\":\"ColumnDataSource\"},{\"attributes\":{\"mantissas\":[1,2,5],\"max_interval\":500.0,\"num_minor_ticks\":0},\"id\":\"030b140a-3f06-4834-8ed6-c46963b0332b\",\"type\":\"AdaptiveTicker\"},{\"attributes\":{\"months\":[0,2,4,6,8,10]},\"id\":\"323d6c3e-e9e1-4b95-bddd-0b7d2830a506\",\"type\":\"MonthsTicker\"},{\"attributes\":{\"label\":{\"value\":\"MA - Window 75\"},\"renderers\":[{\"id\":\"100477cd-0ca6-439a-b7cd-ba795ba8b613\",\"type\":\"GlyphRenderer\"}]},\"id\":\"3cdf68db-18df-4b4f-98ed-39fe5dc47b9c\",\"type\":\"LegendItem\"},{\"attributes\":{\"callback\":null,\"data\":{\"x\":{\"__ndarray__\":\"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\",\"dtype\":\"float64\",\"shape\":[366]},\"y\":{\"__ndarray__\":\"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\",\"dtype\":\"float64\",\"shape\":[366]}},\"selected\":{\"id\":\"4e292cc4-57c2-4194-9435-e4873c08dac4\",\"type\":\"Selection\"},\"selection_policy\":{\"id\":\"3bef0f0b-5bfe-4b45-b431-01c799a25b0e\",\"type\":\"UnionRenderers\"}},\"id\":\"0b9b71c7-b2e6-4584-a189-1f57c583b262\",\"type\":\"ColumnDataSource\"},{\"attributes\":{\"callback\":null},\"id\":\"7da281d5-7f69-4e15-9a68-ccf32d27d7c3\",\"type\":\"DataRange1d\"},{\"attributes\":{},\"id\":\"08bcc809-fe24-4576-9fa7-dac5c1e362c8\",\"type\":\"PanTool\"},{\"attributes\":{\"axis_label\":\"Date\",\"formatter\":{\"id\":\"b6758f3b-82ae-4aad-b863-144561bf7e71\",\"type\":\"DatetimeTickFormatter\"},\"plot\":{\"id\":\"8ea39bdc-d81a-4f90-87ea-e36955de50fe\",\"subtype\":\"Figure\",\"type\":\"Plot\"},\"ticker\":{\"id\":\"4d4b12f9-4c2d-4c7a-926e-0ca572e4b03b\",\"type\":\"DatetimeTicker\"}},\"id\":\"ac850e52-ba15-479f-a778-aa06367dfcc1\",\"type\":\"DatetimeAxis\"},{\"attributes\":{},\"id\":\"151bbbf1-0acb-48ca-8e78-dab424c2de53\",\"type\":\"Selection\"},{\"attributes\":{},\"id\":\"28cead19-3bff-4fd8-88b3-a322644cf338\",\"type\":\"LinearScale\"},{\"attributes\":{},\"id\":\"4e292cc4-57c2-4194-9435-e4873c08dac4\",\"type\":\"Selection\"},{\"attributes\":{},\"id\":\"cb28e118-e42b-4d48-bc27-274e515ee22d\",\"type\":\"ResetTool\"},{\"attributes\":{\"formatter\":{\"id\":\"ceaf2ca2-5392-467e-9968-eff149e03ad8\",\"type\":\"BasicTickFormatter\"},\"plot\":{\"id\":\"8ea39bdc-d81a-4f90-87ea-e36955de50fe\",\"subtype\":\"Figure\",\"type\":\"Plot\"},\"ticker\":{\"id\":\"17b0ad13-38a3-4701-b62c-04936fb314ac\",\"type\":\"BasicTicker\"}},\"id\":\"7c99aea1-0737-4c85-b759-1cce15bb5686\",\"type\":\"LinearAxis\"},{\"attributes\":{},\"id\":\"7039f484-736a-4159-8e69-dff6b4c1bb4a\",\"type\":\"LinearScale\"},{\"attributes\":{\"active_drag\":\"auto\",\"active_inspect\":\"auto\",\"active_multi\":null,\"active_scroll\":\"auto\",\"active_tap\":\"auto\",\"tools\":[{\"id\":\"08bcc809-fe24-4576-9fa7-dac5c1e362c8\",\"type\":\"PanTool\"},{\"id\":\"e7b2cffd-48b6-4b87-a52c-43bdf31692b6\",\"type\":\"WheelZoomTool\"},{\"id\":\"bdefda6e-5283-4be4-92b9-9bcff0baaf04\",\"type\":\"BoxZoomTool\"},{\"id\":\"62340855-84f6-4af0-a254-c4a4351f41be\",\"type\":\"SaveTool\"},{\"id\":\"cb28e118-e42b-4d48-bc27-274e515ee22d\",\"type\":\"ResetTool\"},{\"id\":\"39481024-85ec-4efe-96ae-23a7908d2ff7\",\"type\":\"HelpTool\"}]},\"id\":\"5bd2b280-4295-4cd1-99d3-4789bcecad80\",\"type\":\"Toolbar\"},{\"attributes\":{\"line_alpha\":0.1,\"line_color\":\"#1f77b4\",\"line_width\":3,\"x\":{\"field\":\"x\"},\"y\":{\"field\":\"y\"}},\"id\":\"adad2528-d0a0-4060-8b0c-cde7f9f8f167\",\"type\":\"Line\"},{\"attributes\":{\"days\":[1,8,15,22]},\"id\":\"84ad468c-56f9-4cc6-bdfd-e5a6d4039cf8\",\"type\":\"DaysTicker\"},{\"attributes\":{},\"id\":\"e7b2cffd-48b6-4b87-a52c-43bdf31692b6\",\"type\":\"WheelZoomTool\"},{\"attributes\":{\"months\":[0,1,2,3,4,5,6,7,8,9,10,11]},\"id\":\"1ffbf7e5-9cba-42a3-9742-14a64f5f36d8\",\"type\":\"MonthsTicker\"},{\"attributes\":{\"plot\":{\"id\":\"8ea39bdc-d81a-4f90-87ea-e36955de50fe\",\"subtype\":\"Figure\",\"type\":\"Plot\"},\"ticker\":{\"id\":\"4d4b12f9-4c2d-4c7a-926e-0ca572e4b03b\",\"type\":\"DatetimeTicker\"}},\"id\":\"522e477a-0583-4dc5-80a2-f52aa49dbc86\",\"type\":\"Grid\"},{\"attributes\":{\"base\":60,\"mantissas\":[1,2,5,10,15,20,30],\"max_interval\":1800000.0,\"min_interval\":1000.0,\"num_minor_ticks\":0},\"id\":\"b4453bd0-1901-4268-add8-1906ca4f604b\",\"type\":\"AdaptiveTicker\"},{\"attributes\":{},\"id\":\"62340855-84f6-4af0-a254-c4a4351f41be\",\"type\":\"SaveTool\"},{\"attributes\":{},\"id\":\"5c339195-9f42-4e89-ba41-4e54f892c079\",\"type\":\"YearsTicker\"},{\"attributes\":{\"callback\":null},\"id\":\"bdcddd0a-f6a3-4561-bbea-10f4c59d17f2\",\"type\":\"DataRange1d\"},{\"attributes\":{},\"id\":\"eadc1c78-b68f-4df6-b06e-fc6eb64fcd23\",\"type\":\"Selection\"},{\"attributes\":{\"line_color\":\"red\",\"line_width\":3,\"x\":{\"field\":\"x\"},\"y\":{\"field\":\"y\"}},\"id\":\"78414522-4b70-49c3-b526-0b6b4fc9fcb1\",\"type\":\"Line\"},{\"attributes\":{\"days\":[1,4,7,10,13,16,19,22,25,28]},\"id\":\"38f40f8a-c1f1-4cb8-82b5-0699ab1a8b97\",\"type\":\"DaysTicker\"},{\"attributes\":{\"num_minor_ticks\":5,\"tickers\":[{\"id\":\"030b140a-3f06-4834-8ed6-c46963b0332b\",\"type\":\"AdaptiveTicker\"},{\"id\":\"b4453bd0-1901-4268-add8-1906ca4f604b\",\"type\":\"AdaptiveTicker\"},{\"id\":\"9559486a-4e6d-454f-b932-396b4e84d47b\",\"type\":\"AdaptiveTicker\"},{\"id\":\"b297839d-6ca3-4a90-9533-56736605d3d5\",\"type\":\"DaysTicker\"},{\"id\":\"38f40f8a-c1f1-4cb8-82b5-0699ab1a8b97\",\"type\":\"DaysTicker\"},{\"id\":\"84ad468c-56f9-4cc6-bdfd-e5a6d4039cf8\",\"type\":\"DaysTicker\"},{\"id\":\"b923b77d-585e-4e22-970b-3a7bc17cd3a7\",\"type\":\"DaysTicker\"},{\"id\":\"1ffbf7e5-9cba-42a3-9742-14a64f5f36d8\",\"type\":\"MonthsTicker\"},{\"id\":\"323d6c3e-e9e1-4b95-bddd-0b7d2830a506\",\"type\":\"MonthsTicker\"},{\"id\":\"aa4a59ff-acc4-49a7-9b62-4907da9a971b\",\"type\":\"MonthsTicker\"},{\"id\":\"1656df51-1e8b-428d-a696-c0ffa08b5f47\",\"type\":\"MonthsTicker\"},{\"id\":\"5c339195-9f42-4e89-ba41-4e54f892c079\",\"type\":\"YearsTicker\"}]},\"id\":\"4d4b12f9-4c2d-4c7a-926e-0ca572e4b03b\",\"type\":\"DatetimeTicker\"},{\"attributes\":{\"dimension\":1,\"plot\":{\"id\":\"8ea39bdc-d81a-4f90-87ea-e36955de50fe\",\"subtype\":\"Figure\",\"type\":\"Plot\"},\"ticker\":{\"id\":\"17b0ad13-38a3-4701-b62c-04936fb314ac\",\"type\":\"BasicTicker\"}},\"id\":\"a9f45107-2306-4842-97f3-4f757f1b4389\",\"type\":\"Grid\"},{\"attributes\":{\"base\":24,\"mantissas\":[1,2,4,6,8,12],\"max_interval\":43200000.0,\"min_interval\":3600000.0,\"num_minor_ticks\":0},\"id\":\"9559486a-4e6d-454f-b932-396b4e84d47b\",\"type\":\"AdaptiveTicker\"}],\"root_ids\":[\"8ea39bdc-d81a-4f90-87ea-e36955de50fe\"]},\"title\":\"Bokeh Application\",\"version\":\"0.13.0\"}};\n",
       "  var render_items = [{\"docid\":\"ff68023d-c199-4b55-b0c5-f525ace6aca1\",\"roots\":{\"8ea39bdc-d81a-4f90-87ea-e36955de50fe\":\"fbc02092-f0d7-43ca-abd6-5fae885519da\"}}];\n",
       "  root.Bokeh.embed.embed_items_notebook(docs_json, render_items);\n",
       "\n",
       "  }\n",
       "  if (root.Bokeh !== undefined) {\n",
       "    embed_document(root);\n",
       "  } else {\n",
       "    var attempts = 0;\n",
       "    var timer = setInterval(function(root) {\n",
       "      if (root.Bokeh !== undefined) {\n",
       "        embed_document(root);\n",
       "        clearInterval(timer);\n",
       "      }\n",
       "      attempts++;\n",
       "      if (attempts > 100) {\n",
       "        console.log(\"Bokeh: ERROR: Unable to run BokehJS code because BokehJS library is missing\")\n",
       "        clearInterval(timer);\n",
       "      }\n",
       "    }, 10, root)\n",
       "  }\n",
       "})(window);"
      ],
      "application/vnd.bokehjs_exec.v0+json": ""
     },
     "metadata": {
      "application/vnd.bokehjs_exec.v0+json": {
       "id": "8ea39bdc-d81a-4f90-87ea-e36955de50fe"
      }
     },
     "output_type": "display_data"
    }
   ],
   "source": [
    "\n",
    "plot = figure(x_axis_type=\"datetime\", x_axis_label='Date', title=\"NIFTY IT\")\n",
    "\n",
    "plot.line(niftyit_2.index, niftyit_2.Close, line_width=3, legend='Closing Price')\n",
    "plot.line(niftyit_2.index, niftyit10.Close, line_width=3, legend='MA - Window 10', line_color='red')\n",
    "plot.line(niftyit_2.index, niftyit75.Close, line_width=3, legend='MA - Window 75', line_color='yellow')\n",
    "\n",
    "show(plot)"
   ]
  },
  {
   "cell_type": "markdown",
   "metadata": {},
   "source": [
    "### Creation of dummy time series ###"
   ]
  },
  {
   "cell_type": "code",
   "execution_count": 214,
   "metadata": {},
   "outputs": [],
   "source": [
    "tcs['volume_change'] = (tcs['Volume']/tcs['Volume'].shift(1))-1\n",
    "x = np.logical_or((tcs['Volume'].pct_change() > 0.1),(tcs['Volume'].pct_change()< -.1))\n",
    "tcs['volume_shock'] = np.where(x,1,0)\n",
    "tcs['volume_shock_direction'] = np.where(tcs['volume_change']>0,1,0)\n",
    "\n",
    "tcs['price_diff'] = (tcs['Close']/tcs['Close'].shift(1))-1\n",
    "x = np.logical_or((tcs['Close'].pct_change() > 0.02),(tcs['Close'].pct_change()< -.02))\n",
    "tcs['price_shock'] = np.where(x,1,0)\n",
    "tcs['price_shock_direction'] = np.where(tcs['price_diff']>0,1,0)\n",
    "\n",
    "tcs['price_shock_only'] = np.where(np.logical_and((tcs['price_shock'] == 1),\n",
    "   (tcs['volume_shock'] == 0)),1,0)\n",
    "\n",
    "\n",
    "infy['volume_change'] = (infy['Volume']/infy['Volume'].shift(1))-1\n",
    "x = np.logical_or((infy['Volume'].pct_change() > 0.1),(infy['Volume'].pct_change()< -.1))\n",
    "infy['volume_shock'] = np.where(x,1,0)\n",
    "infy['volume_shock_direction'] = np.where(infy['volume_change']>0,1,0)\n",
    "\n",
    "infy['price_diff'] = (infy['Close']/infy['Close'].shift(1))-1\n",
    "x = np.logical_or((infy['Close'].pct_change() > 0.02),(infy['Close'].pct_change()< -.02))\n",
    "infy['price_shock'] = np.where(x,1,0)\n",
    "infy['price_shock_direction'] = np.where(infy['price_diff']>0,1,0)\n",
    "\n",
    "infy['price_shock_only'] = np.where(np.logical_and((infy['price_shock'] == 1),\n",
    "   (infy['volume_shock'] == 0)),1,0)\n",
    "\n",
    "\n",
    "niftyit['volume_change'] = (niftyit['Volume']/niftyit['Volume'].shift(1))-1\n",
    "x = np.logical_or((niftyit['Volume'].pct_change() > 0.1),(niftyit['Volume'].pct_change()< -.1))\n",
    "niftyit['volume_shock'] = np.where(x,1,0)\n",
    "niftyit['volume_shock_direction'] = np.where(niftyit['volume_change']>0,1,0)\n",
    "\n",
    "niftyit['price_diff'] = (niftyit['Close']/niftyit['Close'].shift(1))-1\n",
    "x = np.logical_or((niftyit['Close'].pct_change() > 0.02),(niftyit['Close'].pct_change()< -.02))\n",
    "niftyit['price_shock'] = np.where(x,1,0)\n",
    "niftyit['price_shock_direction'] = np.where(niftyit['price_diff']>0,1,0)\n",
    "\n",
    "niftyit['price_shock_only'] = np.where(np.logical_and((niftyit['price_shock'] == 1),\n",
    "   (niftyit['volume_shock'] == 0)),1,0)"
   ]
  },
  {
   "cell_type": "markdown",
   "metadata": {},
   "source": [
    "# Part 2 #"
   ]
  },
  {
   "cell_type": "markdown",
   "metadata": {},
   "source": [
    "## Data Visualization"
   ]
  },
  {
   "cell_type": "code",
   "execution_count": 215,
   "metadata": {},
   "outputs": [],
   "source": [
    "\n",
    "\n",
    "list_1 = []\n",
    "for x,y in zip(infy_2.reset_index().Date,infy_2.reset_index().Date.shift()):\n",
    "    list_1.append([y,x])\n",
    "\n",
    "list_2 = []\n",
    "for x,y in zip(infy_2.Close,infy_2.Close.shift()):\n",
    "    list_2.append([y,x])\n",
    "\n",
    "list_1 = list_1[1:]\n",
    "list_2 = list_2[1:]"
   ]
  },
  {
   "cell_type": "markdown",
   "metadata": {},
   "source": [
    "### I have not colored the graph on 52 week MA because i have one year of data an it does not add any value"
   ]
  },
  {
   "cell_type": "code",
   "execution_count": 216,
   "metadata": {},
   "outputs": [
    {
     "data": {
      "text/html": [
       "\n",
       "\n",
       "\n",
       "\n",
       "\n",
       "\n",
       "  <div class=\"bk-root\" id=\"b790d06f-464e-423e-bebb-aaff01369e38\"></div>\n"
      ]
     },
     "metadata": {},
     "output_type": "display_data"
    },
    {
     "data": {
      "application/javascript": [
       "(function(root) {\n",
       "  function embed_document(root) {\n",
       "    \n",
       "  var docs_json = {\"cccc2793-3664-4bd4-a459-c5e474a42993\":{\"roots\":{\"references\":[{\"attributes\":{\"axis_label\":\"Closing Price\",\"formatter\":{\"id\":\"652d2c66-4539-4758-8038-c7b8b826ca4f\",\"type\":\"BasicTickFormatter\"},\"plot\":{\"id\":\"77b0cb16-b88f-4a3d-a8cd-8964f9b9e17e\",\"subtype\":\"Figure\",\"type\":\"Plot\"},\"ticker\":{\"id\":\"93483326-9de4-40d9-9497-63e88dc8dfc4\",\"type\":\"BasicTicker\"}},\"id\":\"5675da14-c5e4-44b6-81d1-f10a6321c6f3\",\"type\":\"LinearAxis\"},{\"attributes\":{},\"id\":\"93483326-9de4-40d9-9497-63e88dc8dfc4\",\"type\":\"BasicTicker\"},{\"attributes\":{\"dimension\":1,\"plot\":{\"id\":\"77b0cb16-b88f-4a3d-a8cd-8964f9b9e17e\",\"subtype\":\"Figure\",\"type\":\"Plot\"},\"ticker\":{\"id\":\"93483326-9de4-40d9-9497-63e88dc8dfc4\",\"type\":\"BasicTicker\"}},\"id\":\"f926d521-8613-449f-b9b4-cc71cf82720e\",\"type\":\"Grid\"},{\"attributes\":{\"data_source\":{\"id\":\"54d9079b-6cf2-4b04-9381-d741ff37957b\",\"type\":\"ColumnDataSource\"},\"glyph\":{\"id\":\"4475a2bd-f498-412f-a165-fe21d350c45d\",\"type\":\"MultiLine\"},\"hover_glyph\":null,\"muted_glyph\":null,\"nonselection_glyph\":{\"id\":\"f9eed326-3e26-4de2-ab38-02e0873a5715\",\"type\":\"MultiLine\"},\"selection_glyph\":null,\"view\":{\"id\":\"05e1ef31-d391-4870-b9fe-ddd4c49bce19\",\"type\":\"CDSView\"}},\"id\":\"c7b100a0-4252-48fd-8b76-4fa789b85395\",\"type\":\"GlyphRenderer\"},{\"attributes\":{\"base\":24,\"mantissas\":[1,2,4,6,8,12],\"max_interval\":43200000.0,\"min_interval\":3600000.0,\"num_minor_ticks\":0},\"id\":\"f0fd17f0-85cb-477b-9da7-9b796dcc1872\",\"type\":\"AdaptiveTicker\"},{\"attributes\":{\"days\":[1,8,15,22]},\"id\":\"efac7bbc-153d-4c19-becd-408125560078\",\"type\":\"DaysTicker\"},{\"attributes\":{\"days\":[1,4,7,10,13,16,19,22,25,28]},\"id\":\"66d6f74a-250b-43de-8188-be810e821f6b\",\"type\":\"DaysTicker\"},{\"attributes\":{},\"id\":\"16135e05-2c45-4e28-9dcd-78dd2915fc1c\",\"type\":\"PanTool\"},{\"attributes\":{\"below\":[{\"id\":\"19fc9723-32b8-4381-8784-66aa241a8e45\",\"type\":\"DatetimeAxis\"}],\"left\":[{\"id\":\"5675da14-c5e4-44b6-81d1-f10a6321c6f3\",\"type\":\"LinearAxis\"}],\"renderers\":[{\"id\":\"19fc9723-32b8-4381-8784-66aa241a8e45\",\"type\":\"DatetimeAxis\"},{\"id\":\"a0338ce8-22d4-4039-a5a8-fe9a7d700bd5\",\"type\":\"Grid\"},{\"id\":\"5675da14-c5e4-44b6-81d1-f10a6321c6f3\",\"type\":\"LinearAxis\"},{\"id\":\"f926d521-8613-449f-b9b4-cc71cf82720e\",\"type\":\"Grid\"},{\"id\":\"aa84a6c0-690c-4502-a6f5-ffe1bd0c70d7\",\"type\":\"BoxAnnotation\"},{\"id\":\"c7b100a0-4252-48fd-8b76-4fa789b85395\",\"type\":\"GlyphRenderer\"}],\"title\":{\"id\":\"2a64415d-47ed-422d-a82c-e173944bf5de\",\"type\":\"Title\"},\"toolbar\":{\"id\":\"b65217ac-350a-498f-895d-493d109d2ba4\",\"type\":\"Toolbar\"},\"x_range\":{\"id\":\"3edcf9b7-ffec-4925-8228-a090c38b12b8\",\"type\":\"DataRange1d\"},\"x_scale\":{\"id\":\"26a53f8b-794f-46ed-8f4b-6d0aa5a64407\",\"type\":\"LinearScale\"},\"y_range\":{\"id\":\"8e5ac969-13c2-4cd3-800f-2dc90c7e720b\",\"type\":\"DataRange1d\"},\"y_scale\":{\"id\":\"a2691494-c001-41ef-a318-ba21fbc2cbc5\",\"type\":\"LinearScale\"}},\"id\":\"77b0cb16-b88f-4a3d-a8cd-8964f9b9e17e\",\"subtype\":\"Figure\",\"type\":\"Plot\"},{\"attributes\":{},\"id\":\"ceb574de-9ab9-4df0-aa41-a16779ebfe24\",\"type\":\"WheelZoomTool\"},{\"attributes\":{\"callback\":null,\"data\":{\"line_color\":[\"#0000ff\",\"#0000ff\",\"#0000ff\",\"#0000ff\",\"#0000ff\",\"#0000ff\",\"#0000ff\",\"#0000ff\",\"#0000ff\",\"#0000ff\",\"#0000ff\",\"#0000ff\",\"#0000ff\",\"#0000ff\",\"#0000ff\",\"#0000ff\",\"#0000ff\",\"#0000ff\",\"#0000ff\",\"#0000ff\",\"#0000ff\",\"#0000ff\",\"#0000ff\",\"#0000ff\",\"#0000ff\",\"#0000ff\",\"#0000ff\",\"#0000ff\",\"#0000ff\",\"#0000ff\",\"#0000ff\",\"#0000ff\",\"#0000ff\",\"#0000ff\",\"#0000ff\",\"#0000ff\",\"#0000ff\",\"#0000ff\",\"#0000ff\",\"#0000ff\",\"#0000ff\",\"#0000ff\",\"#0000ff\",\"#0000ff\",\"#0000ff\",\"#0000ff\",\"#0000ff\",\"#0000ff\",\"#0000ff\",\"#0000ff\",\"#0000ff\",\"#0000ff\",\"#0000ff\",\"#0000ff\",\"#0000ff\",\"#0000ff\",\"#0000ff\",\"#0000ff\",\"#0000ff\",\"#0000ff\",\"#0000ff\",\"#0000ff\",\"#0000ff\",\"#0000ff\",\"#0000ff\",\"#0000ff\",\"#0000ff\",\"#0000ff\",\"#0000ff\",\"#0000ff\",\"#0000ff\",\"#0000ff\",\"#0000ff\",\"#0000ff\",\"#0000ff\",\"#0000ff\",\"#0000ff\",\"#0000ff\",\"#0000ff\",\"#0000ff\",\"#0000ff\",\"#0000ff\",\"#0000ff\",\"#0000ff\",\"#0000ff\",\"#0000ff\",\"#0000ff\",\"#0000ff\",\"#0000ff\",\"#0000ff\",\"#0000ff\",\"#0000ff\",\"#0000ff\",\"#0000ff\",\"#0000ff\",\"#0000ff\",\"#0000ff\",\"#0000ff\",\"#0000ff\",\"#add8e6\",\"#aad5e6\",\"#a8d2e6\",\"#a4cce7\",\"#9ec6e8\",\"#98bee8\",\"#94b9e9\",\"#8fb3ea\",\"#8cafea\",\"#89abeb\",\"#87a9eb\",\"#7997ed\",\"#6c87ef\",\"#6b86ef\",\"#6b85ef\",\"#6984ef\",\"#6781f0\",\"#6781f0\",\"#6781f0\",\"#637cf0\",\"#6179f0\",\"#5f77f1\",\"#5c73f1\",\"#5a70f1\",\"#586ef2\",\"#586ef2\",\"#556af2\",\"#5064f3\",\"#4e61f3\",\"#4b5ef4\",\"#495cf4\",\"#495bf4\",\"#4557f4\",\"#3e4df5\",\"#3745f6\",\"#3542f7\",\"#3442f7\",\"#323ff7\",\"#323ef7\",\"#2e3af8\",\"#2a34f8\",\"#2b36f8\",\"#2c37f8\",\"#2832f9\",\"#2731f9\",\"#2b36f8\",\"#303cf8\",\"#313df7\",\"#2f3bf8\",\"#2933f9\",\"#232cf9\",\"#222bfa\",\"#212afa\",\"#222bfa\",\"#1f27fa\",\"#1d24fa\",\"#1d25fa\",\"#1e26fa\",\"#1c23fa\",\"#1c23fa\",\"#1b22fa\",\"#171cfb\",\"#1216fc\",\"#1014fc\",\"#0d10fd\",\"#0b0efd\",\"#080bfd\",\"#0607fe\",\"#0405fe\",\"#0202fe\",\"#0000ff\",\"#0101fe\",\"#0304fe\",\"#0506fe\",\"#0709fd\",\"#0a0cfd\",\"#0d10fd\",\"#0f13fc\",\"#0f13fc\",\"#0e12fc\",\"#0b0efd\",\"#080bfd\",\"#0e12fc\",\"#1318fc\",\"#1419fc\",\"#1318fc\",\"#1318fc\",\"#1419fc\",\"#1116fc\",\"#0c10fd\",\"#0a0cfd\",\"#0d10fd\",\"#1014fc\",\"#1014fc\",\"#0b0efd\",\"#0405fe\",\"#0101fe\",\"#0000fe\",\"#0000ff\",\"#0000ff\",\"#0000ff\",\"#0000fe\",\"#0304fe\",\"#0607fe\",\"#0608fe\",\"#0709fd\",\"#080bfd\",\"#080afd\",\"#080afd\",\"#0709fd\",\"#0709fd\",\"#0608fe\",\"#0405fe\",\"#0405fe\",\"#0405fe\",\"#0304fe\",\"#0405fe\",\"#0405fe\",\"#0202fe\",\"#0202fe\",\"#0304fe\",\"#0304fe\",\"#0203fe\",\"#0000ff\",\"#0203fe\",\"#0203fe\",\"#0304fe\",\"#0405fe\",\"#0405fe\",\"#0607fe\",\"#0a0cfd\",\"#1014fc\",\"#1116fc\",\"#0e11fc\",\"#0d10fd\",\"#0c10fd\",\"#0c10fd\",\"#0d10fd\",\"#0e12fc\",\"#0d10fd\",\"#0a0dfd\",\"#080bfd\",\"#080bfd\",\"#0608fe\",\"#0405fe\",\"#0709fd\",\"#090bfd\",\"#0a0dfd\",\"#0b0efd\",\"#0b0efd\",\"#0c0ffd\",\"#0c0ffd\",\"#0e11fc\",\"#0d10fd\",\"#0a0dfd\",\"#0a0cfd\",\"#0a0cfd\",\"#080afd\",\"#0607fe\",\"#0304fe\",\"#0000ff\",\"#0101fe\",\"#0405fe\",\"#0405fe\",\"#0202fe\",\"#0202fe\",\"#0202fe\",\"#0000fe\",\"#0101fe\",\"#0101fe\",\"#0101fe\",\"#0000fe\",\"#0000ff\",\"#0101fe\",\"#0101fe\",\"#0000ff\",\"#0000ff\",\"#0000ff\",\"#0202fe\",\"#0405fe\",\"#0607fe\",\"#080afd\",\"#080bfd\",\"#0709fd\",\"#0608fe\",\"#0709fd\",\"#080bfd\",\"#0506fe\",\"#0203fe\",\"#080afd\",\"#080bfd\",\"#080bfd\",\"#080afd\",\"#080afd\",\"#0709fd\",\"#0608fe\",\"#080afd\",\"#080afd\",\"#080afd\",\"#080afd\",\"#080afd\",\"#080afd\",\"#0709fd\",\"#0a0cfd\",\"#0d10fd\",\"#0d10fd\",\"#0e11fc\",\"#0f13fc\",\"#0d10fd\",\"#0e11fc\",\"#0f13fc\",\"#0f13fc\",\"#0f13fc\",\"#0c10fd\",\"#0607fe\",\"#0101fe\",\"#0000fe\",\"#0203fe\",\"#0202fe\",\"#0202fe\",\"#0101fe\",\"#0202fe\",\"#0101fe\",\"#0203fe\",\"#0607fe\",\"#0607fe\",\"#0607fe\",\"#0607fe\",\"#0506fe\",\"#0506fe\",\"#0405fe\",\"#0304fe\",\"#0405fe\",\"#0405fe\",\"#0000ff\",\"#0000fe\",\"#080afd\",\"#0c0ffd\",\"#0d10fd\",\"#0d10fd\",\"#0c10fd\",\"#0c10fd\",\"#0b0efd\",\"#0c0ffd\",\"#0a0cfd\",\"#0607fe\",\"#0607fe\",\"#0607fe\",\"#0506fe\",\"#0405fe\",\"#0506fe\",\"#080afd\",\"#0c0ffd\",\"#0e12fc\",\"#0e12fc\",\"#0e12fc\",\"#0e11fc\",\"#0e12fc\",\"#1014fc\",\"#1014fc\",\"#1014fc\",\"#0f13fc\",\"#0f13fc\",\"#0e11fc\",\"#0d10fd\",\"#0f13fc\"],\"xs\":[[1427846400000.0,1427932800000.0],[1427932800000.0,1428019200000.0],[1428019200000.0,1428105600000.0],[1428105600000.0,1428192000000.0],[1428192000000.0,1428278400000.0],[1428278400000.0,1428364800000.0],[1428364800000.0,1428451200000.0],[1428451200000.0,1428537600000.0],[1428537600000.0,1428624000000.0],[1428624000000.0,1428710400000.0],[1428710400000.0,1428796800000.0],[1428796800000.0,1428883200000.0],[1428883200000.0,1428969600000.0],[1428969600000.0,1429056000000.0],[1429056000000.0,1429142400000.0],[1429142400000.0,1429228800000.0],[1429228800000.0,1429315200000.0],[1429315200000.0,1429401600000.0],[1429401600000.0,1429488000000.0],[1429488000000.0,1429574400000.0],[1429574400000.0,1429660800000.0],[1429660800000.0,1429747200000.0],[1429747200000.0,1429833600000.0],[1429833600000.0,1429920000000.0],[1429920000000.0,1430006400000.0],[1430006400000.0,1430092800000.0],[1430092800000.0,1430179200000.0],[1430179200000.0,1430265600000.0],[1430265600000.0,1430352000000.0],[1430352000000.0,1430438400000.0],[1430438400000.0,1430524800000.0],[1430524800000.0,1430611200000.0],[1430611200000.0,1430697600000.0],[1430697600000.0,1430784000000.0],[1430784000000.0,1430870400000.0],[1430870400000.0,1430956800000.0],[1430956800000.0,1431043200000.0],[1431043200000.0,1431129600000.0],[1431129600000.0,1431216000000.0],[1431216000000.0,1431302400000.0],[1431302400000.0,1431388800000.0],[1431388800000.0,1431475200000.0],[1431475200000.0,1431561600000.0],[1431561600000.0,1431648000000.0],[1431648000000.0,1431734400000.0],[1431734400000.0,1431820800000.0],[1431820800000.0,1431907200000.0],[1431907200000.0,1431993600000.0],[1431993600000.0,1432080000000.0],[1432080000000.0,1432166400000.0],[1432166400000.0,1432252800000.0],[1432252800000.0,1432339200000.0],[1432339200000.0,1432425600000.0],[1432425600000.0,1432512000000.0],[1432512000000.0,1432598400000.0],[1432598400000.0,1432684800000.0],[1432684800000.0,1432771200000.0],[1432771200000.0,1432857600000.0],[1432857600000.0,1432944000000.0],[1432944000000.0,1433030400000.0],[1433030400000.0,1433116800000.0],[1433116800000.0,1433203200000.0],[1433203200000.0,1433289600000.0],[1433289600000.0,1433376000000.0],[1433376000000.0,1433462400000.0],[1433462400000.0,1433548800000.0],[1433548800000.0,1433635200000.0],[1433635200000.0,1433721600000.0],[1433721600000.0,1433808000000.0],[1433808000000.0,1433894400000.0],[1433894400000.0,1433980800000.0],[1433980800000.0,1434067200000.0],[1434067200000.0,1434153600000.0],[1434153600000.0,1434240000000.0],[1434240000000.0,1434326400000.0],[1434326400000.0,1434412800000.0],[1434412800000.0,1434499200000.0],[1434499200000.0,1434585600000.0],[1434585600000.0,1434672000000.0],[1434672000000.0,1434758400000.0],[1434758400000.0,1434844800000.0],[1434844800000.0,1434931200000.0],[1434931200000.0,1435017600000.0],[1435017600000.0,1435104000000.0],[1435104000000.0,1435190400000.0],[1435190400000.0,1435276800000.0],[1435276800000.0,1435363200000.0],[1435363200000.0,1435449600000.0],[1435449600000.0,1435536000000.0],[1435536000000.0,1435622400000.0],[1435622400000.0,1435708800000.0],[1435708800000.0,1435795200000.0],[1435795200000.0,1435881600000.0],[1435881600000.0,1435968000000.0],[1435968000000.0,1436054400000.0],[1436054400000.0,1436140800000.0],[1436140800000.0,1436227200000.0],[1436227200000.0,1436313600000.0],[1436313600000.0,1436400000000.0],[1436400000000.0,1436486400000.0],[1436486400000.0,1436572800000.0],[1436572800000.0,1436659200000.0],[1436659200000.0,1436745600000.0],[1436745600000.0,1436832000000.0],[1436832000000.0,1436918400000.0],[1436918400000.0,1437004800000.0],[1437004800000.0,1437091200000.0],[1437091200000.0,1437177600000.0],[1437177600000.0,1437264000000.0],[1437264000000.0,1437350400000.0],[1437350400000.0,1437436800000.0],[1437436800000.0,1437523200000.0],[1437523200000.0,1437609600000.0],[1437609600000.0,1437696000000.0],[1437696000000.0,1437782400000.0],[1437782400000.0,1437868800000.0],[1437868800000.0,1437955200000.0],[1437955200000.0,1438041600000.0],[1438041600000.0,1438128000000.0],[1438128000000.0,1438214400000.0],[1438214400000.0,1438300800000.0],[1438300800000.0,1438387200000.0],[1438387200000.0,1438473600000.0],[1438473600000.0,1438560000000.0],[1438560000000.0,1438646400000.0],[1438646400000.0,1438732800000.0],[1438732800000.0,1438819200000.0],[1438819200000.0,1438905600000.0],[1438905600000.0,1438992000000.0],[1438992000000.0,1439078400000.0],[1439078400000.0,1439164800000.0],[1439164800000.0,1439251200000.0],[1439251200000.0,1439337600000.0],[1439337600000.0,1439424000000.0],[1439424000000.0,1439510400000.0],[1439510400000.0,1439596800000.0],[1439596800000.0,1439683200000.0],[1439683200000.0,1439769600000.0],[1439769600000.0,1439856000000.0],[1439856000000.0,1439942400000.0],[1439942400000.0,1440028800000.0],[1440028800000.0,1440115200000.0],[1440115200000.0,1440201600000.0],[1440201600000.0,1440288000000.0],[1440288000000.0,1440374400000.0],[1440374400000.0,1440460800000.0],[1440460800000.0,1440547200000.0],[1440547200000.0,1440633600000.0],[1440633600000.0,1440720000000.0],[1440720000000.0,1440806400000.0],[1440806400000.0,1440892800000.0],[1440892800000.0,1440979200000.0],[1440979200000.0,1441065600000.0],[1441065600000.0,1441152000000.0],[1441152000000.0,1441238400000.0],[1441238400000.0,1441324800000.0],[1441324800000.0,1441411200000.0],[1441411200000.0,1441497600000.0],[1441497600000.0,1441584000000.0],[1441584000000.0,1441670400000.0],[1441670400000.0,1441756800000.0],[1441756800000.0,1441843200000.0],[1441843200000.0,1441929600000.0],[1441929600000.0,1442016000000.0],[1442016000000.0,1442102400000.0],[1442102400000.0,1442188800000.0],[1442188800000.0,1442275200000.0],[1442275200000.0,1442361600000.0],[1442361600000.0,1442448000000.0],[1442448000000.0,1442534400000.0],[1442534400000.0,1442620800000.0],[1442620800000.0,1442707200000.0],[1442707200000.0,1442793600000.0],[1442793600000.0,1442880000000.0],[1442880000000.0,1442966400000.0],[1442966400000.0,1443052800000.0],[1443052800000.0,1443139200000.0],[1443139200000.0,1443225600000.0],[1443225600000.0,1443312000000.0],[1443312000000.0,1443398400000.0],[1443398400000.0,1443484800000.0],[1443484800000.0,1443571200000.0],[1443571200000.0,1443657600000.0],[1443657600000.0,1443744000000.0],[1443744000000.0,1443830400000.0],[1443830400000.0,1443916800000.0],[1443916800000.0,1444003200000.0],[1444003200000.0,1444089600000.0],[1444089600000.0,1444176000000.0],[1444176000000.0,1444262400000.0],[1444262400000.0,1444348800000.0],[1444348800000.0,1444435200000.0],[1444435200000.0,1444521600000.0],[1444521600000.0,1444608000000.0],[1444608000000.0,1444694400000.0],[1444694400000.0,1444780800000.0],[1444780800000.0,1444867200000.0],[1444867200000.0,1444953600000.0],[1444953600000.0,1445040000000.0],[1445040000000.0,1445126400000.0],[1445126400000.0,1445212800000.0],[1445212800000.0,1445299200000.0],[1445299200000.0,1445385600000.0],[1445385600000.0,1445472000000.0],[1445472000000.0,1445558400000.0],[1445558400000.0,1445644800000.0],[1445644800000.0,1445731200000.0],[1445731200000.0,1445817600000.0],[1445817600000.0,1445904000000.0],[1445904000000.0,1445990400000.0],[1445990400000.0,1446076800000.0],[1446076800000.0,1446163200000.0],[1446163200000.0,1446249600000.0],[1446249600000.0,1446336000000.0],[1446336000000.0,1446422400000.0],[1446422400000.0,1446508800000.0],[1446508800000.0,1446595200000.0],[1446595200000.0,1446681600000.0],[1446681600000.0,1446768000000.0],[1446768000000.0,1446854400000.0],[1446854400000.0,1446940800000.0],[1446940800000.0,1447027200000.0],[1447027200000.0,1447113600000.0],[1447113600000.0,1447200000000.0],[1447200000000.0,1447286400000.0],[1447286400000.0,1447372800000.0],[1447372800000.0,1447459200000.0],[1447459200000.0,1447545600000.0],[1447545600000.0,1447632000000.0],[1447632000000.0,1447718400000.0],[1447718400000.0,1447804800000.0],[1447804800000.0,1447891200000.0],[1447891200000.0,1447977600000.0],[1447977600000.0,1448064000000.0],[1448064000000.0,1448150400000.0],[1448150400000.0,1448236800000.0],[1448236800000.0,1448323200000.0],[1448323200000.0,1448409600000.0],[1448409600000.0,1448496000000.0],[1448496000000.0,1448582400000.0],[1448582400000.0,1448668800000.0],[1448668800000.0,1448755200000.0],[1448755200000.0,1448841600000.0],[1448841600000.0,1448928000000.0],[1448928000000.0,1449014400000.0],[1449014400000.0,1449100800000.0],[1449100800000.0,1449187200000.0],[1449187200000.0,1449273600000.0],[1449273600000.0,1449360000000.0],[1449360000000.0,1449446400000.0],[1449446400000.0,1449532800000.0],[1449532800000.0,1449619200000.0],[1449619200000.0,1449705600000.0],[1449705600000.0,1449792000000.0],[1449792000000.0,1449878400000.0],[1449878400000.0,1449964800000.0],[1449964800000.0,1450051200000.0],[1450051200000.0,1450137600000.0],[1450137600000.0,1450224000000.0],[1450224000000.0,1450310400000.0],[1450310400000.0,1450396800000.0],[1450396800000.0,1450483200000.0],[1450483200000.0,1450569600000.0],[1450569600000.0,1450656000000.0],[1450656000000.0,1450742400000.0],[1450742400000.0,1450828800000.0],[1450828800000.0,1450915200000.0],[1450915200000.0,1451001600000.0],[1451001600000.0,1451088000000.0],[1451088000000.0,1451174400000.0],[1451174400000.0,1451260800000.0],[1451260800000.0,1451347200000.0],[1451347200000.0,1451433600000.0],[1451433600000.0,1451520000000.0],[1451520000000.0,1451606400000.0],[1451606400000.0,1451692800000.0],[1451692800000.0,1451779200000.0],[1451779200000.0,1451865600000.0],[1451865600000.0,1451952000000.0],[1451952000000.0,1452038400000.0],[1452038400000.0,1452124800000.0],[1452124800000.0,1452211200000.0],[1452211200000.0,1452297600000.0],[1452297600000.0,1452384000000.0],[1452384000000.0,1452470400000.0],[1452470400000.0,1452556800000.0],[1452556800000.0,1452643200000.0],[1452643200000.0,1452729600000.0],[1452729600000.0,1452816000000.0],[1452816000000.0,1452902400000.0],[1452902400000.0,1452988800000.0],[1452988800000.0,1453075200000.0],[1453075200000.0,1453161600000.0],[1453161600000.0,1453248000000.0],[1453248000000.0,1453334400000.0],[1453334400000.0,1453420800000.0],[1453420800000.0,1453507200000.0],[1453507200000.0,1453593600000.0],[1453593600000.0,1453680000000.0],[1453680000000.0,1453766400000.0],[1453766400000.0,1453852800000.0],[1453852800000.0,1453939200000.0],[1453939200000.0,1454025600000.0],[1454025600000.0,1454112000000.0],[1454112000000.0,1454198400000.0],[1454198400000.0,1454284800000.0],[1454284800000.0,1454371200000.0],[1454371200000.0,1454457600000.0],[1454457600000.0,1454544000000.0],[1454544000000.0,1454630400000.0],[1454630400000.0,1454716800000.0],[1454716800000.0,1454803200000.0],[1454803200000.0,1454889600000.0],[1454889600000.0,1454976000000.0],[1454976000000.0,1455062400000.0],[1455062400000.0,1455148800000.0],[1455148800000.0,1455235200000.0],[1455235200000.0,1455321600000.0],[1455321600000.0,1455408000000.0],[1455408000000.0,1455494400000.0],[1455494400000.0,1455580800000.0],[1455580800000.0,1455667200000.0],[1455667200000.0,1455753600000.0],[1455753600000.0,1455840000000.0],[1455840000000.0,1455926400000.0],[1455926400000.0,1456012800000.0],[1456012800000.0,1456099200000.0],[1456099200000.0,1456185600000.0],[1456185600000.0,1456272000000.0],[1456272000000.0,1456358400000.0],[1456358400000.0,1456444800000.0],[1456444800000.0,1456531200000.0],[1456531200000.0,1456617600000.0],[1456617600000.0,1456704000000.0],[1456704000000.0,1456790400000.0],[1456790400000.0,1456876800000.0],[1456876800000.0,1456963200000.0],[1456963200000.0,1457049600000.0],[1457049600000.0,1457136000000.0],[1457136000000.0,1457222400000.0],[1457222400000.0,1457308800000.0],[1457308800000.0,1457395200000.0],[1457395200000.0,1457481600000.0],[1457481600000.0,1457568000000.0],[1457568000000.0,1457654400000.0],[1457654400000.0,1457740800000.0],[1457740800000.0,1457827200000.0],[1457827200000.0,1457913600000.0],[1457913600000.0,1458000000000.0],[1458000000000.0,1458086400000.0],[1458086400000.0,1458172800000.0],[1458172800000.0,1458259200000.0],[1458259200000.0,1458345600000.0],[1458345600000.0,1458432000000.0],[1458432000000.0,1458518400000.0],[1458518400000.0,1458604800000.0],[1458604800000.0,1458691200000.0],[1458691200000.0,1458777600000.0],[1458777600000.0,1458864000000.0],[1458864000000.0,1458950400000.0],[1458950400000.0,1459036800000.0],[1459036800000.0,1459123200000.0],[1459123200000.0,1459209600000.0],[1459209600000.0,1459296000000.0],[1459296000000.0,1459382400000.0]],\"ys\":[[2173.95,2173.95],[2173.95,2173.95],[2173.95,2173.95],[2173.95,2173.95],[2173.95,2178.2],[2178.2,2159.5],[2159.5,2200.55],[2200.55,2215.0],[2215.0,2233.95],[2233.95,2233.95],[2233.95,2233.95],[2233.95,2238.8],[2238.8,2238.8],[2238.8,2213.7],[2213.7,2194.65],[2194.65,2179.25],[2179.25,2179.25],[2179.25,2179.25],[2179.25,2132.15],[2132.15,2142.6],[2142.6,2137.7],[2137.7,2122.0],[2122.0,1995.2],[1995.2,1995.2],[1995.2,1995.2],[1995.2,1984.65],[1984.65,1960.9],[1960.9,1961.15],[1961.15,1942.25],[1942.25,1942.25],[1942.25,1942.25],[1942.25,1942.25],[1942.25,1993.1],[1993.1,1962.75],[1962.75,1922.05],[1922.05,1944.0],[1944.0,1957.95],[1957.95,1957.95],[1957.95,1957.95],[1957.95,1993.65],[1993.65,1947.1],[1947.1,1956.7],[1956.7,1934.8],[1934.8,1961.75],[1961.75,1961.75],[1961.75,1961.75],[1961.75,1993.05],[1993.05,2022.35],[2022.35,2047.3],[2047.3,2048.45],[2048.45,2046.45],[2046.45,2046.45],[2046.45,2046.45],[2046.45,2016.8],[2016.8,2007.3],[2007.3,1968.5],[1968.5,2016.6],[2016.6,2023.15],[2023.15,2023.15],[2023.15,2023.15],[2023.15,2047.8],[2047.8,2008.65],[2008.65,2020.9],[2020.9,2028.05],[2028.05,2011.65],[2011.65,2011.65],[2011.65,2011.65],[2011.65,2000.05],[2000.05,1992.1],[1992.1,2026.5],[2026.5,1997.65],[1997.65,1975.05],[1975.05,1975.05],[1975.05,1975.05],[1975.05,990.45],[990.45,999.35],[999.35,995.7],[995.7,1001.95],[1001.95,995.35],[995.35,995.35],[995.35,995.35],[995.35,1023.85],[1023.85,1000.4],[1000.4,995.1],[995.1,990.45],[990.45,1005.25],[1005.25,1005.25],[1005.25,1005.25],[1005.25,990.15],[990.15,984.35],[984.35,997.4],[997.4,988.0],[988.0,990.3],[990.3,990.3],[990.3,990.3],[990.3,983.3],[983.3,980.5],[980.5,957.5],[957.5,938.0],[938.0,937.5],[937.5,937.5],[937.5,937.5],[937.5,950.15],[950.15,971.25],[971.25,984.0],[984.0,989.05],[989.05,1001.85],[1001.85,1001.85],[1001.85,1001.85],[1001.85,1001.25],[1001.25,1112.65],[1112.65,1103.15],[1103.15,1098.0],[1098.0,1087.6],[1087.6,1087.6],[1087.6,1087.6],[1087.6,1065.3],[1065.3,1062.85],[1062.85,1085.4],[1085.4,1070.0],[1070.0,1077.05],[1077.05,1077.05],[1077.05,1077.05],[1077.05,1078.95],[1078.95,1057.25],[1057.25,1086.35],[1086.35,1086.95],[1086.95,1095.6],[1095.6,1095.6],[1095.6,1095.6],[1095.6,1086.0],[1086.0,1109.15],[1109.15,1144.4],[1144.4,1158.0],[1158.0,1149.25],[1149.25,1149.25],[1149.25,1149.25],[1149.25,1142.15],[1142.15,1164.35],[1164.35,1175.55],[1175.55,1134.55],[1134.55,1149.9],[1149.9,1149.9],[1149.9,1149.9],[1149.9,1092.05],[1092.05,1085.65],[1085.65,1064.6],[1064.6,1082.8],[1082.8,1111.05],[1111.05,1111.05],[1111.05,1111.05],[1111.05,1094.4],[1094.4,1089.0],[1089.0,1099.45],[1099.45,1099.35],[1099.35,1073.95],[1073.95,1073.95],[1073.95,1073.95],[1073.95,1058.75],[1058.75,1058.8],[1058.8,1088.7],[1088.7,1080.45],[1080.45,1090.75],[1090.75,1090.75],[1090.75,1090.75],[1090.75,1099.75],[1099.75,1099.2],[1099.2,1101.65],[1101.65,1101.65],[1101.65,1104.45],[1104.45,1104.45],[1104.45,1104.45],[1104.45,1104.65],[1104.65,1107.45],[1107.45,1116.25],[1116.25,1140.55],[1140.55,1140.55],[1140.55,1140.55],[1140.55,1140.55],[1140.55,1105.55],[1105.55,1121.85],[1121.85,1161.95],[1161.95,1173.05],[1173.05,1173.05],[1173.05,1173.05],[1173.05,1173.05],[1173.05,1181.75],[1181.75,1154.6],[1154.6,1133.2],[1133.2,1132.15],[1132.15,1167.4],[1167.4,1167.4],[1167.4,1167.4],[1167.4,1122.9],[1122.9,1099.4],[1099.4,1097.6],[1097.6,1097.35],[1097.35,1094.9],[1094.9,1094.9],[1094.9,1094.9],[1094.9,1111.95],[1111.95,1125.95],[1125.95,1138.4],[1138.4,1138.4],[1138.4,1149.9],[1149.9,1149.9],[1149.9,1149.9],[1149.9,1152.15],[1152.15,1149.4],[1149.4,1153.2],[1153.2,1145.05],[1145.05,1135.45],[1135.45,1135.45],[1135.45,1135.45],[1135.45,1131.2],[1131.2,1145.5],[1145.5,1136.8],[1136.8,1122.9],[1122.9,1138.3],[1138.3,1138.3],[1138.3,1138.3],[1138.3,1134.6],[1134.6,1103.85],[1103.85,1107.6],[1107.6,1107.6],[1107.6,1100.8],[1100.8,1100.8],[1100.8,1100.8],[1100.8,1080.2],[1080.2,1061.5],[1061.5,1020.0],[1020.0,1047.8],[1047.8,1052.4],[1052.4,1052.4],[1052.4,1052.4],[1052.4,1053.7],[1053.7,1041.15],[1041.15,1041.15],[1041.15,1052.4],[1052.4,1066.35],[1066.35,1066.35],[1066.35,1066.35],[1066.35,1087.9],[1087.9,1079.0],[1079.0,1060.7],[1060.7,1057.75],[1057.75,1049.05],[1049.05,1049.05],[1049.05,1049.05],[1049.05,1046.25],[1046.25,1044.4],[1044.4,1028.2],[1028.2,1047.35],[1047.35,1052.8],[1052.8,1052.8],[1052.8,1052.8],[1052.8,1069.5],[1069.5,1077.55],[1077.55,1095.85],[1095.85,1107.1],[1107.1,1083.15],[1083.15,1083.15],[1083.15,1083.15],[1083.15,1103.45],[1103.45,1083.75],[1083.75,1100.85],[1100.85,1096.35],[1096.35,1096.35],[1096.35,1096.35],[1096.35,1096.35],[1096.35,1104.75],[1104.75,1104.7],[1104.7,1086.3],[1086.3,1105.4],[1105.4,1105.25],[1105.25,1105.25],[1105.25,1105.25],[1105.25,1078.9],[1078.9,1074.05],[1074.05,1069.35],[1069.35,1050.8],[1050.8,1063.3],[1063.3,1063.3],[1063.3,1063.3],[1063.3,1055.7],[1055.7,1049.95],[1049.95,1083.4],[1083.4,1133.0],[1133.0,1139.9],[1139.9,1139.9],[1139.9,1139.9],[1139.9,1131.9],[1131.9,1139.65],[1139.65,1121.25],[1121.25,1137.05],[1137.05,1136.25],[1136.25,1136.25],[1136.25,1136.25],[1136.25,1137.65],[1137.65,1137.65],[1137.65,1138.5],[1138.5,1129.6],[1129.6,1164.9],[1164.9,1164.9],[1164.9,1164.9],[1164.9,1173.35],[1173.35,1175.55],[1175.55,1157.7],[1157.7,1179.75],[1179.75,1174.7],[1174.7,1174.7],[1174.7,1174.7],[1174.7,1150.8],[1150.8,1107.65],[1107.65,1108.55],[1108.55,1078.65],[1078.65,1084.65],[1084.65,1084.65],[1084.65,1084.65],[1084.65,1091.75],[1091.75,1079.15],[1079.15,1097.85],[1097.85,1123.4],[1123.4,1127.25],[1127.25,1127.25],[1127.25,1127.25],[1127.25,1126.65],[1126.65,1123.9],[1123.9,1125.35],[1125.35,1110.3],[1110.3,1121.15],[1121.15,1121.15],[1121.15,1121.15],[1121.15,1084.05],[1084.05,1125.45],[1125.45,1156.0],[1156.0,1169.3],[1169.3,1170.65],[1170.65,1170.65],[1170.65,1170.65],[1170.65,1170.65],[1170.65,1163.45],[1163.45,1178.5],[1178.5,1142.5],[1142.5,1143.0],[1143.0,1143.0],[1143.0,1143.0],[1143.0,1141.2],[1141.2,1134.4],[1134.4,1152.45],[1152.45,1161.75],[1161.75,1193.4],[1193.4,1193.4],[1193.4,1193.4],[1193.4,1194.9],[1194.9,1189.95],[1189.95,1207.8],[1207.8,1207.8],[1207.8,1207.8],[1207.8,1207.8],[1207.8,1207.8],[1207.8,1204.9],[1204.9,1197.25],[1197.25,1205.95],[1205.95,1218.3]]},\"selected\":{\"id\":\"ad665400-e1af-438e-b52f-6ccf2a5f733c\",\"type\":\"Selection\"},\"selection_policy\":{\"id\":\"390df2ef-6f1a-488b-8967-e54535a8a6fe\",\"type\":\"UnionRenderers\"}},\"id\":\"54d9079b-6cf2-4b04-9381-d741ff37957b\",\"type\":\"ColumnDataSource\"},{\"attributes\":{\"overlay\":{\"id\":\"aa84a6c0-690c-4502-a6f5-ffe1bd0c70d7\",\"type\":\"BoxAnnotation\"}},\"id\":\"a7279fbf-3f88-4009-b5f2-b3165a9f0f73\",\"type\":\"BoxZoomTool\"},{\"attributes\":{},\"id\":\"c19c646f-00b9-44e0-8e00-8d725b6dcf38\",\"type\":\"SaveTool\"},{\"attributes\":{},\"id\":\"078ad006-9a0c-4e6c-a67e-94c7543be9c1\",\"type\":\"ResetTool\"},{\"attributes\":{},\"id\":\"a6a3f472-f790-4676-a1c8-48e7f99cddbc\",\"type\":\"HelpTool\"},{\"attributes\":{\"bottom_units\":\"screen\",\"fill_alpha\":{\"value\":0.5},\"fill_color\":{\"value\":\"lightgrey\"},\"left_units\":\"screen\",\"level\":\"overlay\",\"line_alpha\":{\"value\":1.0},\"line_color\":{\"value\":\"black\"},\"line_dash\":[4,4],\"line_width\":{\"value\":2},\"plot\":null,\"render_mode\":\"css\",\"right_units\":\"screen\",\"top_units\":\"screen\"},\"id\":\"aa84a6c0-690c-4502-a6f5-ffe1bd0c70d7\",\"type\":\"BoxAnnotation\"},{\"attributes\":{\"days\":[1,2,3,4,5,6,7,8,9,10,11,12,13,14,15,16,17,18,19,20,21,22,23,24,25,26,27,28,29,30,31]},\"id\":\"05c83bfb-f59c-4ad0-be51-8d7463cb0075\",\"type\":\"DaysTicker\"},{\"attributes\":{\"months\":[0,6]},\"id\":\"5f820215-8343-48ed-8cb9-3b9e47154414\",\"type\":\"MonthsTicker\"},{\"attributes\":{},\"id\":\"652d2c66-4539-4758-8038-c7b8b826ca4f\",\"type\":\"BasicTickFormatter\"},{\"attributes\":{},\"id\":\"16425a36-543c-4188-8f86-0758c102ae88\",\"type\":\"YearsTicker\"},{\"attributes\":{\"days\":[1,15]},\"id\":\"8c5dc6db-deb5-4b69-9b8e-c3384e8ddf6b\",\"type\":\"DaysTicker\"},{\"attributes\":{\"plot\":null,\"text\":\"\"},\"id\":\"2a64415d-47ed-422d-a82c-e173944bf5de\",\"type\":\"Title\"},{\"attributes\":{\"months\":[0,1,2,3,4,5,6,7,8,9,10,11]},\"id\":\"acf4cab1-9715-416b-80fb-0ba4f5ef1116\",\"type\":\"MonthsTicker\"},{\"attributes\":{\"months\":[0,2,4,6,8,10]},\"id\":\"ada20e50-3e85-4b62-9231-f1a3ba003881\",\"type\":\"MonthsTicker\"},{\"attributes\":{\"months\":[0,4,8]},\"id\":\"f073cadc-d0bb-4df6-b415-ff28aeb6329d\",\"type\":\"MonthsTicker\"},{\"attributes\":{\"mantissas\":[1,2,5],\"max_interval\":500.0,\"num_minor_ticks\":0},\"id\":\"e200f1a0-8f10-4198-877a-280fe1d31b64\",\"type\":\"AdaptiveTicker\"},{\"attributes\":{\"base\":60,\"mantissas\":[1,2,5,10,15,20,30],\"max_interval\":1800000.0,\"min_interval\":1000.0,\"num_minor_ticks\":0},\"id\":\"aefcc6bf-9c6b-49f6-943b-72925b3b865e\",\"type\":\"AdaptiveTicker\"},{\"attributes\":{\"line_color\":{\"field\":\"line_color\"},\"xs\":{\"field\":\"xs\"},\"ys\":{\"field\":\"ys\"}},\"id\":\"4475a2bd-f498-412f-a165-fe21d350c45d\",\"type\":\"MultiLine\"},{\"attributes\":{},\"id\":\"ad665400-e1af-438e-b52f-6ccf2a5f733c\",\"type\":\"Selection\"},{\"attributes\":{},\"id\":\"390df2ef-6f1a-488b-8967-e54535a8a6fe\",\"type\":\"UnionRenderers\"},{\"attributes\":{\"source\":{\"id\":\"54d9079b-6cf2-4b04-9381-d741ff37957b\",\"type\":\"ColumnDataSource\"}},\"id\":\"05e1ef31-d391-4870-b9fe-ddd4c49bce19\",\"type\":\"CDSView\"},{\"attributes\":{\"callback\":null},\"id\":\"3edcf9b7-ffec-4925-8228-a090c38b12b8\",\"type\":\"DataRange1d\"},{\"attributes\":{\"line_alpha\":{\"value\":0.1},\"line_color\":{\"value\":\"#1f77b4\"},\"xs\":{\"field\":\"xs\"},\"ys\":{\"field\":\"ys\"}},\"id\":\"f9eed326-3e26-4de2-ab38-02e0873a5715\",\"type\":\"MultiLine\"},{\"attributes\":{\"callback\":null},\"id\":\"8e5ac969-13c2-4cd3-800f-2dc90c7e720b\",\"type\":\"DataRange1d\"},{\"attributes\":{},\"id\":\"cda22651-73df-49a6-82e9-c3906aa9f2a7\",\"type\":\"DatetimeTickFormatter\"},{\"attributes\":{},\"id\":\"26a53f8b-794f-46ed-8f4b-6d0aa5a64407\",\"type\":\"LinearScale\"},{\"attributes\":{\"active_drag\":\"auto\",\"active_inspect\":\"auto\",\"active_multi\":null,\"active_scroll\":\"auto\",\"active_tap\":\"auto\",\"tools\":[{\"id\":\"16135e05-2c45-4e28-9dcd-78dd2915fc1c\",\"type\":\"PanTool\"},{\"id\":\"ceb574de-9ab9-4df0-aa41-a16779ebfe24\",\"type\":\"WheelZoomTool\"},{\"id\":\"a7279fbf-3f88-4009-b5f2-b3165a9f0f73\",\"type\":\"BoxZoomTool\"},{\"id\":\"c19c646f-00b9-44e0-8e00-8d725b6dcf38\",\"type\":\"SaveTool\"},{\"id\":\"078ad006-9a0c-4e6c-a67e-94c7543be9c1\",\"type\":\"ResetTool\"},{\"id\":\"a6a3f472-f790-4676-a1c8-48e7f99cddbc\",\"type\":\"HelpTool\"}]},\"id\":\"b65217ac-350a-498f-895d-493d109d2ba4\",\"type\":\"Toolbar\"},{\"attributes\":{},\"id\":\"a2691494-c001-41ef-a318-ba21fbc2cbc5\",\"type\":\"LinearScale\"},{\"attributes\":{\"plot\":{\"id\":\"77b0cb16-b88f-4a3d-a8cd-8964f9b9e17e\",\"subtype\":\"Figure\",\"type\":\"Plot\"},\"ticker\":{\"id\":\"7e1c52ee-c43f-4ca3-9aaa-67f2ca2991f0\",\"type\":\"DatetimeTicker\"}},\"id\":\"a0338ce8-22d4-4039-a5a8-fe9a7d700bd5\",\"type\":\"Grid\"},{\"attributes\":{\"axis_label\":\"Date\",\"formatter\":{\"id\":\"cda22651-73df-49a6-82e9-c3906aa9f2a7\",\"type\":\"DatetimeTickFormatter\"},\"plot\":{\"id\":\"77b0cb16-b88f-4a3d-a8cd-8964f9b9e17e\",\"subtype\":\"Figure\",\"type\":\"Plot\"},\"ticker\":{\"id\":\"7e1c52ee-c43f-4ca3-9aaa-67f2ca2991f0\",\"type\":\"DatetimeTicker\"}},\"id\":\"19fc9723-32b8-4381-8784-66aa241a8e45\",\"type\":\"DatetimeAxis\"},{\"attributes\":{\"num_minor_ticks\":5,\"tickers\":[{\"id\":\"e200f1a0-8f10-4198-877a-280fe1d31b64\",\"type\":\"AdaptiveTicker\"},{\"id\":\"aefcc6bf-9c6b-49f6-943b-72925b3b865e\",\"type\":\"AdaptiveTicker\"},{\"id\":\"f0fd17f0-85cb-477b-9da7-9b796dcc1872\",\"type\":\"AdaptiveTicker\"},{\"id\":\"05c83bfb-f59c-4ad0-be51-8d7463cb0075\",\"type\":\"DaysTicker\"},{\"id\":\"66d6f74a-250b-43de-8188-be810e821f6b\",\"type\":\"DaysTicker\"},{\"id\":\"efac7bbc-153d-4c19-becd-408125560078\",\"type\":\"DaysTicker\"},{\"id\":\"8c5dc6db-deb5-4b69-9b8e-c3384e8ddf6b\",\"type\":\"DaysTicker\"},{\"id\":\"acf4cab1-9715-416b-80fb-0ba4f5ef1116\",\"type\":\"MonthsTicker\"},{\"id\":\"ada20e50-3e85-4b62-9231-f1a3ba003881\",\"type\":\"MonthsTicker\"},{\"id\":\"f073cadc-d0bb-4df6-b415-ff28aeb6329d\",\"type\":\"MonthsTicker\"},{\"id\":\"5f820215-8343-48ed-8cb9-3b9e47154414\",\"type\":\"MonthsTicker\"},{\"id\":\"16425a36-543c-4188-8f86-0758c102ae88\",\"type\":\"YearsTicker\"}]},\"id\":\"7e1c52ee-c43f-4ca3-9aaa-67f2ca2991f0\",\"type\":\"DatetimeTicker\"}],\"root_ids\":[\"77b0cb16-b88f-4a3d-a8cd-8964f9b9e17e\"]},\"title\":\"Bokeh Application\",\"version\":\"0.13.0\"}};\n",
       "  var render_items = [{\"docid\":\"cccc2793-3664-4bd4-a459-c5e474a42993\",\"roots\":{\"77b0cb16-b88f-4a3d-a8cd-8964f9b9e17e\":\"b790d06f-464e-423e-bebb-aaff01369e38\"}}];\n",
       "  root.Bokeh.embed.embed_items_notebook(docs_json, render_items);\n",
       "\n",
       "  }\n",
       "  if (root.Bokeh !== undefined) {\n",
       "    embed_document(root);\n",
       "  } else {\n",
       "    var attempts = 0;\n",
       "    var timer = setInterval(function(root) {\n",
       "      if (root.Bokeh !== undefined) {\n",
       "        embed_document(root);\n",
       "        clearInterval(timer);\n",
       "      }\n",
       "      attempts++;\n",
       "      if (attempts > 100) {\n",
       "        console.log(\"Bokeh: ERROR: Unable to run BokehJS code because BokehJS library is missing\")\n",
       "        clearInterval(timer);\n",
       "      }\n",
       "    }, 10, root)\n",
       "  }\n",
       "})(window);"
      ],
      "application/vnd.bokehjs_exec.v0+json": ""
     },
     "metadata": {
      "application/vnd.bokehjs_exec.v0+json": {
       "id": "77b0cb16-b88f-4a3d-a8cd-8964f9b9e17e"
      }
     },
     "output_type": "display_data"
    }
   ],
   "source": [
    "## to created 52 - MA gradient \n",
    "from bokeh.palettes import magma\n",
    "from bokeh.palettes import Spectral6\n",
    "from bokeh.transform import linear_cmap\n",
    "from bokeh.models import ColumnDataSource, ColorBar\n",
    "\n",
    "import matplotlib.colors as mcol\n",
    "import matplotlib.cm as cm\n",
    "def rgb2hex(r,g,b):\n",
    "    hex = \"#{:02x}{:02x}{:02x}\".format(r,g,b)\n",
    "    return hex\n",
    "\n",
    "\n",
    "\n",
    "infy_diff_avg = (infy_2.Close.rolling(100).mean().shift()-infy_2.Close.rolling(2).mean()).fillna(0)\n",
    "\n",
    "\n",
    "cm1 = mcol.LinearSegmentedColormap.from_list(\"MyCmapName\",['blue', 'lightblue'])\n",
    "cpick = cm.ScalarMappable(cmap=cm1)\n",
    "cpick.set_array([])\n",
    "percentages = []\n",
    "max_diff = infy_diff_avg.abs().max()\n",
    "\n",
    "\n",
    "for item in infy_diff_avg.iteritems():\n",
    "    percentages.append(np.abs(item[1])/max_diff)\n",
    "\n",
    "rgba_array = cpick.to_rgba(percentages)\n",
    "color_array = []\n",
    "for row in rgba_array:\n",
    "    color_array.append(rgb2hex(int(row[0]*255),int(row[1]*255),int(row[2]*255)))\n",
    "    \n",
    "\n",
    "color_array = color_array[1:]\n",
    "\n",
    "    \n",
    "\n",
    "plot = figure(x_axis_type=\"datetime\", x_axis_label='Date', y_axis_label='Closing Price')\n",
    "\n",
    "\n",
    "plot.multi_line(list_1,list_2,color=color_array)\n",
    "show(plot)\n",
    "\n"
   ]
  },
  {
   "cell_type": "code",
   "execution_count": null,
   "metadata": {},
   "outputs": [],
   "source": []
  },
  {
   "cell_type": "code",
   "execution_count": 182,
   "metadata": {},
   "outputs": [
    {
     "data": {
      "text/html": [
       "\n",
       "\n",
       "\n",
       "\n",
       "\n",
       "\n",
       "  <div class=\"bk-root\" id=\"463d8a8b-41f6-4692-b5eb-69f139a39ed2\"></div>\n"
      ]
     },
     "metadata": {},
     "output_type": "display_data"
    },
    {
     "data": {
      "application/javascript": [
       "(function(root) {\n",
       "  function embed_document(root) {\n",
       "    \n",
       "  var docs_json = {\"0c2535cf-880d-47a5-8da2-19cfeb95b3c7\":{\"roots\":{\"references\":[{\"attributes\":{\"line_alpha\":0.1,\"line_color\":\"#1f77b4\",\"line_width\":3,\"x\":{\"field\":\"x\"},\"y\":{\"field\":\"y\"}},\"id\":\"7320dc57-001d-4bdd-a72a-ed7564525a58\",\"type\":\"Line\"},{\"attributes\":{},\"id\":\"784a7b8b-4a24-4893-8998-1616fa590bf6\",\"type\":\"Selection\"},{\"attributes\":{},\"id\":\"4669f844-b62d-45e0-88c0-1e47cdf01f24\",\"type\":\"Selection\"},{\"attributes\":{},\"id\":\"0951c204-0438-4c15-a269-aaadc88afd23\",\"type\":\"Selection\"},{\"attributes\":{\"line_color\":\"red\",\"line_width\":4,\"x\":{\"field\":\"x\"},\"y\":{\"field\":\"y\"}},\"id\":\"3e45fb59-0afd-4f25-885b-6d6da6ff8987\",\"type\":\"Line\"},{\"attributes\":{\"fill_color\":{\"value\":\"#1f77b4\"},\"line_color\":{\"value\":\"#1f77b4\"},\"size\":{\"units\":\"screen\",\"value\":8},\"x\":{\"field\":\"x\"},\"y\":{\"field\":\"y\"}},\"id\":\"b14dc68c-8199-46d4-89e8-e0b8650e874c\",\"type\":\"Circle\"},{\"attributes\":{\"data_source\":{\"id\":\"a8173c1b-9623-4fd9-b12c-cae76e493276\",\"type\":\"ColumnDataSource\"},\"glyph\":{\"id\":\"8a79c0d4-1638-4af0-a37d-19546803b367\",\"type\":\"Line\"},\"hover_glyph\":null,\"muted_glyph\":null,\"nonselection_glyph\":{\"id\":\"7a58ac98-fad0-47fe-92fc-57b9328ce119\",\"type\":\"Line\"},\"selection_glyph\":null,\"view\":{\"id\":\"9a58ead0-225d-4d14-bd04-b0bd894bc8a2\",\"type\":\"CDSView\"}},\"id\":\"c050337d-33fc-4a5b-8782-8cca744d527a\",\"type\":\"GlyphRenderer\"},{\"attributes\":{\"label\":{\"value\":\"infy\"},\"renderers\":[{\"id\":\"3ffeda87-fae9-45c4-a979-d4b48a5af5cd\",\"type\":\"GlyphRenderer\"}]},\"id\":\"07566355-30fa-440b-bfe2-8f95f9e28a9a\",\"type\":\"LegendItem\"},{\"attributes\":{\"source\":{\"id\":\"a8173c1b-9623-4fd9-b12c-cae76e493276\",\"type\":\"ColumnDataSource\"}},\"id\":\"9a58ead0-225d-4d14-bd04-b0bd894bc8a2\",\"type\":\"CDSView\"},{\"attributes\":{\"source\":{\"id\":\"437cf03e-eb52-4677-83a5-4d47a12aac01\",\"type\":\"ColumnDataSource\"}},\"id\":\"eab2926f-8edd-42e8-b1dc-02aa6a21aa71\",\"type\":\"CDSView\"},{\"attributes\":{\"callback\":null,\"data\":{\"x\":{\"__ndarray__\":\"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\",\"dtype\":\"float64\",\"shape\":[247]},\"y\":{\"__ndarray__\":\"mpmZmRlYx0AAAAAAoGDHQM3MzMysasdAZmZmZibbx0AzMzMzs/vHQAAAAABgA8hAZmZmZuYWyEBmZmZmRr3HQAAAAACAjcdAZmZmZoYNx0CamZmZGZXGQDMzMzMzk8ZAAAAAAAByxkBmZmZmxl3GQAAAAAAgvsVAMzMzM/OsxUCamZmZeZbFQDMzMzMzq8VAZmZmZoZ8xUCamZmZudvFQAAAAAAg0cVAzczMzGxdxUAAAAAA4LvFQGZmZmYG0sVAZmZmZkYexkCamZmZObfFQAAAAABA0cVAzczMzMyqxUAzMzMz89HFQJqZmZm5B8ZAmpmZmRk2xkCamZmZ2ZnGQM3MzMxMscZAMzMzMzPoxkDNzMzMrLPGQDMzMzPznsZAAAAAAMAzxkDNzMzMbF3GQGZmZmaGm8ZAMzMzM9OCxkAzMzMz8ynGQM3MzMyMMMZAmpmZmZk5xkBmZmZmxg3GQM3MzMxM88VAmpmZmXnDxUCamZmZ2UTGQDMzMzOT7cVAzczMzKyUxUDNzMzM7KrFQJqZmZmZt8VAAAAAAMDDxUDNzMzMrOfFQDMzMzPT9cVAZmZmZuZSxkAzMzMzkybGQAAAAADgLMZAMzMzMzPlxUBmZmZmRjHGQDMzMzPTvsVAMzMzM7OOxUDNzMzMzObFQAAAAACg2cVAMzMzM1PfxUDNzMzMzOTFQM3MzMzsw8VAZmZmZuaGxUCamZmZWSbFQAAAAAAgF8VAzczMzGx7xUDNzMzM7JHFQAAAAAAgx8VAzczMzMzbxUCamZmZmQLGQJqZmZl5AcZAmpmZmbnDxkAAAAAA4L3GQJqZmZlZk8ZAMzMzMxNkxkCamZmZOTHGQAAAAAAgFcZAmpmZmVlnxkBmZmZmRkHGQDMzMzMTpcZAMzMzMzNlxkBmZmZmxkvGQAAAAAAAscZAAAAAAECwxkBmZmZmhqbGQDMzMzPzmsZAMzMzM5PfxkBmZmZmZnPHQM3MzMwMWsdAmpmZmTmIx0AAAAAA4HDHQDMzMzOzv8dAzczMzIzsx0AAAAAAoGjHQGZmZmYmgMdAMzMzM5NfxkAAAAAAYDjGQM3MzMwMCsZAMzMzM3NCxkAAAAAAIKLGQJqZmZnZqsZAmpmZmTlqxkCamZmZWarGQM3MzMxszMZAzczMzMxKxkBmZmZmJhvGQM3MzMwMP8ZAMzMzM3N4xkCamZmZeULGQAAAAAAgVMZAZmZmZiaAxkDNzMzMLIjGQDMzMzNTq8ZAmpmZmVnnxkBmZmZmBubGQGZmZmbG3MZAAAAAAADXxkDNzMzMDFnHQGZmZmaGIMdAmpmZmfkrx0DNzMzMDIDHQM3MzMzsLcdAzczMzAxxx0AzMzMz8zjHQJqZmZm50cZAmpmZmdnKxkBmZmZmxg/HQDMzMzNTt8ZAzczMzEyBxkAzMzMzczHGQM3MzMwsJcZAZmZmZuYkxkAzMzMzE1TGQM3MzMzMhMZAZmZmZoaOxkAAAAAAAJDGQM3MzMwsnMZAZmZmZsafxkBmZmZmpr3GQDMzMzMTjsZAMzMzM3NvxkAAAAAAII3GQDMzMzMzscZAzczMzMyPxkCamZmZOUvGQJqZmZm5bsZAMzMzMxNKxkCamZmZGefFQJqZmZnZ+MVAmpmZmTmvxUBmZmZm5n3FQM3MzMyMjcVAmpmZmVkqxUAzMzMzc4zFQM3MzMxst8VAmpmZmZm4xUDNzMzMrJjFQJqZmZl5kcVAMzMzM3O5xUAAAAAAAOPFQGZmZmYm/MVAzczMzMzGxUAzMzMz86TFQGZmZmaGbMVAMzMzM1N7xUDNzMzM7HLFQGZmZmYGWcVAAAAAAMCXxUBmZmZmhpHFQJqZmZnZrcVAAAAAACCZxUAzMzMzc8TFQDMzMzOTBcZAAAAAAEC5xUAAAAAAYOzFQJqZmZm5q8VAMzMzM9PdxUAzMzMzc9jFQGZmZmbmA8ZAmpmZmbn6xUDNzMzMzLbFQGZmZmZG5sVAzczMzGzTxUAAAAAAoIrFQDMzMzOTesVAMzMzMxOFxUCamZmZmTfFQGZmZmbGdsVAMzMzM/MjxUDNzMzMLBPFQM3MzMzsK8VAmpmZmTlyxUCamZmZeXnFQAAAAAAAdMVAzczMzIxpxUAAAAAAQE/FQJqZmZlZW8VAmpmZmVl/xUDNzMzMrIjFQM3MzMyMisVAmpmZmVl9xUAzMzMzE/LFQAAAAACgFMZAzczMzAz1xUAAAAAAILnFQDMzMzPT5sVAZmZmZsbtxUCamZmZuXzFQAAAAAAgu8RAmpmZmTm0xECamZmZeSTEQJqZmZk5KsRAAAAAAOB+xEAzMzMzU1nEQJqZmZk5g8RAAAAAACDnxEAzMzMzcwjFQM3MzMxM8MRAmpmZmbm0xEBmZmZmBnLEQAAAAADAUcRAzczMzKxvxEAzMzMzMxPEQM3MzMysxsRAzczMzIxIxUCamZmZeZfFQM3MzMxscsVAmpmZmRlRxUBmZmZm5lbFQDMzMzNzJcVAmpmZmbkpxUDNzMzMbDnFQJqZmZk59cRAmpmZmZkZxUAAAAAAwFXFQJqZmZnZy8VAzczMzOzcxUDNzMzMTOPFQDMzMzMT7sVAmpmZmVnQxUCamZmZWbXFQGZmZmZG+8VAZmZmZqYWxkA=\",\"dtype\":\"float64\",\"shape\":[247]}},\"selected\":{\"id\":\"784a7b8b-4a24-4893-8998-1616fa590bf6\",\"type\":\"Selection\"},\"selection_policy\":{\"id\":\"5f6cefa4-94d1-4917-9256-d640ddb6c544\",\"type\":\"UnionRenderers\"}},\"id\":\"9faf5cc3-d571-4375-bde4-008e0e10d702\",\"type\":\"ColumnDataSource\"},{\"attributes\":{},\"id\":\"792265c6-e247-4d1e-916b-3b7fa9ece90f\",\"type\":\"UnionRenderers\"},{\"attributes\":{},\"id\":\"6e9a9206-1fd3-49fc-9cd5-c18d2305606b\",\"type\":\"UnionRenderers\"},{\"attributes\":{\"label\":{\"value\":\"TCS - Volume shock\"},\"renderers\":[{\"id\":\"23c0bc28-2729-478b-b8c4-46bc921149be\",\"type\":\"GlyphRenderer\"}]},\"id\":\"adf172aa-951a-46cf-a20c-9ceb4db1cee5\",\"type\":\"LegendItem\"},{\"attributes\":{\"callback\":null,\"data\":{\"x\":{\"__ndarray__\":\"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\",\"dtype\":\"float64\",\"shape\":[247]},\"y\":{\"__ndarray__\":\"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\",\"dtype\":\"float64\",\"shape\":[247]}},\"selected\":{\"id\":\"945939d9-d5a0-489f-b146-322937ad7d61\",\"type\":\"Selection\"},\"selection_policy\":{\"id\":\"cd5edb12-1fc9-4336-b462-43648ea228d8\",\"type\":\"UnionRenderers\"}},\"id\":\"89260539-152c-4b53-b6da-2d763a505af4\",\"type\":\"ColumnDataSource\"},{\"attributes\":{},\"id\":\"cd5edb12-1fc9-4336-b462-43648ea228d8\",\"type\":\"UnionRenderers\"},{\"attributes\":{\"fill_color\":{\"value\":\"red\"},\"line_color\":{\"value\":\"#1f77b4\"},\"size\":{\"units\":\"screen\",\"value\":8},\"x\":{\"field\":\"x\"},\"y\":{\"field\":\"y\"}},\"id\":\"fd92715d-c305-41c4-9abc-b5844f615c4c\",\"type\":\"Circle\"},{\"attributes\":{},\"id\":\"b276ec3b-8991-407c-9069-ef83ff97e7a2\",\"type\":\"Selection\"},{\"attributes\":{\"source\":{\"id\":\"63c0d5cf-f4bf-4dcd-9efb-d21608809b0c\",\"type\":\"ColumnDataSource\"}},\"id\":\"5ea9f7fd-0045-4474-b99a-e72c15e36c0a\",\"type\":\"CDSView\"},{\"attributes\":{\"num_minor_ticks\":5,\"tickers\":[{\"id\":\"6958431e-b2dc-41b1-bd3d-36ab73be2cb2\",\"type\":\"AdaptiveTicker\"},{\"id\":\"51143218-8186-46a3-957e-2c84da43596b\",\"type\":\"AdaptiveTicker\"},{\"id\":\"3158fc45-951f-4d48-8a7d-9abbe440e980\",\"type\":\"AdaptiveTicker\"},{\"id\":\"38f1a086-3b4a-4537-bc4a-29a672332c07\",\"type\":\"DaysTicker\"},{\"id\":\"9549fa9f-6ca7-486c-9084-1025fcb89908\",\"type\":\"DaysTicker\"},{\"id\":\"e50aeebb-45e6-4ec7-af79-381e4e8b5100\",\"type\":\"DaysTicker\"},{\"id\":\"43dad77a-0028-49fd-99c4-f7a761573730\",\"type\":\"DaysTicker\"},{\"id\":\"4ef24508-e867-422f-9dbf-e66fa16ec394\",\"type\":\"MonthsTicker\"},{\"id\":\"395436a7-eb83-4037-8265-2498f44a2b0e\",\"type\":\"MonthsTicker\"},{\"id\":\"c48f7269-9db9-47ab-9e83-55e9335ecb33\",\"type\":\"MonthsTicker\"},{\"id\":\"6f955cb0-4ae3-408b-82a5-85e7299f4730\",\"type\":\"MonthsTicker\"},{\"id\":\"a841194c-d0ad-4df6-9278-ed92a2d118cd\",\"type\":\"YearsTicker\"}]},\"id\":\"cc82e03f-64fe-46fa-b8ad-1f6e27c50756\",\"type\":\"DatetimeTicker\"},{\"attributes\":{\"line_alpha\":0.1,\"line_color\":\"#1f77b4\",\"line_width\":4,\"x\":{\"field\":\"x\"},\"y\":{\"field\":\"y\"}},\"id\":\"33cbf507-324f-4462-b056-2b9157158903\",\"type\":\"Line\"},{\"attributes\":{},\"id\":\"03586043-7f89-4fb5-84e6-0180e99a8bc9\",\"type\":\"BasicTicker\"},{\"attributes\":{\"data_source\":{\"id\":\"63c0d5cf-f4bf-4dcd-9efb-d21608809b0c\",\"type\":\"ColumnDataSource\"},\"glyph\":{\"id\":\"208d6128-180a-43bd-b7c7-323d82f91225\",\"type\":\"Line\"},\"hover_glyph\":null,\"muted_glyph\":null,\"nonselection_glyph\":{\"id\":\"33cbf507-324f-4462-b056-2b9157158903\",\"type\":\"Line\"},\"selection_glyph\":null,\"view\":{\"id\":\"5ea9f7fd-0045-4474-b99a-e72c15e36c0a\",\"type\":\"CDSView\"}},\"id\":\"3ffeda87-fae9-45c4-a979-d4b48a5af5cd\",\"type\":\"GlyphRenderer\"},{\"attributes\":{\"base\":60,\"mantissas\":[1,2,5,10,15,20,30],\"max_interval\":1800000.0,\"min_interval\":1000.0,\"num_minor_ticks\":0},\"id\":\"51143218-8186-46a3-957e-2c84da43596b\",\"type\":\"AdaptiveTicker\"},{\"attributes\":{\"label\":{\"value\":\"infy closing Pricing shock without volume shock\"},\"renderers\":[{\"id\":\"e629dcc5-f810-494d-87fa-192930c1c68a\",\"type\":\"GlyphRenderer\"}]},\"id\":\"d5041581-7588-440a-83b1-85a937828e0f\",\"type\":\"LegendItem\"},{\"attributes\":{\"source\":{\"id\":\"89260539-152c-4b53-b6da-2d763a505af4\",\"type\":\"ColumnDataSource\"}},\"id\":\"2999fa51-b368-4c89-ac08-b9cffe1770b9\",\"type\":\"CDSView\"},{\"attributes\":{\"label\":{\"value\":\"NiftyIT - Volume shock\"},\"renderers\":[{\"id\":\"ab2a9986-a23f-4496-845a-a3e38f3d7b84\",\"type\":\"GlyphRenderer\"}]},\"id\":\"4bb7a23b-623a-4498-a1cf-89372f9ecc26\",\"type\":\"LegendItem\"},{\"attributes\":{\"mantissas\":[1,2,5],\"max_interval\":500.0,\"num_minor_ticks\":0},\"id\":\"6958431e-b2dc-41b1-bd3d-36ab73be2cb2\",\"type\":\"AdaptiveTicker\"},{\"attributes\":{\"label\":{\"value\":\"Infy - Volume shock\"},\"renderers\":[{\"id\":\"c050337d-33fc-4a5b-8782-8cca744d527a\",\"type\":\"GlyphRenderer\"}]},\"id\":\"8630589a-28b5-4701-84de-8d3202170b2f\",\"type\":\"LegendItem\"},{\"attributes\":{},\"id\":\"d81303c7-1f58-47bd-b518-19ae2da7aed6\",\"type\":\"UnionRenderers\"},{\"attributes\":{},\"id\":\"acabb36f-d825-4082-8196-7d529128a550\",\"type\":\"LinearScale\"},{\"attributes\":{\"line_alpha\":0.1,\"line_color\":\"#1f77b4\",\"line_width\":4,\"x\":{\"field\":\"x\"},\"y\":{\"field\":\"y\"}},\"id\":\"7a58ac98-fad0-47fe-92fc-57b9328ce119\",\"type\":\"Line\"},{\"attributes\":{\"axis_label\":\"Closing Price\",\"formatter\":{\"id\":\"d4e1bc51-3d94-44d3-923a-187e787242a8\",\"type\":\"BasicTickFormatter\"},\"plot\":{\"id\":\"6e79e8ba-af40-4a7b-953a-d0555fb8c043\",\"subtype\":\"Figure\",\"type\":\"Plot\"},\"ticker\":{\"id\":\"03586043-7f89-4fb5-84e6-0180e99a8bc9\",\"type\":\"BasicTicker\"}},\"id\":\"086de67f-8124-4cce-844f-54c633153a57\",\"type\":\"LinearAxis\"},{\"attributes\":{\"months\":[0,4,8]},\"id\":\"c48f7269-9db9-47ab-9e83-55e9335ecb33\",\"type\":\"MonthsTicker\"},{\"attributes\":{\"callback\":null,\"data\":{\"x\":{\"__ndarray__\":\"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\",\"dtype\":\"float64\",\"shape\":[247]},\"y\":{\"__ndarray__\":\"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\",\"dtype\":\"float64\",\"shape\":[247]}},\"selected\":{\"id\":\"fe59f4fd-af53-4a98-b755-756df74d1d84\",\"type\":\"Selection\"},\"selection_policy\":{\"id\":\"6e9a9206-1fd3-49fc-9cd5-c18d2305606b\",\"type\":\"UnionRenderers\"}},\"id\":\"a8173c1b-9623-4fd9-b12c-cae76e493276\",\"type\":\"ColumnDataSource\"},{\"attributes\":{\"overlay\":{\"id\":\"370571c4-eec5-4952-89ef-266c830eb3e0\",\"type\":\"BoxAnnotation\"}},\"id\":\"5319ea46-fe46-488a-974c-ce8187d7f1ec\",\"type\":\"BoxZoomTool\"},{\"attributes\":{},\"id\":\"945939d9-d5a0-489f-b146-322937ad7d61\",\"type\":\"Selection\"},{\"attributes\":{\"source\":{\"id\":\"c0fedff2-3319-4a55-a4c6-7b5ae0a14def\",\"type\":\"ColumnDataSource\"}},\"id\":\"81a6b706-3026-48e4-85fa-ee2336e496a6\",\"type\":\"CDSView\"},{\"attributes\":{\"base\":24,\"mantissas\":[1,2,4,6,8,12],\"max_interval\":43200000.0,\"min_interval\":3600000.0,\"num_minor_ticks\":0},\"id\":\"3158fc45-951f-4d48-8a7d-9abbe440e980\",\"type\":\"AdaptiveTicker\"},{\"attributes\":{\"line_alpha\":0.1,\"line_color\":\"#1f77b4\",\"line_width\":4,\"x\":{\"field\":\"x\"},\"y\":{\"field\":\"y\"}},\"id\":\"53e4de2a-ef0c-473f-86ab-7872bc7d481a\",\"type\":\"Line\"},{\"attributes\":{\"below\":[{\"id\":\"c0045fcc-6d12-41e2-93b9-601c1f225d09\",\"type\":\"DatetimeAxis\"}],\"left\":[{\"id\":\"086de67f-8124-4cce-844f-54c633153a57\",\"type\":\"LinearAxis\"}],\"plot_height\":1000,\"plot_width\":1000,\"renderers\":[{\"id\":\"c0045fcc-6d12-41e2-93b9-601c1f225d09\",\"type\":\"DatetimeAxis\"},{\"id\":\"609f4e0e-cca0-452b-ac45-462d95b382b0\",\"type\":\"Grid\"},{\"id\":\"086de67f-8124-4cce-844f-54c633153a57\",\"type\":\"LinearAxis\"},{\"id\":\"8a5ff650-161a-4e08-9102-de961891acb3\",\"type\":\"Grid\"},{\"id\":\"370571c4-eec5-4952-89ef-266c830eb3e0\",\"type\":\"BoxAnnotation\"},{\"id\":\"0bf87591-fc9d-4782-9760-59a2f6d49f07\",\"type\":\"Legend\"},{\"id\":\"b939543b-7935-4c6d-a739-7cf968449178\",\"type\":\"GlyphRenderer\"},{\"id\":\"23c0bc28-2729-478b-b8c4-46bc921149be\",\"type\":\"GlyphRenderer\"},{\"id\":\"3ffeda87-fae9-45c4-a979-d4b48a5af5cd\",\"type\":\"GlyphRenderer\"},{\"id\":\"c050337d-33fc-4a5b-8782-8cca744d527a\",\"type\":\"GlyphRenderer\"},{\"id\":\"2bbf69a1-48f4-4b6a-8947-6f54cce730f2\",\"type\":\"GlyphRenderer\"},{\"id\":\"ab2a9986-a23f-4496-845a-a3e38f3d7b84\",\"type\":\"GlyphRenderer\"},{\"id\":\"91ffa581-9321-421f-911a-51cd83b21f85\",\"type\":\"GlyphRenderer\"},{\"id\":\"e629dcc5-f810-494d-87fa-192930c1c68a\",\"type\":\"GlyphRenderer\"},{\"id\":\"0794b059-4e6e-4d5b-b1be-c2649a377700\",\"type\":\"GlyphRenderer\"}],\"title\":{\"id\":\"2cf5ef26-b2ad-49e8-8eda-d1fb83e55650\",\"type\":\"Title\"},\"toolbar\":{\"id\":\"c58d167e-725a-4d08-991e-b24efd6c11cf\",\"type\":\"Toolbar\"},\"x_range\":{\"id\":\"10433c30-2cf4-4f01-a962-4842a7976d25\",\"type\":\"DataRange1d\"},\"x_scale\":{\"id\":\"acabb36f-d825-4082-8196-7d529128a550\",\"type\":\"LinearScale\"},\"y_range\":{\"id\":\"dc2ac0d3-e9f7-4b31-a807-65555185b257\",\"type\":\"Range1d\"},\"y_scale\":{\"id\":\"8480993c-72c2-4e06-bdc2-76316a1d0807\",\"type\":\"LinearScale\"}},\"id\":\"6e79e8ba-af40-4a7b-953a-d0555fb8c043\",\"subtype\":\"Figure\",\"type\":\"Plot\"},{\"attributes\":{},\"id\":\"1790912a-b7fc-490a-8fa6-4c1827fd37d4\",\"type\":\"HelpTool\"},{\"attributes\":{\"months\":[0,6]},\"id\":\"6f955cb0-4ae3-408b-82a5-85e7299f4730\",\"type\":\"MonthsTicker\"},{\"attributes\":{},\"id\":\"d4e1bc51-3d94-44d3-923a-187e787242a8\",\"type\":\"BasicTickFormatter\"},{\"attributes\":{\"days\":[1,2,3,4,5,6,7,8,9,10,11,12,13,14,15,16,17,18,19,20,21,22,23,24,25,26,27,28,29,30,31]},\"id\":\"38f1a086-3b4a-4537-bc4a-29a672332c07\",\"type\":\"DaysTicker\"},{\"attributes\":{\"dimension\":1,\"plot\":{\"id\":\"6e79e8ba-af40-4a7b-953a-d0555fb8c043\",\"subtype\":\"Figure\",\"type\":\"Plot\"},\"ticker\":{\"id\":\"03586043-7f89-4fb5-84e6-0180e99a8bc9\",\"type\":\"BasicTicker\"}},\"id\":\"8a5ff650-161a-4e08-9102-de961891acb3\",\"type\":\"Grid\"},{\"attributes\":{\"label\":{\"value\":\"tcs\"},\"renderers\":[{\"id\":\"b939543b-7935-4c6d-a739-7cf968449178\",\"type\":\"GlyphRenderer\"}]},\"id\":\"ecce4e31-91c1-44f4-881a-31706a16a986\",\"type\":\"LegendItem\"},{\"attributes\":{\"label\":{\"value\":\"niftyit closing Pricing shock without volume shock\"},\"renderers\":[{\"id\":\"0794b059-4e6e-4d5b-b1be-c2649a377700\",\"type\":\"GlyphRenderer\"}]},\"id\":\"49c7914e-e01e-495e-826d-e6fc0d18ec6b\",\"type\":\"LegendItem\"},{\"attributes\":{\"data_source\":{\"id\":\"89260539-152c-4b53-b6da-2d763a505af4\",\"type\":\"ColumnDataSource\"},\"glyph\":{\"id\":\"ab329a08-3003-430d-8b1c-35ed524ddc7d\",\"type\":\"Line\"},\"hover_glyph\":null,\"muted_glyph\":null,\"nonselection_glyph\":{\"id\":\"7320dc57-001d-4bdd-a72a-ed7564525a58\",\"type\":\"Line\"},\"selection_glyph\":null,\"view\":{\"id\":\"2999fa51-b368-4c89-ac08-b9cffe1770b9\",\"type\":\"CDSView\"}},\"id\":\"b939543b-7935-4c6d-a739-7cf968449178\",\"type\":\"GlyphRenderer\"},{\"attributes\":{\"callback\":null,\"data\":{\"x\":{\"__ndarray__\":\"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\",\"dtype\":\"float64\",\"shape\":[247]},\"y\":{\"__ndarray__\":\"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\",\"dtype\":\"float64\",\"shape\":[247]}},\"selected\":{\"id\":\"b276ec3b-8991-407c-9069-ef83ff97e7a2\",\"type\":\"Selection\"},\"selection_policy\":{\"id\":\"792265c6-e247-4d1e-916b-3b7fa9ece90f\",\"type\":\"UnionRenderers\"}},\"id\":\"3984fe6c-aff8-4b7b-8c45-bf8c7d51bac7\",\"type\":\"ColumnDataSource\"},{\"attributes\":{},\"id\":\"7ee04d81-0539-45b3-9877-53bd2bbe549b\",\"type\":\"UnionRenderers\"},{\"attributes\":{\"days\":[1,4,7,10,13,16,19,22,25,28]},\"id\":\"9549fa9f-6ca7-486c-9084-1025fcb89908\",\"type\":\"DaysTicker\"},{\"attributes\":{\"data_source\":{\"id\":\"3b306004-ee30-4484-b329-0a9d4a4b5691\",\"type\":\"ColumnDataSource\"},\"glyph\":{\"id\":\"3e45fb59-0afd-4f25-885b-6d6da6ff8987\",\"type\":\"Line\"},\"hover_glyph\":null,\"muted_glyph\":null,\"nonselection_glyph\":{\"id\":\"53e4de2a-ef0c-473f-86ab-7872bc7d481a\",\"type\":\"Line\"},\"selection_glyph\":null,\"view\":{\"id\":\"35380e4d-6dfc-4aa0-8212-b5424dae3af3\",\"type\":\"CDSView\"}},\"id\":\"ab2a9986-a23f-4496-845a-a3e38f3d7b84\",\"type\":\"GlyphRenderer\"},{\"attributes\":{\"source\":{\"id\":\"f582971f-02b0-472c-8b81-5f9bf130b4ed\",\"type\":\"ColumnDataSource\"}},\"id\":\"1c86a06d-0b0e-40bc-8812-9b0b4acd77e3\",\"type\":\"CDSView\"},{\"attributes\":{\"source\":{\"id\":\"9faf5cc3-d571-4375-bde4-008e0e10d702\",\"type\":\"ColumnDataSource\"}},\"id\":\"c0e47b59-30f0-4414-b5a4-c72ce5036be2\",\"type\":\"CDSView\"},{\"attributes\":{\"fill_alpha\":{\"value\":0.1},\"fill_color\":{\"value\":\"#1f77b4\"},\"line_alpha\":{\"value\":0.1},\"line_color\":{\"value\":\"#1f77b4\"},\"size\":{\"units\":\"screen\",\"value\":8},\"x\":{\"field\":\"x\"},\"y\":{\"field\":\"y\"}},\"id\":\"8ed3fe00-a6fb-4d5c-bd3f-46fc30542003\",\"type\":\"Circle\"},{\"attributes\":{\"plot\":null,\"text\":\"\"},\"id\":\"2cf5ef26-b2ad-49e8-8eda-d1fb83e55650\",\"type\":\"Title\"},{\"attributes\":{},\"id\":\"1a8f1f9a-e46f-4c43-aa82-a2f6b5f56d9d\",\"type\":\"Selection\"},{\"attributes\":{\"line_color\":\"#1f77b4\",\"line_width\":3,\"x\":{\"field\":\"x\"},\"y\":{\"field\":\"y\"}},\"id\":\"ab329a08-3003-430d-8b1c-35ed524ddc7d\",\"type\":\"Line\"},{\"attributes\":{\"label\":{\"value\":\"niftyit\"},\"renderers\":[{\"id\":\"2bbf69a1-48f4-4b6a-8947-6f54cce730f2\",\"type\":\"GlyphRenderer\"}]},\"id\":\"acaeedb8-49b5-4541-adfe-a8610d64046b\",\"type\":\"LegendItem\"},{\"attributes\":{\"fill_alpha\":{\"value\":0.1},\"fill_color\":{\"value\":\"#1f77b4\"},\"line_alpha\":{\"value\":0.1},\"line_color\":{\"value\":\"#1f77b4\"},\"size\":{\"units\":\"screen\",\"value\":8},\"x\":{\"field\":\"x\"},\"y\":{\"field\":\"y\"}},\"id\":\"c4bc201b-acff-4d83-b7e4-95ee1b8b0fbc\",\"type\":\"Circle\"},{\"attributes\":{\"bottom_units\":\"screen\",\"fill_alpha\":{\"value\":0.5},\"fill_color\":{\"value\":\"lightgrey\"},\"left_units\":\"screen\",\"level\":\"overlay\",\"line_alpha\":{\"value\":1.0},\"line_color\":{\"value\":\"black\"},\"line_dash\":[4,4],\"line_width\":{\"value\":2},\"plot\":null,\"render_mode\":\"css\",\"right_units\":\"screen\",\"top_units\":\"screen\"},\"id\":\"370571c4-eec5-4952-89ef-266c830eb3e0\",\"type\":\"BoxAnnotation\"},{\"attributes\":{\"data_source\":{\"id\":\"437cf03e-eb52-4677-83a5-4d47a12aac01\",\"type\":\"ColumnDataSource\"},\"glyph\":{\"id\":\"b14dc68c-8199-46d4-89e8-e0b8650e874c\",\"type\":\"Circle\"},\"hover_glyph\":null,\"muted_glyph\":null,\"nonselection_glyph\":{\"id\":\"18f8c857-6050-40c1-a047-c5cc750bd40d\",\"type\":\"Circle\"},\"selection_glyph\":null,\"view\":{\"id\":\"eab2926f-8edd-42e8-b1dc-02aa6a21aa71\",\"type\":\"CDSView\"}},\"id\":\"91ffa581-9321-421f-911a-51cd83b21f85\",\"type\":\"GlyphRenderer\"},{\"attributes\":{\"callback\":null,\"data\":{\"x\":{\"__ndarray__\":\"AACAcCTHdEIAAEBtwMh0QgAAANMSyXRCAADAOGXJdEIAAICet8l0QgAAQAQKynRCAACANQHLdEIAAAABpst0QgAAwGb4y3RCAACAzErMdEIAAMD9Qc10QgAAgGOUzXRCAABAyebNdEIAAAAvOc50QgAAwJSLznRCAAAAxoLPdEIAAMAr1c90QgAAgJEn0HRCAABA93nQdEIAAECOw9F0QgAAAPQV0nRCAADAWWjSdEIAAIC/utJ0QgAAQCUN03RCAACAVgTUdEIAAEC8VtR0QgAAACKp1HRCAADAh/vUdEIAAIDtTdV0QgAAwB5F1nRCAACAhJfWdEIAAEDq6dZ0QgAAAFA813RCAADAtY7XdEIAAADnhdh0QgAAwEzY2HRCAACAsirZdEIAAEAYfdl0QgAAAH7P2XRCAABAr8badEIAAAAVGdt0QgAAwHpr23RCAACA4L3bdEIAAEBGENx0QgAAgHcH3XRCAABA3VnddEIAAABDrN10QgAAwKj+3XRCAACADlHedEIAAMA/SN90QgAAgKWa33RCAABAC+3fdEIAAABxP+B0QgAAwNaR4HRCAAAACInhdEIAAMBt2+F0QgAAgNMt4nRCAABAOYDidEIAAACf0uJ0QgAAQNDJ43RCAAAANhzkdEIAAMCbbuR0QgAAgAHB5HRCAABAZxPldEIAAICYCuZ0QgAAQP5c5nRCAAAAZK/mdEIAAMDJAed0QgAAgC9U53RCAADAYEvodEIAAIDGneh0QgAAQCzw6HRCAAAAkkLpdEIAAMD3lOl0QgAAACmM6nRCAADAjt7qdEIAAID0MOt0QgAAQFqD63RCAAAAwNXrdEIAAEDxzOx0QgAAAFcf7XRCAADAvHHtdEIAAIAixO10QgAAQIgW7nRCAACAuQ3vdEIAAEAfYO90QgAAAIWy73RCAADA6gTwdEIAAIBQV/B0QgAAwIFO8XRCAACA56DxdEIAAEBN8/F0QgAAALNF8nRCAADAGJjydEIAAABKj/N0QgAAwK/h83RCAACAFTT0dEIAAEB7hvR0QgAAAOHY9HRCAABAEtD1dEIAAAB4IvZ0QgAAwN109nRCAACAQ8f2dEIAAECpGfd0QgAAgNoQ+HRCAABAQGP4dEIAAACmtfh0QgAAwAsI+XRCAACAcVr5dEIAAMCiUfp0QgAAgAik+nRCAABAbvb6dEIAAADUSPt0QgAAwDmb+3RCAAAAa5L8dEIAAMDQ5Px0QgAAgDY3/XRCAAAAAtz9dEIAAEAz0/50QgAAAJkl/3RCAADA/nf/dEIAAIBkyv90QgAAgPsTAXVCAABAYWYBdUIAAADHuAF1QgAAwCwLAnVCAADAw1QDdUIAAIAppwN1QgAAQI/5A3VCAAAA9UsEdUIAAMBangR1QgAAAIyVBXVCAADA8ecFdUIAAIBXOgZ1QgAAQL2MBnVCAAAAI98GdUIAAEBU1gd1QgAAALooCHVCAADAH3sIdUIAAEDrHwl1QgAAgBwXCnVCAABAgmkKdUIAAADouwp1QgAAwE0OC3VCAACAs2ALdUIAAMDkVwx1QgAAgEqqDHVCAABAsPwMdUIAAAAWTw11QgAAwHuhDXVCAAAArZgOdUIAAMAS6w51QgAAgHg9D3VCAAAAROIPdUIAAEB12RB1QgAAANsrEXVCAADAQH4RdUIAAICm0BF1QgAAQAwjEnVCAACAPRoTdUIAAECjbBN1QgAAwG4RFHVCAACA1GMUdUIAAMAFWxV1QgAAgGutFXVCAABA0f8VdUIAAAA3UhZ1QgAAwJykFnVCAAAAzpsXdUIAAMAz7hd1QgAAgJlAGHVCAABA/5IYdUIAAABl5Rh1QgAAQJbcGXVCAAAA/C4adUIAAMBhgRp1QgAAgMfTGnVCAABALSYbdUIAAIBeHRx1QgAAQMRvHHVCAAAAKsIcdUIAAMCPFB11QgAAwCZeHnVCAACAjLAedUIAAEDyAh91QgAAAFhVH3VCAADAvacfdUIAAADvniB1QgAAwFTxIHVCAACAukMhdUIAAEAgliF1QgAAAIboIXVCAABAt98idUIAAAAdMiN1QgAAwIKEI3VCAACA6NYjdUIAAEBOKSR1QgAAgH8gJXVCAABA5XIldUIAAABLxSV1QgAAwLAXJnVCAACAFmomdUIAAMBHYSd1QgAAQBMGKHVCAAAAeVgodUIAAMDeqih1QgAAABCiKXVCAADAdfQpdUIAAIDbRip1QgAAQEGZKnVCAAAAp+sqdUIAAEDY4it1QgAAAD41LHVCAADAo4csdUIAAIAJ2ix1QgAAQG8sLXVCAACAoCMudUIAAEAGdi51QgAAAGzILnVCAADA0RovdUIAAIA3bS91QgAAwGhkMHVCAACAzrYwdUIAAEA0CTF1QgAAAJpbMXVCAADA/60xdUIAAAAxpTJ1QgAAwJb3MnVCAACA/EkzdUIAAEBinDN1QgAAAMjuM3VCAAAAXzg1dUIAAMDEijV1QgAAgCrdNXVCAABAkC82dUIAAIDBJjd1QgAAQCd5N3VCAAAAjcs3dUIAAMDyHTh1QgAAgFhwOHVCAADAiWc5dUIAAIDvuTl1QgAAQFUMOnVCAAAAUqg7dUIAAMC3+jt1QgAAgB1NPHVCAABAg588dUI=\",\"dtype\":\"float64\",\"shape\":[247]},\"y\":{\"__ndarray__\":\"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\",\"dtype\":\"float64\",\"shape\":[247]}},\"selected\":{\"id\":\"4669f844-b62d-45e0-88c0-1e47cdf01f24\",\"type\":\"Selection\"},\"selection_policy\":{\"id\":\"440cf6d1-3332-4510-b79a-06dc691deb5c\",\"type\":\"UnionRenderers\"}},\"id\":\"63c0d5cf-f4bf-4dcd-9efb-d21608809b0c\",\"type\":\"ColumnDataSource\"},{\"attributes\":{\"callback\":null,\"data\":{\"x\":{\"__ndarray__\":\"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\",\"dtype\":\"float64\",\"shape\":[247]},\"y\":{\"__ndarray__\":\"AAAAAAAAAAAAAAAAAAAAAAAAAAAAAAAAAAAAAAAAAAAAAAAAAAAAAAAAAAAAAAAAAAAAAAAAAAAAAAAAAAAAAAAAAAAAAAAAAAAAAAAAAAAAAAAAAAAAAAAAAAAAAAAAAAAAAAAAAAAAAAAAAAAAAAAAAAAAAAAAAAAAAAAAAAAAAAAAAAAAAAAAAAAAAAAAAAAAAAAAAAAAAAAAAAAAAAAAAAAAAAAAmpmZmRk+o0AAAAAAgOKjQAAAAAAAAAAAAAAAAAAAAAAAAAAAAAAAAAAAAAAAAAAAAAAAAAAAAAAAAAAAAAAAAAAAAAAAAAAAAAAAAAAAAAAAAAAAAAAAAAAAAAAAAAAAAAAAAAAAAAAAAAAAAAAAAAAAAAAAAAAAAAAAAAAAAAAAAAAAAAAAAAAAAAAAAAAAAAAAAAAAAAAAAAAAAAAAAAAAAAAAAAAAAAAAAAAAAAAAAAAAAAAAAAAAAAAAAAAAAAAAAAAAAAAAAAAAAAAAAAAAAAAAAAAAAAAAAAAAAAAAAAAAAAAAAAAAAAAAAAAAAAAAAAAAAAAAAAAAAAAAAAAAAAAAAAAAAAAAAAAAAAAAAAAAAAAAAAAAAAAAAAAAAAAAAAAAAAAAAAAAAAAAAAAAAAAAAAAAAAAAAAAAAAAAAAAAAAAAAAAAAAAAAAAAAAAAAAAAAAAAAAAAAAAAAAAAAAAAAAAAAAAAAAAAAAAAAAAAAAAAAAAAAAAAAAAAAAAAAAAAAAAAAAAAAAAAAAAAAAAAAAAAAAAAAAAAAAAAAAAAAAAAAAAAAAAAAAAAAAAAAAAAAAAAAAAAAAAAAAAAAAAAAAAAAAAAAAAAAAAAAAAAAAAAAAAAAAAAAAAAAAAAAAAAAAAAAAAAAAAAAAAAAAAAAAAAAAAAAAAAAAAAAAAAAAAAAAAAAAAAAAAAAAAAAAAAAAAAAAAAAAAAAAAAAAAAAAAAAAAAAAAAAAAAAAAAAAAAAAAAAAAAAAAAAAAAAAAAAAAAAAAAAAAAAAAAAAAAAAAAAAAAAAAAAAAAAAAAAAAAAAAAAAAAAAAAAAAAAAAAAAAAAAAAAAAAAAAAAAAAAAAAAAAAAAAAAAAAAAAAAAAAAAAAAAAAAAAAAAAAAAAAAAAAAAAAAAAAAAAAAAAAAAAAZmZmZubmo0AAAAAAAAAAAAAAAAAAAAAAAAAAAAAAAAAAAAAAAAAAAAAAAAAAAAAAAAAAAAAAAAAAAAAAAAAAAAAAAAAAAAAAAAAAAAAAAAAAAAAAAAAAAAAAAAAAAAAAAAAAAAAAAAAAAAAAAAAAAAAAAAAAAAAAAAAAAAAAAAAAAAAAAAAAAAAAAAAAAAAAAAAAAAAAAAAAAAAAAAAAAAAAAAAAAAAAAAAAAAAAAAAAAAAAAAAAAAAAAAAAAAAAAAAAAAAAAAAAAAAAAAAAAAAAAAAAAAAAAAAAAAAAAAAAAAAAAAAAAAAAAAAAAAAAAAAAAAAAAAAAAAAAAAAAAAAAAAAAAAAAAAAAAAAAAAAAAAAAAAAAAAAAAAAAAAAAAAAAAAAAAAAAAAAAAAAAAAAAAAAAAAAAAAAAAAAAAAAAAAAAAAAAAAAAAAAAAAAAAAAAAAAAAAAAAAAAAAAAAAAAAAAAAAAAAAAAAAAAAAAAAAAAAAAAAAAAAAAAAAAAAAAAAAAAAAAAAAAAAAAAAAAAAAAAAAAAAAAAAAAAAAAAAAAAAAAAAAAAAAAAAAAAAAAAAAAAAAAAAAAAAAAAAAAAAAAAAAAAAAAAAAAAAAAAAAAAAAAAAAAAAAAAAAAAAAAAAAAAAAAAAAAAAAAAAAAAAAAAAAAAAAAAAAAAAAAAAAAAAAAAAAAAAAAAAAAAAAAAAAAAAAAAAAAAAAAAAAAAAAAAAAAAAAAAAAAAAAAAAAAAAAAAAAAAAAAAAAAAAAAAAAAAAAAAAAAAAAAAAAAAAAAAAAAAAAAAAAAAAAAAAAAAAAAAAAAAAAAAAAAAAAAAAAAAAAAAAAAAAAAAAAAAAAAAAAAAAAAAAAAAAAAAAAAAAAAAAAAAAAAAAAAAAAAAAAAAAAAAAAAAAAAAAAAAAAAAAAAAAAAAAAAAAAAAAAAAAAAAAAAAAAAAAAAAAAAAAAAAAAAAAAAAAAAAAAAAAAAAAAAAAAAAAAAAAAAAAAAAAAAAAAAAAAAAAAAAAAAAAAAAAAAAAAAAAAAAAAAAAAAAAAAAAAAAAAAAAAAAAAAAAAAAAAAAAAAAAAAAAAAAAAAAAAAAAAAAAAAAAAAAAAAAAAAAAAAAAAAAAABmZmZm5iuhQAAAAAAAAAAAAAAAAAAAAAAAAAAAAAAAAAAAAAAAAAAAAAAAAAAAAAAAAAAAAAAAAAAAAAAAAAAAAAAAAACwoUAAAAAAAAAAAAAAAAAAAAAAAAAAAAAAAAAAAAAAAAAAAM3MzMxMyaFAAAAAAAAAAAAAAAAAAAAAAAAAAAAAAAAAAAAAAAAAAAAAAAAAAAAAAAAAAAAAAAAAAAAAAAAAAAAAAAAAAAAAAAAAAAAAAAAAAAAAAAAAAAAAAAAAAAAAAAAAAAAAAAAAAAAAAAAAAAAAAAAAAAAAAAAAAAAAAAAAAAAAAAAAAAAAAAAAAAAAAAAAAAAAAAAAAAAAAAAAAAA=\",\"dtype\":\"float64\",\"shape\":[247]}},\"selected\":{\"id\":\"0830246f-e67a-470e-b18d-d1ba91bd8b40\",\"type\":\"Selection\"},\"selection_policy\":{\"id\":\"cffb4f5a-6e7e-48e9-92c6-2488c3d6cdaa\",\"type\":\"UnionRenderers\"}},\"id\":\"437cf03e-eb52-4677-83a5-4d47a12aac01\",\"type\":\"ColumnDataSource\"},{\"attributes\":{\"data_source\":{\"id\":\"f582971f-02b0-472c-8b81-5f9bf130b4ed\",\"type\":\"ColumnDataSource\"},\"glyph\":{\"id\":\"bb300b48-02f9-45ef-8611-f36d6e140085\",\"type\":\"Circle\"},\"hover_glyph\":null,\"muted_glyph\":null,\"nonselection_glyph\":{\"id\":\"c4bc201b-acff-4d83-b7e4-95ee1b8b0fbc\",\"type\":\"Circle\"},\"selection_glyph\":null,\"view\":{\"id\":\"1c86a06d-0b0e-40bc-8812-9b0b4acd77e3\",\"type\":\"CDSView\"}},\"id\":\"0794b059-4e6e-4d5b-b1be-c2649a377700\",\"type\":\"GlyphRenderer\"},{\"attributes\":{},\"id\":\"ea4decee-c817-4b88-90eb-72a89ce94c4a\",\"type\":\"DatetimeTickFormatter\"},{\"attributes\":{\"callback\":null,\"data\":{\"x\":{\"__ndarray__\":\"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\",\"dtype\":\"float64\",\"shape\":[247]},\"y\":{\"__ndarray__\":\"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\",\"dtype\":\"float64\",\"shape\":[247]}},\"selected\":{\"id\":\"0951c204-0438-4c15-a269-aaadc88afd23\",\"type\":\"Selection\"},\"selection_policy\":{\"id\":\"d81303c7-1f58-47bd-b518-19ae2da7aed6\",\"type\":\"UnionRenderers\"}},\"id\":\"3b306004-ee30-4484-b329-0a9d4a4b5691\",\"type\":\"ColumnDataSource\"},{\"attributes\":{\"callback\":null,\"data\":{\"x\":{\"__ndarray__\":\"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\",\"dtype\":\"float64\",\"shape\":[247]},\"y\":{\"__ndarray__\":\"AAAAAAAAAAAAAAAAAAAAAAAAAAAAAAAAAAAAAAAAAAAAAAAAAAAAAAAAAAAAAAAAAAAAAAAAAAAAAAAAAAAAAAAAAAAAAAAAAAAAAAAAAAAAAAAAAAAAAAAAAAAAAAAAAAAAAAAAAAAAAAAAAAAAAAAAAAAAAAAAAAAAAAAAAAAAAAAAAAAAAAAAAAAAAAAAAAAAAAAAAAAAAAAAAAAAAAAAAAAAAAAAzczMzGxdxUAAAAAAAAAAAAAAAAAAAAAAAAAAAAAAAAAAAAAAAAAAAAAAAAAAAAAAAAAAAAAAAAAAAAAAAAAAAAAAAAAAAAAAAAAAAAAAAAAAAAAAAAAAAAAAAAAAAAAAAAAAAAAAAAAAAAAAAAAAAAAAAAAAAAAAAAAAAAAAAAAAAAAAAAAAAAAAAAAAAAAAAAAAAAAAAAAAAAAAAAAAAAAAAAAAAAAAAAAAAAAAAAAAAAAAAAAAAAAAAAAAAAAAAAAAAAAAAACamZmZ2UTGQAAAAAAAAAAAAAAAAAAAAAAAAAAAAAAAAAAAAAAAAAAAAAAAAAAAAAAAAAAAAAAAAAAAAAAAAAAAAAAAAAAAAAAAAAAAAAAAAAAAAAAAAAAAAAAAAAAAAAAAAAAAAAAAAAAAAAAAAAAAAAAAAAAAAAAAAAAAAAAAAAAAAAAAAAAAAAAAAAAAAAAAAAAAAAAAAAAAAAAAAAAAAAAAAAAAAAAAAAAAAAAAAAAAAAAAAAAAAAAAAAAAAAAAAAAAAAAAAAAAAAAAAAAAAAAAAAAAAAAAAAAAAAAAAAAAAAAAAAAAAAAAAAAAAAAAAAAAAAAAAAAAAAAAAAAAAAAAAAAAAAAAAAAAAAAAAAAAAAAAAAAAAAAAAAAAAAAAAAAAAAAAAAAAAAAAAAAAAAAAAAAAAAAAAAAAAAAAAAAAAAAAAAAAAAAAAAAAAAAAAAAAAAAAAAAAAAAAAAAAAAAAAAAAAAAAAAAAAAAAAAAAAAAAAAAAAAAAAAAAAAAAAAAAAAAAAAAAAAAAAAAAAAAAAAAAAAAAAAAAAAAAAAAAAAAAAAAAAAAAAAAAAAAAAAAAAAAAAAAAAAAAAAAAAAAAAAAAAAAAAAAAAAAAAAAAAAAAAAAAAAAAAAAAAAAAAAAAAAAAAAAAAAAAAAAAzczMzMxKxkAAAAAAAAAAAAAAAAAAAAAAAAAAAAAAAAAAAAAAAAAAAAAAAAAAAAAAAAAAAAAAAAAAAAAAAAAAAAAAAAAAAAAAAAAAAAAAAAAAAAAAAAAAAAAAAAAAAAAAAAAAAAAAAAAAAAAAAAAAAAAAAAAAAAAAAAAAAAAAAAAAAAAAAAAAAAAAAAAAAAAAAAAAAAAAAAAAAAAAAAAAAAAAAAAAAAAAAAAAAAAAAAAAAAAAAAAAAAAAAAAAAAAAAAAAAAAAAAAAAAAAAAAAAAAAAAAAAAAAAAAAAAAAAAAAAAAAAAAAAAAAAAAAAAAAAAAAAAAAAAAAAAAAAAAAAAAAAAAAAAAAAAAAAAAAAAAAAAAAAAAAAAAAAAAAAAAAAAAAAAAAAAAAAAAAAAAAAAAAAAAAAAAAAAAAAAAAAAAAAAAAAAAAAAAAAAAAAAAAAAAAAAAAAAAAAAAAAAAAAAAAAAAAAAAAAAAAAAAAAAAAAAAAAAAAAAAAAAAAAAAAAAAAAAAAAAAAAAAAAAAAAAAAAAAAAAAAAAAAAAAAAAAAAAAAAAAAAAAAAAAAAAAAAAAAAAAAAAAAAAAAAAAAAAAAAAAAAAAAAAAAAAAAAAAAAAAAAAAAAAAAAAAAAAAAAAAAAAAAAAAAAAAAAAAAAAAAAAAAAAAAAAAAAAAAAAAAAAAAAAAAAAAAAAAAAAAAAAAAAAAAAAAAAAAAAAAAAAAAAAAAAAAAAAAAAAAAAAAAAAAAAAAAAAAAAAAAAAAAAAAAAAAAAAAAAAAAAAAAAAAAAAAAAAAAAAAAAAAAAAAAAAAAAAAAAAAAAAAAAAAAAAAAAAAAAAAAAAAAAAAAAAAAAAAAAAAAAAAAAAAAAAAAAAAAAAAAAAAAAAAAAAAAAAAAAAAAAAAAAAAAAAAAAAAAAAAAAAAAAAAAAAAAAAAAAAAAAAAAAAAAAAAAAAAAAAAAAAAAAAAAAAAAAAAAAAAAAAAAAAAAAAAAAAAAAAAAAAAAAAAAAAAAAAAAAAAAAAAAAAAAAAAAAAAAAAAAAAAAAAAAAAAAAAAAAAAAAAAAAAAAAAAAAAAAAAAAAAAAAAAAAAAAAAAAAAAAAAAAAAAAAAAAAAAAAAAAAAAAAACamZmZeSTEQAAAAAAAAAAAAAAAAAAAAAAAAAAAAAAAAAAAAAAAAAAAAAAAAAAAAAAAAAAAAAAAAAAAAAAAAAAAAAAAAAAAAAAAAAAAAAAAAAAAAAAAAAAAAAAAAAAAAAAAAAAAAAAAAAAAAAAAAAAAAAAAAAAAAAAAAAAAAAAAAAAAAAAAAAAAAAAAAAAAAAAAAAAAAAAAAAAAAAAAAAAAAAAAAAAAAAAAAAAAAAAAAAAAAAAAAAAAAAAAAAAAAAAAAAAAAAAAAAAAAAAAAAAAAAAAAAAAAAAAAAAAAAAAAAAAAAAAAAAAAAAAAAAAAAAAAAAAAAAAAAAAAAAAAAAAAAAAAAAAAAA=\",\"dtype\":\"float64\",\"shape\":[247]}},\"selected\":{\"id\":\"f1c8bc3a-8f41-4252-a439-ddf51240c55c\",\"type\":\"Selection\"},\"selection_policy\":{\"id\":\"7d30aba4-180a-4aa4-b119-e1c0f27bcfe8\",\"type\":\"UnionRenderers\"}},\"id\":\"f582971f-02b0-472c-8b81-5f9bf130b4ed\",\"type\":\"ColumnDataSource\"},{\"attributes\":{},\"id\":\"0c41f969-de8f-497c-8ea5-40e2c1e13b76\",\"type\":\"PanTool\"},{\"attributes\":{\"months\":[0,2,4,6,8,10]},\"id\":\"395436a7-eb83-4037-8265-2498f44a2b0e\",\"type\":\"MonthsTicker\"},{\"attributes\":{},\"id\":\"5f6cefa4-94d1-4917-9256-d640ddb6c544\",\"type\":\"UnionRenderers\"},{\"attributes\":{\"source\":{\"id\":\"3b306004-ee30-4484-b329-0a9d4a4b5691\",\"type\":\"ColumnDataSource\"}},\"id\":\"35380e4d-6dfc-4aa0-8212-b5424dae3af3\",\"type\":\"CDSView\"},{\"attributes\":{},\"id\":\"fe59f4fd-af53-4a98-b755-756df74d1d84\",\"type\":\"Selection\"},{\"attributes\":{\"active_drag\":\"auto\",\"active_inspect\":\"auto\",\"active_multi\":null,\"active_scroll\":\"auto\",\"active_tap\":\"auto\",\"tools\":[{\"id\":\"0c41f969-de8f-497c-8ea5-40e2c1e13b76\",\"type\":\"PanTool\"},{\"id\":\"d05caa5e-6cfb-432f-a6e3-e247b9960753\",\"type\":\"WheelZoomTool\"},{\"id\":\"5319ea46-fe46-488a-974c-ce8187d7f1ec\",\"type\":\"BoxZoomTool\"},{\"id\":\"bc52c280-45df-4833-aadb-0493876692d3\",\"type\":\"SaveTool\"},{\"id\":\"c4975470-9c49-43b4-b536-fc6bcd20fca1\",\"type\":\"ResetTool\"},{\"id\":\"1790912a-b7fc-490a-8fa6-4c1827fd37d4\",\"type\":\"HelpTool\"}]},\"id\":\"c58d167e-725a-4d08-991e-b24efd6c11cf\",\"type\":\"Toolbar\"},{\"attributes\":{\"line_color\":\"red\",\"line_width\":4,\"x\":{\"field\":\"x\"},\"y\":{\"field\":\"y\"}},\"id\":\"8a79c0d4-1638-4af0-a37d-19546803b367\",\"type\":\"Line\"},{\"attributes\":{\"items\":[{\"id\":\"ecce4e31-91c1-44f4-881a-31706a16a986\",\"type\":\"LegendItem\"},{\"id\":\"adf172aa-951a-46cf-a20c-9ceb4db1cee5\",\"type\":\"LegendItem\"},{\"id\":\"07566355-30fa-440b-bfe2-8f95f9e28a9a\",\"type\":\"LegendItem\"},{\"id\":\"8630589a-28b5-4701-84de-8d3202170b2f\",\"type\":\"LegendItem\"},{\"id\":\"acaeedb8-49b5-4541-adfe-a8610d64046b\",\"type\":\"LegendItem\"},{\"id\":\"4bb7a23b-623a-4498-a1cf-89372f9ecc26\",\"type\":\"LegendItem\"},{\"id\":\"1e10edde-f447-49c1-98e5-61b4dd2ad089\",\"type\":\"LegendItem\"},{\"id\":\"d5041581-7588-440a-83b1-85a937828e0f\",\"type\":\"LegendItem\"},{\"id\":\"49c7914e-e01e-495e-826d-e6fc0d18ec6b\",\"type\":\"LegendItem\"}],\"plot\":{\"id\":\"6e79e8ba-af40-4a7b-953a-d0555fb8c043\",\"subtype\":\"Figure\",\"type\":\"Plot\"}},\"id\":\"0bf87591-fc9d-4782-9760-59a2f6d49f07\",\"type\":\"Legend\"},{\"attributes\":{\"callback\":null,\"data\":{\"x\":{\"__ndarray__\":\"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\",\"dtype\":\"float64\",\"shape\":[247]},\"y\":{\"__ndarray__\":\"AAAAAAAAAAAAAAAAAAAAAAAAAAAAAAAAAAAAAAAAAAAAAAAAAAAAAAAAAAAAAAAAAAAAAAAAAAAAAAAAAAAAAAAAAAAAAAAAAAAAAAAAAAAAAAAAAAAAAAAAAAAAAAAAAAAAAAAAAAAAAAAAAAAAAAAAAAAAAAAAAAAAAAAAAAAAAAAAAAAAAAAAAAAAAAAAAAAAAAAAAABmZmZmZiSfQAAAAAAAAAAAAAAAAAAAAAAAAAAAAAAAAAAAAAAAAAAAAAAAAAAAAAAAAAAAAAAAAAAAAAAAAAAAAAAAAAAAAAAAAAAAAAAAAAAAAAAAAAAAAAAAAAAAAAAAAAAAAAAAAAAAAAAAAAAAAAAAAAAAAAAAAAAAAAAAAAAAAAAAAAAAAAAAAAAAAAAAAAAAAAAAAAAAAAAAAAAAAAAAAAAAAAAAAAAAAAAAAAAAAAAAAAAAAAAAAAAAAAAAAAAAAAAAAAAAAAAAAAAAAAAAAAAAAAAAAAAAAAAAAAAAAAAAAAAAAAAAAAAAAACamZmZmfOOQAAAAAAAAAAAAAAAAAAAAAAAAAAAAAAAAAAAAAAAAAAAAAAAAAAAAAAAAAAAAAAAAAAAAAAAAAAAAAAAAAAAAAAAAAAAAAAAAAAAAAAAAAAAAAAAAAAAAAAAAAAAAAAAAAAAAAAAAAAAAAAAAAAAAAAAAAAAAAAAAAAAAAAAAAAAAAAAAAAAAAAAAAAAAAAAAAAAAAAAAAAAAAAAAAAAAAAAAAAAAAAAAAAAAAAAAAAAAAAAAAAAAAAAAAAAAAAAAAAAAAAAAAAAAAAAAAAAAAAAAAAAAAAAAAAAAAAAAAAAAAAAAAAAAAAAAAAAAAAAAAAAAAAAAAAAAAAAAAAAAAAAAAAAAAAAAAAAAAAAAAAAAAAAAAAAAAAAAAAAAAAAAAAAAAAAAAAAAAAAAAAAAAAAAAAAAAAAAAAAAAAAAAAAAAAAAAAAAAAAAAAAAAAAAAAAAAAAAAAAAAAAAAAAAAAAAAAAAAAAAAAAAAAAAAAAAAAAAAAAAAAAAAAAAAAAAAAAAAAAAAAAAAAAAAAAAAAAAAAAAAAAAAAAAAAAAAAAAAAAAAAAAAAAAAAAAAAAAAAAAAAAAAAAAAAAAAAAAAAAAAAAAAAAAAAAAAAAAAAAAAAAAAAAAAAAAAAAAAAAAAAAAAAAAAAAAAAAAAAAAAAAAAAAAAAAAAAAAAAAAAAAAAAAAAAAAAAAAAAAAAAAAAAAAAAAAAAAAAAAAAAAAAAAAAAAAAAAAAAAAAAAAAAAAAAAAAAAAAAAAAAAAAAAAAAAAAAAAAAAAAAAAAAAAADNzMzMzCeSQAAAAAAAAAAAAAAAAAAAAAAAAAAAAAAAAAAAAAAAAAAAAAAAAAAAAAAAAAAAAAAAAAAAAAAAAAAAAAAAAAAAAAAAAAAAAAAAAAAAAAAAAAAAAAAAAAAAAAAAAAAAAAAAAAAAAAAAAAAAAAAAAAAAAAAAAAAAAAAAAAAAAAAAAAAAAAAAAAAAAAAAAAAAAAAAAAAAAAAAAAAAAAAAAAAAAAAAAAAAAAAAAAAAAAAAAAAAAAAAAAAAAAAAAAAAAAAAAAAAAAAAAAAAAAAAAAAAAAAAAAAAAAAAAAAAAAAAAAAAAAAAAAAAAAAAAAAAAAAAAAAAAAAAAAAAAAAAAAAAAAAAAAAAAAAAAAAAAAAAAAAAAAAAAAAAAAAAAAAAAAAAAAAAAAAAAAAAAAAAAAAAAAAAAAAAAAAAAAAAAAAAAAAAAAAAAAAAAAAAAAAAAAAAAAAAAAAAAAAAAAAAAAAAAAAAAAAAAAAAAAAAAAAAAAAAAAAAAAAAAAAAAAAAAAAAAAAAAAAAAAAAAAAAAAAAAAAAAAAAAAAAAAAAAAAAAAAAAAAAAAAAAAAAAAAAAAAAAAAAAAAAAAAAAAAAAAAAAAAAAAAAAAAAAAAAAAAAAAAAAAAAAAAAAAAAAAAAAAAAAAAAAAAAAAAAAAAAAAAAAAAAAAAAAAAAAAAAAAAAAAAAAAAAAAAAAAAAAAAAAAAAAAAAAAAAAAAAAAAAAAAAAAAAAAAAAAAAAAAAAAAAAAAAAAAAAAAAAAAAAAAAAAAAAAAAAAAAAAAAAAAAAAAAAAAAAAAAAAAAAAAAAAAAAAAAAAAAAAAAAAAAAAAAAAAAAAAAAAAAAAAAAAAAAAAAAAAAAAAAAAAAAAAAAAAAAAAAAAAAAAAAAAAAAAAAAAAAAAAAAAAAAAAAAAAAAAAAAAAzMzMzM/uRQAAAAAAAAAAAAAAAAAAAAAAAAAAAAAAAAAAAAAAAAAAAAAAAAAAAAAAAAAAAAAAAAAAAAAAAAAAAmpmZmZmNkUAAAAAAAAAAAAAAAAAAAAAAAAAAAAAAAAAAAAAAAAAAAAAAAAAAAAAAAAAAAAAAAAAAAAAAAAAAAAAAAAAAAAAAAAAAAAAAAAAAAAAAAAAAAAAAAAAAAAAAAAAAAAAAAAAAAAAAAAAAAAAAAAAAAAAAAAAAAAAAAAAAAAAAAAAAAAAAAAAAAAAAAAAAAAAAAAAAAAAAAAAAAAAAAAAAAAAAAAAAAAAAAAAAAAAAAAAAAAAAAAAAAAAAAAAAAAAAAAAAAAAAAAAAAAAAAAAAAAAAAAAAAAAAAAA=\",\"dtype\":\"float64\",\"shape\":[247]}},\"selected\":{\"id\":\"1a8f1f9a-e46f-4c43-aa82-a2f6b5f56d9d\",\"type\":\"Selection\"},\"selection_policy\":{\"id\":\"7ee04d81-0539-45b3-9877-53bd2bbe549b\",\"type\":\"UnionRenderers\"}},\"id\":\"c0fedff2-3319-4a55-a4c6-7b5ae0a14def\",\"type\":\"ColumnDataSource\"},{\"attributes\":{},\"id\":\"c4975470-9c49-43b4-b536-fc6bcd20fca1\",\"type\":\"ResetTool\"},{\"attributes\":{\"fill_alpha\":{\"value\":0.1},\"fill_color\":{\"value\":\"#1f77b4\"},\"line_alpha\":{\"value\":0.1},\"line_color\":{\"value\":\"#1f77b4\"},\"size\":{\"units\":\"screen\",\"value\":8},\"x\":{\"field\":\"x\"},\"y\":{\"field\":\"y\"}},\"id\":\"18f8c857-6050-40c1-a047-c5cc750bd40d\",\"type\":\"Circle\"},{\"attributes\":{\"days\":[1,15]},\"id\":\"43dad77a-0028-49fd-99c4-f7a761573730\",\"type\":\"DaysTicker\"},{\"attributes\":{},\"id\":\"0830246f-e67a-470e-b18d-d1ba91bd8b40\",\"type\":\"Selection\"},{\"attributes\":{\"data_source\":{\"id\":\"9faf5cc3-d571-4375-bde4-008e0e10d702\",\"type\":\"ColumnDataSource\"},\"glyph\":{\"id\":\"29018204-372b-476c-8702-fe329e2b2b6d\",\"type\":\"Line\"},\"hover_glyph\":null,\"muted_glyph\":null,\"nonselection_glyph\":{\"id\":\"d085500c-8327-4367-b3a1-97faeb4bc78a\",\"type\":\"Line\"},\"selection_glyph\":null,\"view\":{\"id\":\"c0e47b59-30f0-4414-b5a4-c72ce5036be2\",\"type\":\"CDSView\"}},\"id\":\"2bbf69a1-48f4-4b6a-8947-6f54cce730f2\",\"type\":\"GlyphRenderer\"},{\"attributes\":{},\"id\":\"f1c8bc3a-8f41-4252-a439-ddf51240c55c\",\"type\":\"Selection\"},{\"attributes\":{\"label\":{\"value\":\"tcs closing Pricing shock without volume shock\"},\"renderers\":[{\"id\":\"91ffa581-9321-421f-911a-51cd83b21f85\",\"type\":\"GlyphRenderer\"}]},\"id\":\"1e10edde-f447-49c1-98e5-61b4dd2ad089\",\"type\":\"LegendItem\"},{\"attributes\":{},\"id\":\"a841194c-d0ad-4df6-9278-ed92a2d118cd\",\"type\":\"YearsTicker\"},{\"attributes\":{},\"id\":\"d05caa5e-6cfb-432f-a6e3-e247b9960753\",\"type\":\"WheelZoomTool\"},{\"attributes\":{},\"id\":\"cffb4f5a-6e7e-48e9-92c6-2488c3d6cdaa\",\"type\":\"UnionRenderers\"},{\"attributes\":{},\"id\":\"bc52c280-45df-4833-aadb-0493876692d3\",\"type\":\"SaveTool\"},{\"attributes\":{\"line_color\":\"#1f77b4\",\"line_width\":6,\"x\":{\"field\":\"x\"},\"y\":{\"field\":\"y\"}},\"id\":\"29018204-372b-476c-8702-fe329e2b2b6d\",\"type\":\"Line\"},{\"attributes\":{\"fill_color\":{\"value\":\"yellow\"},\"line_color\":{\"value\":\"#1f77b4\"},\"size\":{\"units\":\"screen\",\"value\":8},\"x\":{\"field\":\"x\"},\"y\":{\"field\":\"y\"}},\"id\":\"bb300b48-02f9-45ef-8611-f36d6e140085\",\"type\":\"Circle\"},{\"attributes\":{\"callback\":null},\"id\":\"10433c30-2cf4-4f01-a962-4842a7976d25\",\"type\":\"DataRange1d\"},{\"attributes\":{\"line_alpha\":0.1,\"line_color\":\"#1f77b4\",\"line_width\":6,\"x\":{\"field\":\"x\"},\"y\":{\"field\":\"y\"}},\"id\":\"d085500c-8327-4367-b3a1-97faeb4bc78a\",\"type\":\"Line\"},{\"attributes\":{\"line_color\":\"red\",\"line_width\":3,\"x\":{\"field\":\"x\"},\"y\":{\"field\":\"y\"}},\"id\":\"30131e7a-36fc-4814-81ad-0ffc0a69b7b8\",\"type\":\"Line\"},{\"attributes\":{\"months\":[0,1,2,3,4,5,6,7,8,9,10,11]},\"id\":\"4ef24508-e867-422f-9dbf-e66fa16ec394\",\"type\":\"MonthsTicker\"},{\"attributes\":{\"data_source\":{\"id\":\"3984fe6c-aff8-4b7b-8c45-bf8c7d51bac7\",\"type\":\"ColumnDataSource\"},\"glyph\":{\"id\":\"30131e7a-36fc-4814-81ad-0ffc0a69b7b8\",\"type\":\"Line\"},\"hover_glyph\":null,\"muted_glyph\":null,\"nonselection_glyph\":{\"id\":\"0e2d6dca-af6b-4944-b2cc-d30d13b1c47c\",\"type\":\"Line\"},\"selection_glyph\":null,\"view\":{\"id\":\"9aba7d8e-597a-4022-911b-a5e0fedb66e0\",\"type\":\"CDSView\"}},\"id\":\"23c0bc28-2729-478b-b8c4-46bc921149be\",\"type\":\"GlyphRenderer\"},{\"attributes\":{},\"id\":\"7d30aba4-180a-4aa4-b119-e1c0f27bcfe8\",\"type\":\"UnionRenderers\"},{\"attributes\":{\"axis_label\":\"Date\",\"formatter\":{\"id\":\"ea4decee-c817-4b88-90eb-72a89ce94c4a\",\"type\":\"DatetimeTickFormatter\"},\"plot\":{\"id\":\"6e79e8ba-af40-4a7b-953a-d0555fb8c043\",\"subtype\":\"Figure\",\"type\":\"Plot\"},\"ticker\":{\"id\":\"cc82e03f-64fe-46fa-b8ad-1f6e27c50756\",\"type\":\"DatetimeTicker\"}},\"id\":\"c0045fcc-6d12-41e2-93b9-601c1f225d09\",\"type\":\"DatetimeAxis\"},{\"attributes\":{\"days\":[1,8,15,22]},\"id\":\"e50aeebb-45e6-4ec7-af79-381e4e8b5100\",\"type\":\"DaysTicker\"},{\"attributes\":{},\"id\":\"8480993c-72c2-4e06-bdc2-76316a1d0807\",\"type\":\"LinearScale\"},{\"attributes\":{\"data_source\":{\"id\":\"c0fedff2-3319-4a55-a4c6-7b5ae0a14def\",\"type\":\"ColumnDataSource\"},\"glyph\":{\"id\":\"fd92715d-c305-41c4-9abc-b5844f615c4c\",\"type\":\"Circle\"},\"hover_glyph\":null,\"muted_glyph\":null,\"nonselection_glyph\":{\"id\":\"8ed3fe00-a6fb-4d5c-bd3f-46fc30542003\",\"type\":\"Circle\"},\"selection_glyph\":null,\"view\":{\"id\":\"81a6b706-3026-48e4-85fa-ee2336e496a6\",\"type\":\"CDSView\"}},\"id\":\"e629dcc5-f810-494d-87fa-192930c1c68a\",\"type\":\"GlyphRenderer\"},{\"attributes\":{},\"id\":\"440cf6d1-3332-4510-b79a-06dc691deb5c\",\"type\":\"UnionRenderers\"},{\"attributes\":{\"callback\":null,\"end\":18000,\"start\":100},\"id\":\"dc2ac0d3-e9f7-4b31-a807-65555185b257\",\"type\":\"Range1d\"},{\"attributes\":{\"source\":{\"id\":\"3984fe6c-aff8-4b7b-8c45-bf8c7d51bac7\",\"type\":\"ColumnDataSource\"}},\"id\":\"9aba7d8e-597a-4022-911b-a5e0fedb66e0\",\"type\":\"CDSView\"},{\"attributes\":{\"line_color\":\"#1f77b4\",\"line_width\":4,\"x\":{\"field\":\"x\"},\"y\":{\"field\":\"y\"}},\"id\":\"208d6128-180a-43bd-b7c7-323d82f91225\",\"type\":\"Line\"},{\"attributes\":{\"plot\":{\"id\":\"6e79e8ba-af40-4a7b-953a-d0555fb8c043\",\"subtype\":\"Figure\",\"type\":\"Plot\"},\"ticker\":{\"id\":\"cc82e03f-64fe-46fa-b8ad-1f6e27c50756\",\"type\":\"DatetimeTicker\"}},\"id\":\"609f4e0e-cca0-452b-ac45-462d95b382b0\",\"type\":\"Grid\"},{\"attributes\":{\"line_alpha\":0.1,\"line_color\":\"#1f77b4\",\"line_width\":3,\"x\":{\"field\":\"x\"},\"y\":{\"field\":\"y\"}},\"id\":\"0e2d6dca-af6b-4944-b2cc-d30d13b1c47c\",\"type\":\"Line\"}],\"root_ids\":[\"6e79e8ba-af40-4a7b-953a-d0555fb8c043\"]},\"title\":\"Bokeh Application\",\"version\":\"0.13.0\"}};\n",
       "  var render_items = [{\"docid\":\"0c2535cf-880d-47a5-8da2-19cfeb95b3c7\",\"roots\":{\"6e79e8ba-af40-4a7b-953a-d0555fb8c043\":\"463d8a8b-41f6-4692-b5eb-69f139a39ed2\"}}];\n",
       "  root.Bokeh.embed.embed_items_notebook(docs_json, render_items);\n",
       "\n",
       "  }\n",
       "  if (root.Bokeh !== undefined) {\n",
       "    embed_document(root);\n",
       "  } else {\n",
       "    var attempts = 0;\n",
       "    var timer = setInterval(function(root) {\n",
       "      if (root.Bokeh !== undefined) {\n",
       "        embed_document(root);\n",
       "        clearInterval(timer);\n",
       "      }\n",
       "      attempts++;\n",
       "      if (attempts > 100) {\n",
       "        console.log(\"Bokeh: ERROR: Unable to run BokehJS code because BokehJS library is missing\")\n",
       "        clearInterval(timer);\n",
       "      }\n",
       "    }, 10, root)\n",
       "  }\n",
       "})(window);"
      ],
      "application/vnd.bokehjs_exec.v0+json": ""
     },
     "metadata": {
      "application/vnd.bokehjs_exec.v0+json": {
       "id": "6e79e8ba-af40-4a7b-953a-d0555fb8c043"
      }
     },
     "output_type": "display_data"
    }
   ],
   "source": [
    "date = tcs.index\n",
    "\n",
    "\n",
    "from bokeh.transform import linear_cmap\n",
    "from bokeh.palettes import Spectral6\n",
    "\n",
    "\n",
    "plot = figure(x_axis_type=\"datetime\", x_axis_label='Date', y_axis_label='Closing Price',y_range=[100,18000],plot_width=1000,plot_height=1000)\n",
    "\n",
    "plot.line(date, tcs.Close, line_width=3, legend='tcs')\n",
    "plot.line(date, np.where(np.logical_xor(tcs.volume_shock,tcs.volume_shock.shift()),tcs.Close,np.NaN), legend='TCS - Volume shock',line_color='red',line_width=3)\n",
    "\n",
    "plot.line(date, infy.Close, line_width=4, legend='infy')\n",
    "plot.line(date, np.where(np.logical_xor(infy.volume_shock,infy.volume_shock.shift()),infy.Close,np.NaN), legend='Infy - Volume shock',line_color='red',line_width=4)\n",
    "\n",
    "plot.line(date, niftyit.Close, line_width=6, legend='niftyit')\n",
    "plot.line(date, np.where(np.logical_xor(niftyit.volume_shock,niftyit.volume_shock.shift()),niftyit.Close,np.NaN), legend='NiftyIT - Volume shock',line_color='red',line_width=4)\n",
    "\n",
    "\n",
    "plot.circle(date, tcs.Close*tcs['price_shock_only'], size=8, legend='tcs closing Pricing shock without volume shock')\n",
    "plot.circle(date, infy.Close*infy['price_shock_only'], size=8, legend='infy closing Pricing shock without volume shock', fill_color=\"red\")\n",
    "plot.circle(date, niftyit.Close*niftyit['price_shock_only'], size=8, legend='niftyit closing Pricing shock without volume shock', fill_color=\"yellow\")\n",
    "\n",
    "show(plot)\n"
   ]
  },
  {
   "cell_type": "code",
   "execution_count": null,
   "metadata": {},
   "outputs": [],
   "source": []
  },
  {
   "cell_type": "code",
   "execution_count": null,
   "metadata": {},
   "outputs": [],
   "source": []
  },
  {
   "cell_type": "code",
   "execution_count": null,
   "metadata": {},
   "outputs": [],
   "source": []
  },
  {
   "cell_type": "code",
   "execution_count": null,
   "metadata": {},
   "outputs": [],
   "source": []
  },
  {
   "cell_type": "code",
   "execution_count": null,
   "metadata": {},
   "outputs": [],
   "source": []
  },
  {
   "cell_type": "code",
   "execution_count": null,
   "metadata": {},
   "outputs": [],
   "source": []
  },
  {
   "cell_type": "code",
   "execution_count": null,
   "metadata": {},
   "outputs": [],
   "source": []
  },
  {
   "cell_type": "code",
   "execution_count": null,
   "metadata": {},
   "outputs": [],
   "source": []
  },
  {
   "cell_type": "code",
   "execution_count": null,
   "metadata": {},
   "outputs": [],
   "source": []
  },
  {
   "cell_type": "code",
   "execution_count": null,
   "metadata": {},
   "outputs": [],
   "source": []
  },
  {
   "cell_type": "code",
   "execution_count": null,
   "metadata": {},
   "outputs": [],
   "source": []
  },
  {
   "cell_type": "code",
   "execution_count": null,
   "metadata": {},
   "outputs": [],
   "source": []
  },
  {
   "cell_type": "code",
   "execution_count": null,
   "metadata": {},
   "outputs": [],
   "source": []
  },
  {
   "cell_type": "code",
   "execution_count": null,
   "metadata": {},
   "outputs": [],
   "source": []
  },
  {
   "cell_type": "code",
   "execution_count": null,
   "metadata": {},
   "outputs": [],
   "source": []
  },
  {
   "cell_type": "code",
   "execution_count": null,
   "metadata": {},
   "outputs": [],
   "source": []
  },
  {
   "cell_type": "code",
   "execution_count": null,
   "metadata": {},
   "outputs": [],
   "source": []
  },
  {
   "cell_type": "code",
   "execution_count": null,
   "metadata": {},
   "outputs": [],
   "source": []
  },
  {
   "cell_type": "code",
   "execution_count": null,
   "metadata": {},
   "outputs": [],
   "source": []
  },
  {
   "cell_type": "code",
   "execution_count": null,
   "metadata": {},
   "outputs": [],
   "source": []
  },
  {
   "cell_type": "code",
   "execution_count": null,
   "metadata": {},
   "outputs": [],
   "source": []
  },
  {
   "cell_type": "code",
   "execution_count": null,
   "metadata": {},
   "outputs": [],
   "source": []
  },
  {
   "cell_type": "code",
   "execution_count": null,
   "metadata": {},
   "outputs": [],
   "source": []
  },
  {
   "cell_type": "code",
   "execution_count": null,
   "metadata": {},
   "outputs": [],
   "source": []
  },
  {
   "cell_type": "code",
   "execution_count": null,
   "metadata": {},
   "outputs": [],
   "source": []
  },
  {
   "cell_type": "code",
   "execution_count": null,
   "metadata": {},
   "outputs": [],
   "source": []
  },
  {
   "cell_type": "code",
   "execution_count": null,
   "metadata": {},
   "outputs": [],
   "source": []
  },
  {
   "cell_type": "code",
   "execution_count": null,
   "metadata": {},
   "outputs": [],
   "source": []
  },
  {
   "cell_type": "code",
   "execution_count": null,
   "metadata": {},
   "outputs": [],
   "source": []
  },
  {
   "cell_type": "code",
   "execution_count": null,
   "metadata": {},
   "outputs": [],
   "source": []
  },
  {
   "cell_type": "code",
   "execution_count": null,
   "metadata": {},
   "outputs": [],
   "source": []
  },
  {
   "cell_type": "code",
   "execution_count": null,
   "metadata": {},
   "outputs": [],
   "source": []
  },
  {
   "cell_type": "code",
   "execution_count": null,
   "metadata": {},
   "outputs": [],
   "source": []
  },
  {
   "cell_type": "code",
   "execution_count": null,
   "metadata": {},
   "outputs": [],
   "source": []
  },
  {
   "cell_type": "code",
   "execution_count": null,
   "metadata": {},
   "outputs": [],
   "source": []
  },
  {
   "cell_type": "code",
   "execution_count": null,
   "metadata": {},
   "outputs": [],
   "source": []
  },
  {
   "cell_type": "code",
   "execution_count": null,
   "metadata": {},
   "outputs": [],
   "source": []
  },
  {
   "cell_type": "code",
   "execution_count": null,
   "metadata": {},
   "outputs": [],
   "source": []
  },
  {
   "cell_type": "code",
   "execution_count": null,
   "metadata": {},
   "outputs": [],
   "source": []
  },
  {
   "cell_type": "code",
   "execution_count": null,
   "metadata": {},
   "outputs": [],
   "source": []
  },
  {
   "cell_type": "code",
   "execution_count": null,
   "metadata": {},
   "outputs": [],
   "source": []
  },
  {
   "cell_type": "code",
   "execution_count": null,
   "metadata": {},
   "outputs": [],
   "source": []
  },
  {
   "cell_type": "code",
   "execution_count": null,
   "metadata": {},
   "outputs": [],
   "source": []
  },
  {
   "cell_type": "code",
   "execution_count": null,
   "metadata": {},
   "outputs": [],
   "source": []
  },
  {
   "cell_type": "code",
   "execution_count": null,
   "metadata": {},
   "outputs": [],
   "source": []
  },
  {
   "cell_type": "code",
   "execution_count": null,
   "metadata": {},
   "outputs": [],
   "source": []
  },
  {
   "cell_type": "code",
   "execution_count": null,
   "metadata": {},
   "outputs": [],
   "source": []
  },
  {
   "cell_type": "code",
   "execution_count": null,
   "metadata": {},
   "outputs": [],
   "source": []
  },
  {
   "cell_type": "code",
   "execution_count": null,
   "metadata": {},
   "outputs": [],
   "source": []
  },
  {
   "cell_type": "code",
   "execution_count": null,
   "metadata": {},
   "outputs": [],
   "source": []
  },
  {
   "cell_type": "code",
   "execution_count": null,
   "metadata": {},
   "outputs": [],
   "source": []
  },
  {
   "cell_type": "code",
   "execution_count": null,
   "metadata": {},
   "outputs": [],
   "source": []
  },
  {
   "cell_type": "code",
   "execution_count": null,
   "metadata": {},
   "outputs": [],
   "source": []
  },
  {
   "cell_type": "code",
   "execution_count": null,
   "metadata": {},
   "outputs": [],
   "source": []
  },
  {
   "cell_type": "code",
   "execution_count": null,
   "metadata": {},
   "outputs": [],
   "source": []
  },
  {
   "cell_type": "code",
   "execution_count": null,
   "metadata": {},
   "outputs": [],
   "source": []
  },
  {
   "cell_type": "code",
   "execution_count": null,
   "metadata": {},
   "outputs": [],
   "source": []
  },
  {
   "cell_type": "code",
   "execution_count": null,
   "metadata": {},
   "outputs": [],
   "source": []
  },
  {
   "cell_type": "code",
   "execution_count": null,
   "metadata": {},
   "outputs": [],
   "source": []
  },
  {
   "cell_type": "code",
   "execution_count": null,
   "metadata": {},
   "outputs": [],
   "source": []
  },
  {
   "cell_type": "code",
   "execution_count": null,
   "metadata": {},
   "outputs": [],
   "source": []
  },
  {
   "cell_type": "code",
   "execution_count": null,
   "metadata": {},
   "outputs": [],
   "source": []
  },
  {
   "cell_type": "code",
   "execution_count": null,
   "metadata": {},
   "outputs": [],
   "source": []
  },
  {
   "cell_type": "code",
   "execution_count": null,
   "metadata": {},
   "outputs": [],
   "source": []
  },
  {
   "cell_type": "code",
   "execution_count": null,
   "metadata": {},
   "outputs": [],
   "source": []
  },
  {
   "cell_type": "code",
   "execution_count": null,
   "metadata": {},
   "outputs": [],
   "source": []
  },
  {
   "cell_type": "code",
   "execution_count": null,
   "metadata": {},
   "outputs": [],
   "source": []
  },
  {
   "cell_type": "code",
   "execution_count": null,
   "metadata": {},
   "outputs": [],
   "source": []
  },
  {
   "cell_type": "code",
   "execution_count": null,
   "metadata": {},
   "outputs": [],
   "source": []
  },
  {
   "cell_type": "code",
   "execution_count": null,
   "metadata": {},
   "outputs": [],
   "source": []
  },
  {
   "cell_type": "code",
   "execution_count": null,
   "metadata": {},
   "outputs": [],
   "source": []
  },
  {
   "cell_type": "code",
   "execution_count": null,
   "metadata": {},
   "outputs": [],
   "source": []
  },
  {
   "cell_type": "code",
   "execution_count": null,
   "metadata": {},
   "outputs": [],
   "source": []
  },
  {
   "cell_type": "code",
   "execution_count": null,
   "metadata": {},
   "outputs": [],
   "source": []
  },
  {
   "cell_type": "code",
   "execution_count": null,
   "metadata": {},
   "outputs": [],
   "source": []
  },
  {
   "cell_type": "code",
   "execution_count": null,
   "metadata": {},
   "outputs": [],
   "source": []
  },
  {
   "cell_type": "code",
   "execution_count": null,
   "metadata": {},
   "outputs": [],
   "source": []
  },
  {
   "cell_type": "code",
   "execution_count": null,
   "metadata": {},
   "outputs": [],
   "source": []
  },
  {
   "cell_type": "code",
   "execution_count": null,
   "metadata": {},
   "outputs": [],
   "source": []
  },
  {
   "cell_type": "code",
   "execution_count": null,
   "metadata": {},
   "outputs": [],
   "source": []
  },
  {
   "cell_type": "code",
   "execution_count": null,
   "metadata": {},
   "outputs": [],
   "source": []
  },
  {
   "cell_type": "code",
   "execution_count": null,
   "metadata": {},
   "outputs": [],
   "source": []
  },
  {
   "cell_type": "code",
   "execution_count": null,
   "metadata": {},
   "outputs": [],
   "source": []
  },
  {
   "cell_type": "code",
   "execution_count": null,
   "metadata": {},
   "outputs": [],
   "source": []
  },
  {
   "cell_type": "code",
   "execution_count": null,
   "metadata": {},
   "outputs": [],
   "source": []
  }
 ],
 "metadata": {
  "kernelspec": {
   "display_name": "Python 3",
   "language": "python",
   "name": "python3"
  },
  "language_info": {
   "codemirror_mode": {
    "name": "ipython",
    "version": 3
   },
   "file_extension": ".py",
   "mimetype": "text/x-python",
   "name": "python",
   "nbconvert_exporter": "python",
   "pygments_lexer": "ipython3",
   "version": "3.7.0"
  }
 },
 "nbformat": 4,
 "nbformat_minor": 2
}
